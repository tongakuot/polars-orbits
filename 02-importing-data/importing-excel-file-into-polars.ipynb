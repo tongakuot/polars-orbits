{
 "cells": [
  {
   "cell_type": "markdown",
   "metadata": {},
   "source": [
    "# Importing an Excel File into Polars"
   ]
  },
  {
   "cell_type": "markdown",
   "metadata": {},
   "source": [
    "## Load the required libraries"
   ]
  },
  {
   "cell_type": "code",
   "execution_count": 1,
   "metadata": {},
   "outputs": [
    {
     "name": "stdout",
     "output_type": "stream",
     "text": [
      "My system version is 3.12.4 (main, Jul  1 2024, 00:48:18) [Clang 15.0.0 (clang-1500.3.9.4)]; \n",
      "polars version is 1.6.0\n",
      "My system version is 3.12.4 (main, Jul  1 2024, 00:48:18) [Clang 15.0.0 (clang-1500.3.9.4)]; \n",
      "polars version is 1.6.0\n"
     ]
    }
   ],
   "source": [
    "# Load libraries\n",
    "import polars as pl\n",
    "import polars.selectors as cs\n",
    "import sys \n",
    "\n",
    "print(f'My system version is {sys.version}; \\npolars version is {pl.__version__}')"
   ]
  },
  {
   "cell_type": "markdown",
   "metadata": {},
   "source": [
    "## Import the data"
   ]
  },
  {
   "cell_type": "code",
   "execution_count": 2,
   "metadata": {},
   "outputs": [
    {
     "name": "stdout",
     "output_type": "stream",
     "text": [
      "shape: (5, 7)\n",
      "┌─────────────┬─────────────┬────────┬───────┬────────────┬────────────┬───────┐\n",
      "│ Bank Name   ┆ City        ┆ State  ┆ Cert  ┆ Acquiring  ┆ Closing    ┆ Fund  │\n",
      "│ ---         ┆ ---         ┆ ---    ┆ ---   ┆ Institutio ┆ Date       ┆ ---   │\n",
      "│ str         ┆ str         ┆ str    ┆ i64   ┆ n          ┆ ---        ┆ i64   │\n",
      "│             ┆             ┆        ┆       ┆ ---        ┆ str        ┆       │\n",
      "│             ┆             ┆        ┆       ┆ str        ┆            ┆       │\n",
      "╞═════════════╪═════════════╪════════╪═══════╪════════════╪════════════╪═══════╡\n",
      "│ Republic    ┆ Philadelphi ┆ PA     ┆ 27332 ┆ Fulton     ┆ 26-Apr-24  ┆ 10546 │\n",
      "│ First Bank  ┆ a           ┆        ┆       ┆ Bank,      ┆            ┆       │\n",
      "│ dba Republ… ┆             ┆        ┆       ┆ National   ┆            ┆       │\n",
      "│             ┆             ┆        ┆       ┆ Associat…  ┆            ┆       │\n",
      "│ Citizens    ┆ Sac City    ┆ IA     ┆ 8758  ┆ Iowa Trust ┆ 3-Nov-23   ┆ 10545 │\n",
      "│ Bank        ┆             ┆        ┆       ┆ & Savings  ┆            ┆       │\n",
      "│             ┆             ┆        ┆       ┆ Bank       ┆            ┆       │\n",
      "│ Heartland   ┆ Elkhart     ┆ KS     ┆ 25851 ┆ Dream      ┆ 28-Jul-23  ┆ 10544 │\n",
      "│ Tri-State   ┆             ┆        ┆       ┆ First      ┆            ┆       │\n",
      "│ Bank        ┆             ┆        ┆       ┆ Bank, N.A. ┆            ┆       │\n",
      "│ First       ┆ San         ┆ CA     ┆ 59017 ┆ JPMorgan   ┆ 1-May-23   ┆ 10543 │\n",
      "│ Republic    ┆ Francisco   ┆        ┆       ┆ Chase      ┆            ┆       │\n",
      "│ Bank        ┆             ┆        ┆       ┆ Bank, N.A. ┆            ┆       │\n",
      "│ Signature   ┆ New York    ┆ NY     ┆ 57053 ┆ Flagstar   ┆ 12-Mar-23  ┆ 10540 │\n",
      "│ Bank        ┆             ┆        ┆       ┆ Bank, N.A. ┆            ┆       │\n",
      "└─────────────┴─────────────┴────────┴───────┴────────────┴────────────┴───────┘\n",
      "shape: (5, 7)\n",
      "┌─────────────┬─────────────┬────────┬───────┬────────────┬────────────┬───────┐\n",
      "│ Bank Name   ┆ City        ┆ State  ┆ Cert  ┆ Acquiring  ┆ Closing    ┆ Fund  │\n",
      "│ ---         ┆ ---         ┆ ---    ┆ ---   ┆ Institutio ┆ Date       ┆ ---   │\n",
      "│ str         ┆ str         ┆ str    ┆ i64   ┆ n          ┆ ---        ┆ i64   │\n",
      "│             ┆             ┆        ┆       ┆ ---        ┆ str        ┆       │\n",
      "│             ┆             ┆        ┆       ┆ str        ┆            ┆       │\n",
      "╞═════════════╪═════════════╪════════╪═══════╪════════════╪════════════╪═══════╡\n",
      "│ Republic    ┆ Philadelphi ┆ PA     ┆ 27332 ┆ Fulton     ┆ 26-Apr-24  ┆ 10546 │\n",
      "│ First Bank  ┆ a           ┆        ┆       ┆ Bank,      ┆            ┆       │\n",
      "│ dba Republ… ┆             ┆        ┆       ┆ National   ┆            ┆       │\n",
      "│             ┆             ┆        ┆       ┆ Associat…  ┆            ┆       │\n",
      "│ Citizens    ┆ Sac City    ┆ IA     ┆ 8758  ┆ Iowa Trust ┆ 3-Nov-23   ┆ 10545 │\n",
      "│ Bank        ┆             ┆        ┆       ┆ & Savings  ┆            ┆       │\n",
      "│             ┆             ┆        ┆       ┆ Bank       ┆            ┆       │\n",
      "│ Heartland   ┆ Elkhart     ┆ KS     ┆ 25851 ┆ Dream      ┆ 28-Jul-23  ┆ 10544 │\n",
      "│ Tri-State   ┆             ┆        ┆       ┆ First      ┆            ┆       │\n",
      "│ Bank        ┆             ┆        ┆       ┆ Bank, N.A. ┆            ┆       │\n",
      "│ First       ┆ San         ┆ CA     ┆ 59017 ┆ JPMorgan   ┆ 1-May-23   ┆ 10543 │\n",
      "│ Republic    ┆ Francisco   ┆        ┆       ┆ Chase      ┆            ┆       │\n",
      "│ Bank        ┆             ┆        ┆       ┆ Bank, N.A. ┆            ┆       │\n",
      "│ Signature   ┆ New York    ┆ NY     ┆ 57053 ┆ Flagstar   ┆ 12-Mar-23  ┆ 10540 │\n",
      "│ Bank        ┆             ┆        ┆       ┆ Bank, N.A. ┆            ┆       │\n",
      "└─────────────┴─────────────┴────────┴───────┴────────────┴────────────┴───────┘\n"
     ]
    }
   ],
   "source": [
    "# Import data\n",
    "url = '../00-data/banklist.xlsx'\n",
    "\n",
    "failed_banks = (\n",
    "    pl.read_excel(\n",
    "        url,\n",
    "        engine='calamine',\n",
    "        read_options={'header_row': 4},\n",
    "    )\n",
    ")\n",
    "\n",
    "# Inspect output\n",
    "print(failed_banks.head())"
   ]
  },
  {
   "cell_type": "code",
   "execution_count": 3,
   "metadata": {},
   "outputs": [
    {
     "name": "stdout",
     "output_type": "stream",
     "text": [
      "shape: (5, 7)\n",
      "┌─────────────┬─────────────┬───────┬───────┬─────────────┬────────────┬───────┐\n",
      "│ bank_name   ┆ city        ┆ state ┆ cert  ┆ acquiring_i ┆ closing_da ┆ fund  │\n",
      "│ ---         ┆ ---         ┆ ---   ┆ ---   ┆ nstitution  ┆ te         ┆ ---   │\n",
      "│ str         ┆ str         ┆ str   ┆ i64   ┆ ---         ┆ ---        ┆ i64   │\n",
      "│             ┆             ┆       ┆       ┆ str         ┆ date       ┆       │\n",
      "╞═════════════╪═════════════╪═══════╪═══════╪═════════════╪════════════╪═══════╡\n",
      "│ Republic    ┆ Philadelphi ┆ PA    ┆ 27332 ┆ Fulton      ┆ 2024-04-26 ┆ 10546 │\n",
      "│ First Bank  ┆ a           ┆       ┆       ┆ Bank,       ┆            ┆       │\n",
      "│ dba Republ… ┆             ┆       ┆       ┆ National    ┆            ┆       │\n",
      "│             ┆             ┆       ┆       ┆ Associat…   ┆            ┆       │\n",
      "│ Citizens    ┆ Sac City    ┆ IA    ┆ 8758  ┆ Iowa Trust  ┆ 2023-11-03 ┆ 10545 │\n",
      "│ Bank        ┆             ┆       ┆       ┆ & Savings   ┆            ┆       │\n",
      "│             ┆             ┆       ┆       ┆ Bank        ┆            ┆       │\n",
      "│ Heartland   ┆ Elkhart     ┆ KS    ┆ 25851 ┆ Dream First ┆ 2023-07-28 ┆ 10544 │\n",
      "│ Tri-State   ┆             ┆       ┆       ┆ Bank, N.A.  ┆            ┆       │\n",
      "│ Bank        ┆             ┆       ┆       ┆             ┆            ┆       │\n",
      "│ First       ┆ San         ┆ CA    ┆ 59017 ┆ JPMorgan    ┆ 2023-05-01 ┆ 10543 │\n",
      "│ Republic    ┆ Francisco   ┆       ┆       ┆ Chase Bank, ┆            ┆       │\n",
      "│ Bank        ┆             ┆       ┆       ┆ N.A.        ┆            ┆       │\n",
      "│ Signature   ┆ New York    ┆ NY    ┆ 57053 ┆ Flagstar    ┆ 2023-03-12 ┆ 10540 │\n",
      "│ Bank        ┆             ┆       ┆       ┆ Bank, N.A.  ┆            ┆       │\n",
      "└─────────────┴─────────────┴───────┴───────┴─────────────┴────────────┴───────┘\n",
      "shape: (5, 7)\n",
      "┌─────────────┬─────────────┬───────┬───────┬─────────────┬────────────┬───────┐\n",
      "│ bank_name   ┆ city        ┆ state ┆ cert  ┆ acquiring_i ┆ closing_da ┆ fund  │\n",
      "│ ---         ┆ ---         ┆ ---   ┆ ---   ┆ nstitution  ┆ te         ┆ ---   │\n",
      "│ str         ┆ str         ┆ str   ┆ i64   ┆ ---         ┆ ---        ┆ i64   │\n",
      "│             ┆             ┆       ┆       ┆ str         ┆ date       ┆       │\n",
      "╞═════════════╪═════════════╪═══════╪═══════╪═════════════╪════════════╪═══════╡\n",
      "│ Republic    ┆ Philadelphi ┆ PA    ┆ 27332 ┆ Fulton      ┆ 2024-04-26 ┆ 10546 │\n",
      "│ First Bank  ┆ a           ┆       ┆       ┆ Bank,       ┆            ┆       │\n",
      "│ dba Republ… ┆             ┆       ┆       ┆ National    ┆            ┆       │\n",
      "│             ┆             ┆       ┆       ┆ Associat…   ┆            ┆       │\n",
      "│ Citizens    ┆ Sac City    ┆ IA    ┆ 8758  ┆ Iowa Trust  ┆ 2023-11-03 ┆ 10545 │\n",
      "│ Bank        ┆             ┆       ┆       ┆ & Savings   ┆            ┆       │\n",
      "│             ┆             ┆       ┆       ┆ Bank        ┆            ┆       │\n",
      "│ Heartland   ┆ Elkhart     ┆ KS    ┆ 25851 ┆ Dream First ┆ 2023-07-28 ┆ 10544 │\n",
      "│ Tri-State   ┆             ┆       ┆       ┆ Bank, N.A.  ┆            ┆       │\n",
      "│ Bank        ┆             ┆       ┆       ┆             ┆            ┆       │\n",
      "│ First       ┆ San         ┆ CA    ┆ 59017 ┆ JPMorgan    ┆ 2023-05-01 ┆ 10543 │\n",
      "│ Republic    ┆ Francisco   ┆       ┆       ┆ Chase Bank, ┆            ┆       │\n",
      "│ Bank        ┆             ┆       ┆       ┆ N.A.        ┆            ┆       │\n",
      "│ Signature   ┆ New York    ┆ NY    ┆ 57053 ┆ Flagstar    ┆ 2023-03-12 ┆ 10540 │\n",
      "│ Bank        ┆             ┆       ┆       ┆ Bank, N.A.  ┆            ┆       │\n",
      "└─────────────┴─────────────┴───────┴───────┴─────────────┴────────────┴───────┘\n"
     ]
    }
   ],
   "source": [
    "banks = (\n",
    "    failed_banks\n",
    "    .rename(lambda col: col.lower().replace(' ', '_').replace('\\xa0', ''))\n",
    "    # .columns \n",
    "    .with_columns(\n",
    "        closing_date=pl.col('closing_date').str.to_date('%d-%B-%y')\n",
    "    )\n",
    "    # .glimpse()\n",
    ")\n",
    "\n",
    "# inspect output\n",
    "print(banks.head())"
   ]
  },
  {
   "cell_type": "code",
   "execution_count": 4,
   "metadata": {},
   "outputs": [
    {
     "name": "stdout",
     "output_type": "stream",
     "text": [
      "Rows: 569\n",
      "Columns: 7\n",
      "$ Bank Name              <str> 'Republic First Bank dba Republic Bank', 'Citizens Bank', 'Heartland Tri-State Bank', 'First Republic Bank', 'Signature Bank', 'Silicon Valley Bank', 'Almena State Bank', 'First City Bank of Florida', 'The First State Bank', 'Ericson State Bank'\n",
      "$ City                   <str> 'Philadelphia', 'Sac City', 'Elkhart', 'San Francisco', 'New York', 'Santa Clara', 'Almena', 'Fort Walton Beach', 'Barboursville', 'Ericson'\n",
      "$ State                  <str> 'PA', 'IA', 'KS', 'CA', 'NY', 'CA', 'KS', 'FL', 'WV', 'NE'\n",
      "$ Cert                   <i64> 27332, 8758, 25851, 59017, 57053, 24735, 15426, 16748, 14361, 18265\n",
      "$ Acquiring Institution  <str> 'Fulton Bank, National Association', 'Iowa Trust & Savings Bank', 'Dream First Bank, N.A.', 'JPMorgan Chase Bank, N.A.', 'Flagstar Bank, N.A.', 'First–Citizens Bank & Trust Company', 'Equity Bank', 'United Fidelity Bank, fsb', 'MVB Bank, Inc.', 'Farmers and Merchants Bank'\n",
      "$ Closing Date           <str> '26-Apr-24', '3-Nov-23', '28-Jul-23', '1-May-23', '12-Mar-23', '10-Mar-23', '23-Oct-20', '16-Oct-20', '3-Apr-20', '14-Feb-20'\n",
      "$ Fund                   <i64> 10546, 10545, 10544, 10543, 10540, 10539, 10538, 10537, 10536, 10535\n",
      "\n",
      "Rows: 569\n",
      "Columns: 7\n",
      "$ Bank Name              <str> 'Republic First Bank dba Republic Bank', 'Citizens Bank', 'Heartland Tri-State Bank', 'First Republic Bank', 'Signature Bank', 'Silicon Valley Bank', 'Almena State Bank', 'First City Bank of Florida', 'The First State Bank', 'Ericson State Bank'\n",
      "$ City                   <str> 'Philadelphia', 'Sac City', 'Elkhart', 'San Francisco', 'New York', 'Santa Clara', 'Almena', 'Fort Walton Beach', 'Barboursville', 'Ericson'\n",
      "$ State                  <str> 'PA', 'IA', 'KS', 'CA', 'NY', 'CA', 'KS', 'FL', 'WV', 'NE'\n",
      "$ Cert                   <i64> 27332, 8758, 25851, 59017, 57053, 24735, 15426, 16748, 14361, 18265\n",
      "$ Acquiring Institution  <str> 'Fulton Bank, National Association', 'Iowa Trust & Savings Bank', 'Dream First Bank, N.A.', 'JPMorgan Chase Bank, N.A.', 'Flagstar Bank, N.A.', 'First–Citizens Bank & Trust Company', 'Equity Bank', 'United Fidelity Bank, fsb', 'MVB Bank, Inc.', 'Farmers and Merchants Bank'\n",
      "$ Closing Date           <str> '26-Apr-24', '3-Nov-23', '28-Jul-23', '1-May-23', '12-Mar-23', '10-Mar-23', '23-Oct-20', '16-Oct-20', '3-Apr-20', '14-Feb-20'\n",
      "$ Fund                   <i64> 10546, 10545, 10544, 10543, 10540, 10539, 10538, 10537, 10536, 10535\n",
      "\n"
     ]
    }
   ],
   "source": [
    "# Using the glimpse method\n",
    "(\n",
    "    failed_banks\n",
    "    .glimpse()\n",
    ")"
   ]
  },
  {
   "cell_type": "code",
   "execution_count": 5,
   "metadata": {},
   "outputs": [
    {
     "name": "stdout",
     "output_type": "stream",
     "text": [
      "shape: (5, 7)\n",
      "┌──────────────┬────────────┬───────┬───────┬─────────────┬─────────────┬──────┐\n",
      "│ bank_name    ┆ city       ┆ state ┆ cert  ┆ acquiring_i ┆ closing_dat ┆ fund │\n",
      "│ ---          ┆ ---        ┆ ---   ┆ ---   ┆ nstitution  ┆ e           ┆ ---  │\n",
      "│ str          ┆ str        ┆ str   ┆ i64   ┆ ---         ┆ ---         ┆ i64  │\n",
      "│              ┆            ┆       ┆       ┆ str         ┆ date        ┆      │\n",
      "╞══════════════╪════════════╪═══════╪═══════╪═════════════╪═════════════╪══════╡\n",
      "│ Superior     ┆ Hinsdale   ┆ IL    ┆ 32646 ┆ Superior    ┆ 2001-07-27  ┆ 6004 │\n",
      "│ Bank, FSB    ┆            ┆       ┆       ┆ Federal,    ┆             ┆      │\n",
      "│              ┆            ┆       ┆       ┆ FSB         ┆             ┆      │\n",
      "│ Malta        ┆ Malta      ┆ OH    ┆ 6629  ┆ North       ┆ 2001-05-03  ┆ 4648 │\n",
      "│ National     ┆            ┆       ┆       ┆ Valley Bank ┆             ┆      │\n",
      "│ Bank         ┆            ┆       ┆       ┆             ┆             ┆      │\n",
      "│ First        ┆ Manchester ┆ NH    ┆ 34264 ┆ Southern    ┆ 2001-02-02  ┆ 4647 │\n",
      "│ Alliance     ┆            ┆       ┆       ┆ New         ┆             ┆      │\n",
      "│ Bank & Trust ┆            ┆       ┆       ┆ Hampshire   ┆             ┆      │\n",
      "│ Co…          ┆            ┆       ┆       ┆ Bank & …    ┆             ┆      │\n",
      "│ National     ┆ Metropolis ┆ IL    ┆ 3815  ┆ Banterra    ┆ 2000-12-14  ┆ 4646 │\n",
      "│ State Bank   ┆            ┆       ┆       ┆ Bank of     ┆             ┆      │\n",
      "│ of Metropo…  ┆            ┆       ┆       ┆ Marion      ┆             ┆      │\n",
      "│ Bank of      ┆ Honolulu   ┆ HI    ┆ 21029 ┆ Bank of the ┆ 2000-10-13  ┆ 4645 │\n",
      "│ Honolulu     ┆            ┆       ┆       ┆ Orient      ┆             ┆      │\n",
      "└──────────────┴────────────┴───────┴───────┴─────────────┴─────────────┴──────┘\n",
      "shape: (5, 7)\n",
      "┌──────────────┬────────────┬───────┬───────┬─────────────┬─────────────┬──────┐\n",
      "│ bank_name    ┆ city       ┆ state ┆ cert  ┆ acquiring_i ┆ closing_dat ┆ fund │\n",
      "│ ---          ┆ ---        ┆ ---   ┆ ---   ┆ nstitution  ┆ e           ┆ ---  │\n",
      "│ str          ┆ str        ┆ str   ┆ i64   ┆ ---         ┆ ---         ┆ i64  │\n",
      "│              ┆            ┆       ┆       ┆ str         ┆ date        ┆      │\n",
      "╞══════════════╪════════════╪═══════╪═══════╪═════════════╪═════════════╪══════╡\n",
      "│ Superior     ┆ Hinsdale   ┆ IL    ┆ 32646 ┆ Superior    ┆ 2001-07-27  ┆ 6004 │\n",
      "│ Bank, FSB    ┆            ┆       ┆       ┆ Federal,    ┆             ┆      │\n",
      "│              ┆            ┆       ┆       ┆ FSB         ┆             ┆      │\n",
      "│ Malta        ┆ Malta      ┆ OH    ┆ 6629  ┆ North       ┆ 2001-05-03  ┆ 4648 │\n",
      "│ National     ┆            ┆       ┆       ┆ Valley Bank ┆             ┆      │\n",
      "│ Bank         ┆            ┆       ┆       ┆             ┆             ┆      │\n",
      "│ First        ┆ Manchester ┆ NH    ┆ 34264 ┆ Southern    ┆ 2001-02-02  ┆ 4647 │\n",
      "│ Alliance     ┆            ┆       ┆       ┆ New         ┆             ┆      │\n",
      "│ Bank & Trust ┆            ┆       ┆       ┆ Hampshire   ┆             ┆      │\n",
      "│ Co…          ┆            ┆       ┆       ┆ Bank & …    ┆             ┆      │\n",
      "│ National     ┆ Metropolis ┆ IL    ┆ 3815  ┆ Banterra    ┆ 2000-12-14  ┆ 4646 │\n",
      "│ State Bank   ┆            ┆       ┆       ┆ Bank of     ┆             ┆      │\n",
      "│ of Metropo…  ┆            ┆       ┆       ┆ Marion      ┆             ┆      │\n",
      "│ Bank of      ┆ Honolulu   ┆ HI    ┆ 21029 ┆ Bank of the ┆ 2000-10-13  ┆ 4645 │\n",
      "│ Honolulu     ┆            ┆       ┆       ┆ Orient      ┆             ┆      │\n",
      "└──────────────┴────────────┴───────┴───────┴─────────────┴─────────────┴──────┘\n"
     ]
    }
   ],
   "source": [
    "# inspect the last 5 rows\n",
    "print(banks.tail())"
   ]
  },
  {
   "cell_type": "code",
   "execution_count": 6,
   "metadata": {},
   "outputs": [
    {
     "data": {
      "text/html": [
       "<div><style>\n",
       ".dataframe > thead > tr,\n",
       ".dataframe > tbody > tr {\n",
       "  text-align: right;\n",
       "  white-space: pre-wrap;\n",
       "}\n",
       "</style>\n",
       "<small>shape: (1, 7)</small><table border=\"1\" class=\"dataframe\"><thead><tr><th>bank_name</th><th>city</th><th>state</th><th>cert</th><th>acquiring_institution</th><th>closing_date</th><th>fund</th></tr><tr><td>u32</td><td>u32</td><td>u32</td><td>u32</td><td>u32</td><td>u32</td><td>u32</td></tr></thead><tbody><tr><td>0</td><td>0</td><td>0</td><td>0</td><td>0</td><td>0</td><td>0</td></tr></tbody></table></div>"
      ],
      "text/plain": [
       "shape: (1, 7)\n",
       "┌───────────┬──────┬───────┬──────┬──────────────────────┬──────────────┬──────┐\n",
       "│ bank_name ┆ city ┆ state ┆ cert ┆ acquiring_institutio ┆ closing_date ┆ fund │\n",
       "│ ---       ┆ ---  ┆ ---   ┆ ---  ┆ n                    ┆ ---          ┆ ---  │\n",
       "│ u32       ┆ u32  ┆ u32   ┆ u32  ┆ ---                  ┆ u32          ┆ u32  │\n",
       "│           ┆      ┆       ┆      ┆ u32                  ┆              ┆      │\n",
       "╞═══════════╪══════╪═══════╪══════╪══════════════════════╪══════════════╪══════╡\n",
       "│ 0         ┆ 0    ┆ 0     ┆ 0    ┆ 0                    ┆ 0            ┆ 0    │\n",
       "└───────────┴──────┴───────┴──────┴──────────────────────┴──────────────┴──────┘"
      ]
     },
     "execution_count": null,
     "metadata": {},
     "output_type": "execute_result"
    }
   ],
   "source": [
    "# Check for missing values\n",
    "(\n",
    "    banks\n",
    "    .select(pl.all().is_null().sum())\n",
    ")"
   ]
  },
  {
   "cell_type": "code",
   "execution_count": 7,
   "metadata": {},
   "outputs": [
    {
     "data": {
      "text/html": [
       "<div><style>\n",
       ".dataframe > thead > tr,\n",
       ".dataframe > tbody > tr {\n",
       "  text-align: right;\n",
       "  white-space: pre-wrap;\n",
       "}\n",
       "</style>\n",
       "<small>shape: (1, 7)</small><table border=\"1\" class=\"dataframe\"><thead><tr><th>bank_name</th><th>city</th><th>state</th><th>cert</th><th>acquiring_institution</th><th>closing_date</th><th>fund</th></tr><tr><td>u32</td><td>u32</td><td>u32</td><td>u32</td><td>u32</td><td>u32</td><td>u32</td></tr></thead><tbody><tr><td>0</td><td>0</td><td>0</td><td>0</td><td>0</td><td>0</td><td>0</td></tr></tbody></table></div>"
      ],
      "text/plain": [
       "shape: (1, 7)\n",
       "┌───────────┬──────┬───────┬──────┬──────────────────────┬──────────────┬──────┐\n",
       "│ bank_name ┆ city ┆ state ┆ cert ┆ acquiring_institutio ┆ closing_date ┆ fund │\n",
       "│ ---       ┆ ---  ┆ ---   ┆ ---  ┆ n                    ┆ ---          ┆ ---  │\n",
       "│ u32       ┆ u32  ┆ u32   ┆ u32  ┆ ---                  ┆ u32          ┆ u32  │\n",
       "│           ┆      ┆       ┆      ┆ u32                  ┆              ┆      │\n",
       "╞═══════════╪══════╪═══════╪══════╪══════════════════════╪══════════════╪══════╡\n",
       "│ 0         ┆ 0    ┆ 0     ┆ 0    ┆ 0                    ┆ 0            ┆ 0    │\n",
       "└───────────┴──────┴───────┴──────┴──────────────────────┴──────────────┴──────┘"
      ]
     },
     "execution_count": null,
     "metadata": {},
     "output_type": "execute_result"
    }
   ],
   "source": [
    "(\n",
    "    banks\n",
    "    .select(pl.all().null_count())\n",
    ")"
   ]
  },
  {
   "cell_type": "code",
   "execution_count": 16,
   "metadata": {},
   "outputs": [],
   "source": []
  },
  {
   "cell_type": "code",
   "execution_count": 86,
   "metadata": {},
   "outputs": [
    {
     "name": "stdout",
     "output_type": "stream",
     "text": [
      "shape: (5, 12)\n",
      "┌─────────┬────────┬─────────┬─────────┬───┬───────┬─────────┬────────┬────────┐\n",
      "│ Former  ┆ Region ┆ Region  ┆ Region  ┆ … ┆ Scale ┆ Units   ┆ 2008   ┆ state  │\n",
      "│ Region  ┆ ---    ┆ Name    ┆ - Regio ┆   ┆ ---   ┆ ---     ┆ ---    ┆ ---    │\n",
      "│ ---     ┆ str    ┆ ---     ┆ nId     ┆   ┆ str   ┆ str     ┆ i64    ┆ str    │\n",
      "│ str     ┆        ┆ str     ┆ ---     ┆   ┆       ┆         ┆        ┆        │\n",
      "│         ┆        ┆         ┆ str     ┆   ┆       ┆         ┆        ┆        │\n",
      "╞═════════╪════════╪═════════╪═════════╪═══╪═══════╪═════════╪════════╪════════╡\n",
      "│ Greater ┆ KN.A3  ┆ Jonglei ┆ SS-JG   ┆ … ┆ units ┆ Persons ┆ 135860 ┆ jongle │\n",
      "│ Upper   ┆        ┆         ┆         ┆   ┆       ┆         ┆ 2      ┆ i      │\n",
      "│ Nile    ┆        ┆         ┆         ┆   ┆       ┆         ┆        ┆        │\n",
      "│ null    ┆ KN.A3  ┆ Jonglei ┆ SS-JG   ┆ … ┆ units ┆ Persons ┆ 207424 ┆ jongle │\n",
      "│         ┆        ┆         ┆         ┆   ┆       ┆         ┆        ┆ i      │\n",
      "│ null    ┆ KN.A3  ┆ Jonglei ┆ SS-JG   ┆ … ┆ units ┆ Persons ┆ 215121 ┆ jongle │\n",
      "│         ┆        ┆         ┆         ┆   ┆       ┆         ┆        ┆ i      │\n",
      "│ null    ┆ KN.A3  ┆ Jonglei ┆ SS-JG   ┆ … ┆ units ┆ Persons ┆ 179544 ┆ jongle │\n",
      "│         ┆        ┆         ┆         ┆   ┆       ┆         ┆        ┆ i      │\n",
      "│ null    ┆ KN.A3  ┆ Jonglei ┆ SS-JG   ┆ … ┆ units ┆ Persons ┆ 146141 ┆ jongle │\n",
      "│         ┆        ┆         ┆         ┆   ┆       ┆         ┆        ┆ i      │\n",
      "└─────────┴────────┴─────────┴─────────┴───┴───────┴─────────┴────────┴────────┘\n",
      "shape: (5, 12)\n",
      "┌─────────┬────────┬─────────┬─────────┬───┬───────┬─────────┬────────┬────────┐\n",
      "│ Former  ┆ Region ┆ Region  ┆ Region  ┆ … ┆ Scale ┆ Units   ┆ 2008   ┆ state  │\n",
      "│ Region  ┆ ---    ┆ Name    ┆ - Regio ┆   ┆ ---   ┆ ---     ┆ ---    ┆ ---    │\n",
      "│ ---     ┆ str    ┆ ---     ┆ nId     ┆   ┆ str   ┆ str     ┆ i64    ┆ str    │\n",
      "│ str     ┆        ┆ str     ┆ ---     ┆   ┆       ┆         ┆        ┆        │\n",
      "│         ┆        ┆         ┆ str     ┆   ┆       ┆         ┆        ┆        │\n",
      "╞═════════╪════════╪═════════╪═════════╪═══╪═══════╪═════════╪════════╪════════╡\n",
      "│ Greater ┆ KN.A3  ┆ Jonglei ┆ SS-JG   ┆ … ┆ units ┆ Persons ┆ 135860 ┆ jongle │\n",
      "│ Upper   ┆        ┆         ┆         ┆   ┆       ┆         ┆ 2      ┆ i      │\n",
      "│ Nile    ┆        ┆         ┆         ┆   ┆       ┆         ┆        ┆        │\n",
      "│ null    ┆ KN.A3  ┆ Jonglei ┆ SS-JG   ┆ … ┆ units ┆ Persons ┆ 207424 ┆ jongle │\n",
      "│         ┆        ┆         ┆         ┆   ┆       ┆         ┆        ┆ i      │\n",
      "│ null    ┆ KN.A3  ┆ Jonglei ┆ SS-JG   ┆ … ┆ units ┆ Persons ┆ 215121 ┆ jongle │\n",
      "│         ┆        ┆         ┆         ┆   ┆       ┆         ┆        ┆ i      │\n",
      "│ null    ┆ KN.A3  ┆ Jonglei ┆ SS-JG   ┆ … ┆ units ┆ Persons ┆ 179544 ┆ jongle │\n",
      "│         ┆        ┆         ┆         ┆   ┆       ┆         ┆        ┆ i      │\n",
      "│ null    ┆ KN.A3  ┆ Jonglei ┆ SS-JG   ┆ … ┆ units ┆ Persons ┆ 146141 ┆ jongle │\n",
      "│         ┆        ┆         ┆         ┆   ┆       ┆         ┆        ┆ i      │\n",
      "└─────────┴────────┴─────────┴─────────┴───┴───────┴─────────┴────────┴────────┘\n"
     ]
    }
   ],
   "source": [
    "# Looping through multiple Excel files in Polars\n",
    "from glob import glob \n",
    "multi_excel_files = glob('../00-data/multiple_excel_files/*.xlsx')\n",
    "\n",
    "census_multiple_files = (\n",
    "    pl.concat(\n",
    "        [\n",
    "            pl.read_excel(file)\n",
    "            .with_columns(\n",
    "                state=pl.lit(file).str.split('/').list.get(-1).str.replace('.xlsx', '')\n",
    "            )\n",
    "            for file in multi_excel_files]\n",
    "    )\n",
    "    \n",
    ")\n",
    "\n",
    "# Inspect output\n",
    "print(census_multiple_files.head())"
   ]
  },
  {
   "cell_type": "code",
   "execution_count": 4,
   "metadata": {},
   "outputs": [
    {
     "data": {
      "text/html": [
       "<div><style>\n",
       ".dataframe > thead > tr,\n",
       ".dataframe > tbody > tr {\n",
       "  text-align: right;\n",
       "  white-space: pre-wrap;\n",
       "}\n",
       "</style>\n",
       "<small>shape: (450, 5)</small><table border=\"1\" class=\"dataframe\"><thead><tr><th>Former Region</th><th>Region Name</th><th>Variable Name</th><th>Age Name</th><th>2008</th></tr><tr><td>str</td><td>str</td><td>str</td><td>str</td><td>i64</td></tr></thead><tbody><tr><td>&quot;Greater Bahr el Ghazal&quot;</td><td>&quot;Lakes&quot;</td><td>&quot;Population, Total (Number)&quot;</td><td>&quot;Total&quot;</td><td>695730</td></tr><tr><td>null</td><td>&quot;Lakes&quot;</td><td>&quot;Population, Total (Number)&quot;</td><td>&quot;0 to 4&quot;</td><td>106232</td></tr><tr><td>null</td><td>&quot;Lakes&quot;</td><td>&quot;Population, Total (Number)&quot;</td><td>&quot;5 to 9&quot;</td><td>109096</td></tr><tr><td>null</td><td>&quot;Lakes&quot;</td><td>&quot;Population, Total (Number)&quot;</td><td>&quot;10 to 14&quot;</td><td>88658</td></tr><tr><td>null</td><td>&quot;Lakes&quot;</td><td>&quot;Population, Total (Number)&quot;</td><td>&quot;15 to 19&quot;</td><td>71513</td></tr><tr><td>&hellip;</td><td>&hellip;</td><td>&hellip;</td><td>&hellip;</td><td>&hellip;</td></tr><tr><td>null</td><td>&quot;Northern Bahr el Ghazal&quot;</td><td>&quot;Population, Female (Number)&quot;</td><td>&quot;45 to 49&quot;</td><td>11781</td></tr><tr><td>null</td><td>&quot;Northern Bahr el Ghazal&quot;</td><td>&quot;Population, Female (Number)&quot;</td><td>&quot;50 to 54&quot;</td><td>9482</td></tr><tr><td>null</td><td>&quot;Northern Bahr el Ghazal&quot;</td><td>&quot;Population, Female (Number)&quot;</td><td>&quot;55 to 59&quot;</td><td>6273</td></tr><tr><td>null</td><td>&quot;Northern Bahr el Ghazal&quot;</td><td>&quot;Population, Female (Number)&quot;</td><td>&quot;60 to 64&quot;</td><td>5853</td></tr><tr><td>null</td><td>&quot;Northern Bahr el Ghazal&quot;</td><td>&quot;Population, Female (Number)&quot;</td><td>&quot;65+&quot;</td><td>12585</td></tr></tbody></table></div>"
      ],
      "text/plain": [
       "shape: (450, 5)\n",
       "┌───────────────────┬───────────────────┬──────────────────┬──────────┬────────┐\n",
       "│ Former Region     ┆ Region Name       ┆ Variable Name    ┆ Age Name ┆ 2008   │\n",
       "│ ---               ┆ ---               ┆ ---              ┆ ---      ┆ ---    │\n",
       "│ str               ┆ str               ┆ str              ┆ str      ┆ i64    │\n",
       "╞═══════════════════╪═══════════════════╪══════════════════╪══════════╪════════╡\n",
       "│ Greater Bahr el   ┆ Lakes             ┆ Population,      ┆ Total    ┆ 695730 │\n",
       "│ Ghazal            ┆                   ┆ Total (Number)   ┆          ┆        │\n",
       "│ null              ┆ Lakes             ┆ Population,      ┆ 0 to 4   ┆ 106232 │\n",
       "│                   ┆                   ┆ Total (Number)   ┆          ┆        │\n",
       "│ null              ┆ Lakes             ┆ Population,      ┆ 5 to 9   ┆ 109096 │\n",
       "│                   ┆                   ┆ Total (Number)   ┆          ┆        │\n",
       "│ null              ┆ Lakes             ┆ Population,      ┆ 10 to 14 ┆ 88658  │\n",
       "│                   ┆                   ┆ Total (Number)   ┆          ┆        │\n",
       "│ null              ┆ Lakes             ┆ Population,      ┆ 15 to 19 ┆ 71513  │\n",
       "│                   ┆                   ┆ Total (Number)   ┆          ┆        │\n",
       "│ …                 ┆ …                 ┆ …                ┆ …        ┆ …      │\n",
       "│ null              ┆ Northern Bahr el  ┆ Population,      ┆ 45 to 49 ┆ 11781  │\n",
       "│                   ┆ Ghazal            ┆ Female (Number)  ┆          ┆        │\n",
       "│ null              ┆ Northern Bahr el  ┆ Population,      ┆ 50 to 54 ┆ 9482   │\n",
       "│                   ┆ Ghazal            ┆ Female (Number)  ┆          ┆        │\n",
       "│ null              ┆ Northern Bahr el  ┆ Population,      ┆ 55 to 59 ┆ 6273   │\n",
       "│                   ┆ Ghazal            ┆ Female (Number)  ┆          ┆        │\n",
       "│ null              ┆ Northern Bahr el  ┆ Population,      ┆ 60 to 64 ┆ 5853   │\n",
       "│                   ┆ Ghazal            ┆ Female (Number)  ┆          ┆        │\n",
       "│ null              ┆ Northern Bahr el  ┆ Population,      ┆ 65+      ┆ 12585  │\n",
       "│                   ┆ Ghazal            ┆ Female (Number)  ┆          ┆        │\n",
       "└───────────────────┴───────────────────┴──────────────────┴──────────┴────────┘"
      ]
     },
     "execution_count": null,
     "metadata": {},
     "output_type": "execute_result"
    }
   ],
   "source": [
    "# Importing multiple Excel sheets\n",
    "url = '../00-data/multiple_excel_sheets.xlsx'\n",
    "\n",
    "(  # combine DataFrames with the polars concat method\n",
    "   pl.concat(\n",
    "       # Loop through multiple Excel sheets using the list comprehension\n",
    "       [   \n",
    "           # Read data in with the polars read_excel\n",
    "           pl.read_excel(\n",
    "               # File path\n",
    "               url, \n",
    "               # Specify columns of interest\n",
    "               columns=['Former Region', 'Region Name', 'Variable Name', 'Age Name', '2008'],\n",
    "               # Set sheet_id to i\n",
    "               sheet_id=i\n",
    "            ) \n",
    "           # Provide a list of sheet ids\n",
    "           for i in [1, 2, 3, 4, 5, 6, 7, 8, 9, 10]\n",
    "       ]\n",
    "   )\n",
    ")"
   ]
  },
  {
   "cell_type": "code",
   "execution_count": 91,
   "metadata": {},
   "outputs": [
    {
     "name": "stdout",
     "output_type": "stream",
     "text": [
      "shape: (450, 5)\n",
      "┌────────────────────┬─────────────┬──────────────────────┬──────────┬─────────┐\n",
      "│ Former Region      ┆ Region Name ┆ Variable Name        ┆ Age Name ┆ 2008    │\n",
      "│ ---                ┆ ---         ┆ ---                  ┆ ---      ┆ ---     │\n",
      "│ str                ┆ str         ┆ str                  ┆ str      ┆ i64     │\n",
      "╞════════════════════╪═════════════╪══════════════════════╪══════════╪═════════╡\n",
      "│ Greater Upper Nile ┆ Jonglei     ┆ Population, Total    ┆ Total    ┆ 1358602 │\n",
      "│                    ┆             ┆ (Number)             ┆          ┆         │\n",
      "│ null               ┆ Jonglei     ┆ Population, Total    ┆ 0 to 4   ┆ 207424  │\n",
      "│                    ┆             ┆ (Number)             ┆          ┆         │\n",
      "│ null               ┆ Jonglei     ┆ Population, Total    ┆ 5 to 9   ┆ 215121  │\n",
      "│                    ┆             ┆ (Number)             ┆          ┆         │\n",
      "│ null               ┆ Jonglei     ┆ Population, Total    ┆ 10 to 14 ┆ 179544  │\n",
      "│                    ┆             ┆ (Number)             ┆          ┆         │\n",
      "│ null               ┆ Jonglei     ┆ Population, Total    ┆ 15 to 19 ┆ 146141  │\n",
      "│                    ┆             ┆ (Number)             ┆          ┆         │\n",
      "│ …                  ┆ …           ┆ …                    ┆ …        ┆ …       │\n",
      "│ null               ┆ Unity       ┆ Population, Female   ┆ 45 to 49 ┆ 8115    │\n",
      "│                    ┆             ┆ (Number)             ┆          ┆         │\n",
      "│ null               ┆ Unity       ┆ Population, Female   ┆ 50 to 54 ┆ 6333    │\n",
      "│                    ┆             ┆ (Number)             ┆          ┆         │\n",
      "│ null               ┆ Unity       ┆ Population, Female   ┆ 55 to 59 ┆ 3580    │\n",
      "│                    ┆             ┆ (Number)             ┆          ┆         │\n",
      "│ null               ┆ Unity       ┆ Population, Female   ┆ 60 to 64 ┆ 3938    │\n",
      "│                    ┆             ┆ (Number)             ┆          ┆         │\n",
      "│ null               ┆ Unity       ┆ Population, Female   ┆ 65+      ┆ 7801    │\n",
      "│                    ┆             ┆ (Number)             ┆          ┆         │\n",
      "└────────────────────┴─────────────┴──────────────────────┴──────────┴─────────┘\n",
      "shape: (450, 5)\n",
      "┌────────────────────┬─────────────┬──────────────────────┬──────────┬─────────┐\n",
      "│ Former Region      ┆ Region Name ┆ Variable Name        ┆ Age Name ┆ 2008    │\n",
      "│ ---                ┆ ---         ┆ ---                  ┆ ---      ┆ ---     │\n",
      "│ str                ┆ str         ┆ str                  ┆ str      ┆ i64     │\n",
      "╞════════════════════╪═════════════╪══════════════════════╪══════════╪═════════╡\n",
      "│ Greater Upper Nile ┆ Jonglei     ┆ Population, Total    ┆ Total    ┆ 1358602 │\n",
      "│                    ┆             ┆ (Number)             ┆          ┆         │\n",
      "│ null               ┆ Jonglei     ┆ Population, Total    ┆ 0 to 4   ┆ 207424  │\n",
      "│                    ┆             ┆ (Number)             ┆          ┆         │\n",
      "│ null               ┆ Jonglei     ┆ Population, Total    ┆ 5 to 9   ┆ 215121  │\n",
      "│                    ┆             ┆ (Number)             ┆          ┆         │\n",
      "│ null               ┆ Jonglei     ┆ Population, Total    ┆ 10 to 14 ┆ 179544  │\n",
      "│                    ┆             ┆ (Number)             ┆          ┆         │\n",
      "│ null               ┆ Jonglei     ┆ Population, Total    ┆ 15 to 19 ┆ 146141  │\n",
      "│                    ┆             ┆ (Number)             ┆          ┆         │\n",
      "│ …                  ┆ …           ┆ …                    ┆ …        ┆ …       │\n",
      "│ null               ┆ Unity       ┆ Population, Female   ┆ 45 to 49 ┆ 8115    │\n",
      "│                    ┆             ┆ (Number)             ┆          ┆         │\n",
      "│ null               ┆ Unity       ┆ Population, Female   ┆ 50 to 54 ┆ 6333    │\n",
      "│                    ┆             ┆ (Number)             ┆          ┆         │\n",
      "│ null               ┆ Unity       ┆ Population, Female   ┆ 55 to 59 ┆ 3580    │\n",
      "│                    ┆             ┆ (Number)             ┆          ┆         │\n",
      "│ null               ┆ Unity       ┆ Population, Female   ┆ 60 to 64 ┆ 3938    │\n",
      "│                    ┆             ┆ (Number)             ┆          ┆         │\n",
      "│ null               ┆ Unity       ┆ Population, Female   ┆ 65+      ┆ 7801    │\n",
      "│                    ┆             ┆ (Number)             ┆          ┆         │\n",
      "└────────────────────┴─────────────┴──────────────────────┴──────────┴─────────┘\n"
     ]
    }
   ],
   "source": [
    "# importing multiple Excel files\n",
    "census = (\n",
    "    pl.concat(\n",
    "        [\n",
    "            pl.read_excel(\n",
    "                file,\n",
    "                columns=['Former Region', 'Region Name',\n",
    "                         'Variable Name', 'Age Name', '2008'\n",
    "                         ]\n",
    "            )\n",
    "            for file in multi_excel_files]\n",
    "    )\n",
    "    \n",
    ")\n",
    "\n",
    "# inspect output\n",
    "print(census)"
   ]
  },
  {
   "cell_type": "code",
   "execution_count": 92,
   "metadata": {},
   "outputs": [
    {
     "data": {
      "text/html": [
       "<div><style>\n",
       ".dataframe > thead > tr,\n",
       ".dataframe > tbody > tr {\n",
       "  text-align: right;\n",
       "  white-space: pre-wrap;\n",
       "}\n",
       "</style>\n",
       "<small>shape: (1, 5)</small><table border=\"1\" class=\"dataframe\"><thead><tr><th>Former Region</th><th>Region Name</th><th>Variable Name</th><th>Age Name</th><th>2008</th></tr><tr><td>u32</td><td>u32</td><td>u32</td><td>u32</td><td>u32</td></tr></thead><tbody><tr><td>440</td><td>0</td><td>0</td><td>0</td><td>0</td></tr></tbody></table></div>"
      ],
      "text/plain": [
       "shape: (1, 5)\n",
       "┌───────────────┬─────────────┬───────────────┬──────────┬──────┐\n",
       "│ Former Region ┆ Region Name ┆ Variable Name ┆ Age Name ┆ 2008 │\n",
       "│ ---           ┆ ---         ┆ ---           ┆ ---      ┆ ---  │\n",
       "│ u32           ┆ u32         ┆ u32           ┆ u32      ┆ u32  │\n",
       "╞═══════════════╪═════════════╪═══════════════╪══════════╪══════╡\n",
       "│ 440           ┆ 0           ┆ 0             ┆ 0        ┆ 0    │\n",
       "└───────────────┴─────────────┴───────────────┴──────────┴──────┘"
      ]
     },
     "execution_count": null,
     "metadata": {},
     "output_type": "execute_result"
    }
   ],
   "source": [
    "# missing for missing values\n",
    "(\n",
    "    census\n",
    "    .select(pl.all().null_count())\n",
    ")"
   ]
  },
  {
   "cell_type": "code",
   "execution_count": 94,
   "metadata": {},
   "outputs": [
    {
     "data": {
      "text/html": [
       "<div><style>\n",
       ".dataframe > thead > tr,\n",
       ".dataframe > tbody > tr {\n",
       "  text-align: right;\n",
       "  white-space: pre-wrap;\n",
       "}\n",
       "</style>\n",
       "<small>shape: (1, 5)</small><table border=\"1\" class=\"dataframe\"><thead><tr><th>Former Region</th><th>Region Name</th><th>Variable Name</th><th>Age Name</th><th>2008</th></tr><tr><td>u32</td><td>u32</td><td>u32</td><td>u32</td><td>u32</td></tr></thead><tbody><tr><td>440</td><td>0</td><td>0</td><td>0</td><td>0</td></tr></tbody></table></div>"
      ],
      "text/plain": [
       "shape: (1, 5)\n",
       "┌───────────────┬─────────────┬───────────────┬──────────┬──────┐\n",
       "│ Former Region ┆ Region Name ┆ Variable Name ┆ Age Name ┆ 2008 │\n",
       "│ ---           ┆ ---         ┆ ---           ┆ ---      ┆ ---  │\n",
       "│ u32           ┆ u32         ┆ u32           ┆ u32      ┆ u32  │\n",
       "╞═══════════════╪═════════════╪═══════════════╪══════════╪══════╡\n",
       "│ 440           ┆ 0           ┆ 0             ┆ 0        ┆ 0    │\n",
       "└───────────────┴─────────────┴───────────────┴──────────┴──────┘"
      ]
     },
     "execution_count": null,
     "metadata": {},
     "output_type": "execute_result"
    }
   ],
   "source": [
    "(\n",
    "    census\n",
    "    .select(pl.all().is_null().sum())\n",
    ")"
   ]
  },
  {
   "cell_type": "code",
   "execution_count": 100,
   "metadata": {},
   "outputs": [],
   "source": [
    "# fill null values forward\n",
    "census_cleaned = (\n",
    "    census\n",
    "    .rename(lambda col: col.lower().replace(' ', '_'))\n",
    "    .rename({\n",
    "        'region_name': 'state',\n",
    "        'variable_name': 'gender',\n",
    "        'age_name': 'age_category',\n",
    "        '2008': 'population'\n",
    "    })\n",
    "    .with_columns(former_region=pl.col('former_region').fill_null(strategy='forward'))\n",
    ")"
   ]
  },
  {
   "cell_type": "code",
   "execution_count": 101,
   "metadata": {},
   "outputs": [
    {
     "name": "stdout",
     "output_type": "stream",
     "text": [
      "Rows: 450\n",
      "Columns: 5\n",
      "$ former_region <str> 'Greater Upper Nile', 'Greater Upper Nile', 'Greater Upper Nile', 'Greater Upper Nile', 'Greater Upper Nile', 'Greater Upper Nile', 'Greater Upper Nile', 'Greater Upper Nile', 'Greater Upper Nile', 'Greater Upper Nile'\n",
      "$ state         <str> 'Jonglei', 'Jonglei', 'Jonglei', 'Jonglei', 'Jonglei', 'Jonglei', 'Jonglei', 'Jonglei', 'Jonglei', 'Jonglei'\n",
      "$ gender        <str> 'Population, Total (Number)', 'Population, Total (Number)', 'Population, Total (Number)', 'Population, Total (Number)', 'Population, Total (Number)', 'Population, Total (Number)', 'Population, Total (Number)', 'Population, Total (Number)', 'Population, Total (Number)', 'Population, Total (Number)'\n",
      "$ age_category  <str> 'Total', '0 to 4', '5 to 9', '10 to 14', '15 to 19', '20 to 24', '25 to 29', '30 to 34', '35 to 39', '40 to 44'\n",
      "$ population    <i64> 1358602, 207424, 215121, 179544, 146141, 121886, 109109, 90517, 74858, 58131\n",
      "\n",
      "Rows: 450\n",
      "Columns: 5\n",
      "$ former_region <str> 'Greater Upper Nile', 'Greater Upper Nile', 'Greater Upper Nile', 'Greater Upper Nile', 'Greater Upper Nile', 'Greater Upper Nile', 'Greater Upper Nile', 'Greater Upper Nile', 'Greater Upper Nile', 'Greater Upper Nile'\n",
      "$ state         <str> 'Jonglei', 'Jonglei', 'Jonglei', 'Jonglei', 'Jonglei', 'Jonglei', 'Jonglei', 'Jonglei', 'Jonglei', 'Jonglei'\n",
      "$ gender        <str> 'Population, Total (Number)', 'Population, Total (Number)', 'Population, Total (Number)', 'Population, Total (Number)', 'Population, Total (Number)', 'Population, Total (Number)', 'Population, Total (Number)', 'Population, Total (Number)', 'Population, Total (Number)', 'Population, Total (Number)'\n",
      "$ age_category  <str> 'Total', '0 to 4', '5 to 9', '10 to 14', '15 to 19', '20 to 24', '25 to 29', '30 to 34', '35 to 39', '40 to 44'\n",
      "$ population    <i64> 1358602, 207424, 215121, 179544, 146141, 121886, 109109, 90517, 74858, 58131\n",
      "\n"
     ]
    }
   ],
   "source": [
    "(\n",
    "    census_cleaned\n",
    "    .glimpse()\n",
    ")"
   ]
  },
  {
   "cell_type": "code",
   "execution_count": 103,
   "metadata": {},
   "outputs": [
    {
     "data": {
      "text/html": [
       "<div><style>\n",
       ".dataframe > thead > tr,\n",
       ".dataframe > tbody > tr {\n",
       "  text-align: right;\n",
       "  white-space: pre-wrap;\n",
       "}\n",
       "</style>\n",
       "<small>shape: (3,)</small><table border=\"1\" class=\"dataframe\"><thead><tr><th>former_region</th></tr><tr><td>str</td></tr></thead><tbody><tr><td>&quot;Greater Equatoria&quot;</td></tr><tr><td>&quot;Greater Bahr el Ghazal&quot;</td></tr><tr><td>&quot;Greater Upper Nile&quot;</td></tr></tbody></table></div>"
      ],
      "text/plain": [
       "shape: (3,)\n",
       "Series: 'former_region' [str]\n",
       "[\n",
       "\t\"Greater Equatoria\"\n",
       "\t\"Greater Bahr el Ghazal\"\n",
       "\t\"Greater Upper Nile\"\n",
       "]"
      ]
     },
     "execution_count": null,
     "metadata": {},
     "output_type": "execute_result"
    }
   ],
   "source": [
    "(\n",
    "    census_cleaned\n",
    "    .get_column('former_region')\n",
    "    .unique()\n",
    ")"
   ]
  },
  {
   "cell_type": "code",
   "execution_count": null,
   "metadata": {},
   "outputs": [],
   "source": []
  }
 ],
 "metadata": {
  "language_info": {
   "name": "python"
  }
 },
 "nbformat": 4,
 "nbformat_minor": 2
}
