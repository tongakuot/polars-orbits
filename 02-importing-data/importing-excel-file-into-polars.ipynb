{
 "cells": [
  {
   "cell_type": "markdown",
   "metadata": {},
   "source": [
    "# Importing an Excel File into Polars"
   ]
  },
  {
   "cell_type": "markdown",
   "metadata": {},
   "source": [
    "## Load the required libraries"
   ]
  },
  {
   "cell_type": "code",
   "execution_count": 1,
   "metadata": {},
   "outputs": [
    {
     "name": "stdout",
     "output_type": "stream",
     "text": [
      "My system version is 3.12.4 (main, Jul  1 2024, 00:48:18) [Clang 15.0.0 (clang-1500.3.9.4)]; \n",
      "polars version is 1.6.0\n",
      "My system version is 3.12.4 (main, Jul  1 2024, 00:48:18) [Clang 15.0.0 (clang-1500.3.9.4)]; \n",
      "polars version is 1.6.0\n"
     ]
    }
   ],
   "source": [
    "# Load libraries\n",
    "import polars as pl\n",
    "import polars.selectors as cs\n",
    "import sys \n",
    "\n",
    "print(f'My system version is {sys.version}; \\npolars version is {pl.__version__}')"
   ]
  },
  {
   "cell_type": "markdown",
   "metadata": {},
   "source": [
    "## Import the data"
   ]
  },
  {
   "cell_type": "code",
   "execution_count": 2,
   "metadata": {},
   "outputs": [
    {
     "name": "stdout",
     "output_type": "stream",
     "text": [
      "shape: (5, 7)\n",
      "┌─────────────┬─────────────┬────────┬───────┬────────────┬────────────┬───────┐\n",
      "│ Bank Name   ┆ City        ┆ State  ┆ Cert  ┆ Acquiring  ┆ Closing    ┆ Fund  │\n",
      "│ ---         ┆ ---         ┆ ---    ┆ ---   ┆ Institutio ┆ Date       ┆ ---   │\n",
      "│ str         ┆ str         ┆ str    ┆ i64   ┆ n          ┆ ---        ┆ i64   │\n",
      "│             ┆             ┆        ┆       ┆ ---        ┆ str        ┆       │\n",
      "│             ┆             ┆        ┆       ┆ str        ┆            ┆       │\n",
      "╞═════════════╪═════════════╪════════╪═══════╪════════════╪════════════╪═══════╡\n",
      "│ Republic    ┆ Philadelphi ┆ PA     ┆ 27332 ┆ Fulton     ┆ 26-Apr-24  ┆ 10546 │\n",
      "│ First Bank  ┆ a           ┆        ┆       ┆ Bank,      ┆            ┆       │\n",
      "│ dba Republ… ┆             ┆        ┆       ┆ National   ┆            ┆       │\n",
      "│             ┆             ┆        ┆       ┆ Associat…  ┆            ┆       │\n",
      "│ Citizens    ┆ Sac City    ┆ IA     ┆ 8758  ┆ Iowa Trust ┆ 3-Nov-23   ┆ 10545 │\n",
      "│ Bank        ┆             ┆        ┆       ┆ & Savings  ┆            ┆       │\n",
      "│             ┆             ┆        ┆       ┆ Bank       ┆            ┆       │\n",
      "│ Heartland   ┆ Elkhart     ┆ KS     ┆ 25851 ┆ Dream      ┆ 28-Jul-23  ┆ 10544 │\n",
      "│ Tri-State   ┆             ┆        ┆       ┆ First      ┆            ┆       │\n",
      "│ Bank        ┆             ┆        ┆       ┆ Bank, N.A. ┆            ┆       │\n",
      "│ First       ┆ San         ┆ CA     ┆ 59017 ┆ JPMorgan   ┆ 1-May-23   ┆ 10543 │\n",
      "│ Republic    ┆ Francisco   ┆        ┆       ┆ Chase      ┆            ┆       │\n",
      "│ Bank        ┆             ┆        ┆       ┆ Bank, N.A. ┆            ┆       │\n",
      "│ Signature   ┆ New York    ┆ NY     ┆ 57053 ┆ Flagstar   ┆ 12-Mar-23  ┆ 10540 │\n",
      "│ Bank        ┆             ┆        ┆       ┆ Bank, N.A. ┆            ┆       │\n",
      "└─────────────┴─────────────┴────────┴───────┴────────────┴────────────┴───────┘\n",
      "shape: (5, 7)\n",
      "┌─────────────┬─────────────┬────────┬───────┬────────────┬────────────┬───────┐\n",
      "│ Bank Name   ┆ City        ┆ State  ┆ Cert  ┆ Acquiring  ┆ Closing    ┆ Fund  │\n",
      "│ ---         ┆ ---         ┆ ---    ┆ ---   ┆ Institutio ┆ Date       ┆ ---   │\n",
      "│ str         ┆ str         ┆ str    ┆ i64   ┆ n          ┆ ---        ┆ i64   │\n",
      "│             ┆             ┆        ┆       ┆ ---        ┆ str        ┆       │\n",
      "│             ┆             ┆        ┆       ┆ str        ┆            ┆       │\n",
      "╞═════════════╪═════════════╪════════╪═══════╪════════════╪════════════╪═══════╡\n",
      "│ Republic    ┆ Philadelphi ┆ PA     ┆ 27332 ┆ Fulton     ┆ 26-Apr-24  ┆ 10546 │\n",
      "│ First Bank  ┆ a           ┆        ┆       ┆ Bank,      ┆            ┆       │\n",
      "│ dba Republ… ┆             ┆        ┆       ┆ National   ┆            ┆       │\n",
      "│             ┆             ┆        ┆       ┆ Associat…  ┆            ┆       │\n",
      "│ Citizens    ┆ Sac City    ┆ IA     ┆ 8758  ┆ Iowa Trust ┆ 3-Nov-23   ┆ 10545 │\n",
      "│ Bank        ┆             ┆        ┆       ┆ & Savings  ┆            ┆       │\n",
      "│             ┆             ┆        ┆       ┆ Bank       ┆            ┆       │\n",
      "│ Heartland   ┆ Elkhart     ┆ KS     ┆ 25851 ┆ Dream      ┆ 28-Jul-23  ┆ 10544 │\n",
      "│ Tri-State   ┆             ┆        ┆       ┆ First      ┆            ┆       │\n",
      "│ Bank        ┆             ┆        ┆       ┆ Bank, N.A. ┆            ┆       │\n",
      "│ First       ┆ San         ┆ CA     ┆ 59017 ┆ JPMorgan   ┆ 1-May-23   ┆ 10543 │\n",
      "│ Republic    ┆ Francisco   ┆        ┆       ┆ Chase      ┆            ┆       │\n",
      "│ Bank        ┆             ┆        ┆       ┆ Bank, N.A. ┆            ┆       │\n",
      "│ Signature   ┆ New York    ┆ NY     ┆ 57053 ┆ Flagstar   ┆ 12-Mar-23  ┆ 10540 │\n",
      "│ Bank        ┆             ┆        ┆       ┆ Bank, N.A. ┆            ┆       │\n",
      "└─────────────┴─────────────┴────────┴───────┴────────────┴────────────┴───────┘\n"
     ]
    }
   ],
   "source": [
    "# Import data\n",
    "url = '../00-data/banklist.xlsx'\n",
    "\n",
    "failed_banks = (\n",
    "    pl.read_excel(\n",
    "        url,\n",
    "        engine='calamine',\n",
    "        read_options={'header_row': 4},\n",
    "    )\n",
    ")\n",
    "\n",
    "# Inspect output\n",
    "print(failed_banks.head())"
   ]
  },
  {
   "cell_type": "code",
   "execution_count": 3,
   "metadata": {},
   "outputs": [
    {
     "name": "stdout",
     "output_type": "stream",
     "text": [
      "shape: (5, 7)\n",
      "┌─────────────┬─────────────┬───────┬───────┬─────────────┬────────────┬───────┐\n",
      "│ bank_name   ┆ city        ┆ state ┆ cert  ┆ acquiring_i ┆ closing_da ┆ fund  │\n",
      "│ ---         ┆ ---         ┆ ---   ┆ ---   ┆ nstitution  ┆ te         ┆ ---   │\n",
      "│ str         ┆ str         ┆ str   ┆ i64   ┆ ---         ┆ ---        ┆ i64   │\n",
      "│             ┆             ┆       ┆       ┆ str         ┆ date       ┆       │\n",
      "╞═════════════╪═════════════╪═══════╪═══════╪═════════════╪════════════╪═══════╡\n",
      "│ Republic    ┆ Philadelphi ┆ PA    ┆ 27332 ┆ Fulton      ┆ 2024-04-26 ┆ 10546 │\n",
      "│ First Bank  ┆ a           ┆       ┆       ┆ Bank,       ┆            ┆       │\n",
      "│ dba Republ… ┆             ┆       ┆       ┆ National    ┆            ┆       │\n",
      "│             ┆             ┆       ┆       ┆ Associat…   ┆            ┆       │\n",
      "│ Citizens    ┆ Sac City    ┆ IA    ┆ 8758  ┆ Iowa Trust  ┆ 2023-11-03 ┆ 10545 │\n",
      "│ Bank        ┆             ┆       ┆       ┆ & Savings   ┆            ┆       │\n",
      "│             ┆             ┆       ┆       ┆ Bank        ┆            ┆       │\n",
      "│ Heartland   ┆ Elkhart     ┆ KS    ┆ 25851 ┆ Dream First ┆ 2023-07-28 ┆ 10544 │\n",
      "│ Tri-State   ┆             ┆       ┆       ┆ Bank, N.A.  ┆            ┆       │\n",
      "│ Bank        ┆             ┆       ┆       ┆             ┆            ┆       │\n",
      "│ First       ┆ San         ┆ CA    ┆ 59017 ┆ JPMorgan    ┆ 2023-05-01 ┆ 10543 │\n",
      "│ Republic    ┆ Francisco   ┆       ┆       ┆ Chase Bank, ┆            ┆       │\n",
      "│ Bank        ┆             ┆       ┆       ┆ N.A.        ┆            ┆       │\n",
      "│ Signature   ┆ New York    ┆ NY    ┆ 57053 ┆ Flagstar    ┆ 2023-03-12 ┆ 10540 │\n",
      "│ Bank        ┆             ┆       ┆       ┆ Bank, N.A.  ┆            ┆       │\n",
      "└─────────────┴─────────────┴───────┴───────┴─────────────┴────────────┴───────┘\n",
      "shape: (5, 7)\n",
      "┌─────────────┬─────────────┬───────┬───────┬─────────────┬────────────┬───────┐\n",
      "│ bank_name   ┆ city        ┆ state ┆ cert  ┆ acquiring_i ┆ closing_da ┆ fund  │\n",
      "│ ---         ┆ ---         ┆ ---   ┆ ---   ┆ nstitution  ┆ te         ┆ ---   │\n",
      "│ str         ┆ str         ┆ str   ┆ i64   ┆ ---         ┆ ---        ┆ i64   │\n",
      "│             ┆             ┆       ┆       ┆ str         ┆ date       ┆       │\n",
      "╞═════════════╪═════════════╪═══════╪═══════╪═════════════╪════════════╪═══════╡\n",
      "│ Republic    ┆ Philadelphi ┆ PA    ┆ 27332 ┆ Fulton      ┆ 2024-04-26 ┆ 10546 │\n",
      "│ First Bank  ┆ a           ┆       ┆       ┆ Bank,       ┆            ┆       │\n",
      "│ dba Republ… ┆             ┆       ┆       ┆ National    ┆            ┆       │\n",
      "│             ┆             ┆       ┆       ┆ Associat…   ┆            ┆       │\n",
      "│ Citizens    ┆ Sac City    ┆ IA    ┆ 8758  ┆ Iowa Trust  ┆ 2023-11-03 ┆ 10545 │\n",
      "│ Bank        ┆             ┆       ┆       ┆ & Savings   ┆            ┆       │\n",
      "│             ┆             ┆       ┆       ┆ Bank        ┆            ┆       │\n",
      "│ Heartland   ┆ Elkhart     ┆ KS    ┆ 25851 ┆ Dream First ┆ 2023-07-28 ┆ 10544 │\n",
      "│ Tri-State   ┆             ┆       ┆       ┆ Bank, N.A.  ┆            ┆       │\n",
      "│ Bank        ┆             ┆       ┆       ┆             ┆            ┆       │\n",
      "│ First       ┆ San         ┆ CA    ┆ 59017 ┆ JPMorgan    ┆ 2023-05-01 ┆ 10543 │\n",
      "│ Republic    ┆ Francisco   ┆       ┆       ┆ Chase Bank, ┆            ┆       │\n",
      "│ Bank        ┆             ┆       ┆       ┆ N.A.        ┆            ┆       │\n",
      "│ Signature   ┆ New York    ┆ NY    ┆ 57053 ┆ Flagstar    ┆ 2023-03-12 ┆ 10540 │\n",
      "│ Bank        ┆             ┆       ┆       ┆ Bank, N.A.  ┆            ┆       │\n",
      "└─────────────┴─────────────┴───────┴───────┴─────────────┴────────────┴───────┘\n"
     ]
    }
   ],
   "source": [
    "banks = (\n",
    "    failed_banks\n",
    "    .rename(lambda col: col.lower().replace(' ', '_').replace('\\xa0', ''))\n",
    "    # .columns \n",
    "    .with_columns(\n",
    "        closing_date=pl.col('closing_date').str.to_date('%d-%B-%y')\n",
    "    )\n",
    "    # .glimpse()\n",
    ")\n",
    "\n",
    "# inspect output\n",
    "print(banks.head())"
   ]
  },
  {
   "cell_type": "code",
   "execution_count": 4,
   "metadata": {},
   "outputs": [
    {
     "name": "stdout",
     "output_type": "stream",
     "text": [
      "Rows: 569\n",
      "Columns: 7\n",
      "$ Bank Name              <str> 'Republic First Bank dba Republic Bank', 'Citizens Bank', 'Heartland Tri-State Bank', 'First Republic Bank', 'Signature Bank', 'Silicon Valley Bank', 'Almena State Bank', 'First City Bank of Florida', 'The First State Bank', 'Ericson State Bank'\n",
      "$ City                   <str> 'Philadelphia', 'Sac City', 'Elkhart', 'San Francisco', 'New York', 'Santa Clara', 'Almena', 'Fort Walton Beach', 'Barboursville', 'Ericson'\n",
      "$ State                  <str> 'PA', 'IA', 'KS', 'CA', 'NY', 'CA', 'KS', 'FL', 'WV', 'NE'\n",
      "$ Cert                   <i64> 27332, 8758, 25851, 59017, 57053, 24735, 15426, 16748, 14361, 18265\n",
      "$ Acquiring Institution  <str> 'Fulton Bank, National Association', 'Iowa Trust & Savings Bank', 'Dream First Bank, N.A.', 'JPMorgan Chase Bank, N.A.', 'Flagstar Bank, N.A.', 'First–Citizens Bank & Trust Company', 'Equity Bank', 'United Fidelity Bank, fsb', 'MVB Bank, Inc.', 'Farmers and Merchants Bank'\n",
      "$ Closing Date           <str> '26-Apr-24', '3-Nov-23', '28-Jul-23', '1-May-23', '12-Mar-23', '10-Mar-23', '23-Oct-20', '16-Oct-20', '3-Apr-20', '14-Feb-20'\n",
      "$ Fund                   <i64> 10546, 10545, 10544, 10543, 10540, 10539, 10538, 10537, 10536, 10535\n",
      "\n",
      "Rows: 569\n",
      "Columns: 7\n",
      "$ Bank Name              <str> 'Republic First Bank dba Republic Bank', 'Citizens Bank', 'Heartland Tri-State Bank', 'First Republic Bank', 'Signature Bank', 'Silicon Valley Bank', 'Almena State Bank', 'First City Bank of Florida', 'The First State Bank', 'Ericson State Bank'\n",
      "$ City                   <str> 'Philadelphia', 'Sac City', 'Elkhart', 'San Francisco', 'New York', 'Santa Clara', 'Almena', 'Fort Walton Beach', 'Barboursville', 'Ericson'\n",
      "$ State                  <str> 'PA', 'IA', 'KS', 'CA', 'NY', 'CA', 'KS', 'FL', 'WV', 'NE'\n",
      "$ Cert                   <i64> 27332, 8758, 25851, 59017, 57053, 24735, 15426, 16748, 14361, 18265\n",
      "$ Acquiring Institution  <str> 'Fulton Bank, National Association', 'Iowa Trust & Savings Bank', 'Dream First Bank, N.A.', 'JPMorgan Chase Bank, N.A.', 'Flagstar Bank, N.A.', 'First–Citizens Bank & Trust Company', 'Equity Bank', 'United Fidelity Bank, fsb', 'MVB Bank, Inc.', 'Farmers and Merchants Bank'\n",
      "$ Closing Date           <str> '26-Apr-24', '3-Nov-23', '28-Jul-23', '1-May-23', '12-Mar-23', '10-Mar-23', '23-Oct-20', '16-Oct-20', '3-Apr-20', '14-Feb-20'\n",
      "$ Fund                   <i64> 10546, 10545, 10544, 10543, 10540, 10539, 10538, 10537, 10536, 10535\n",
      "\n"
     ]
    }
   ],
   "source": [
    "# Using the glimpse method\n",
    "(\n",
    "    failed_banks\n",
    "    .glimpse()\n",
    ")"
   ]
  },
  {
   "cell_type": "code",
   "execution_count": 5,
   "metadata": {},
   "outputs": [
    {
     "name": "stdout",
     "output_type": "stream",
     "text": [
      "shape: (5, 7)\n",
      "┌──────────────┬────────────┬───────┬───────┬─────────────┬─────────────┬──────┐\n",
      "│ bank_name    ┆ city       ┆ state ┆ cert  ┆ acquiring_i ┆ closing_dat ┆ fund │\n",
      "│ ---          ┆ ---        ┆ ---   ┆ ---   ┆ nstitution  ┆ e           ┆ ---  │\n",
      "│ str          ┆ str        ┆ str   ┆ i64   ┆ ---         ┆ ---         ┆ i64  │\n",
      "│              ┆            ┆       ┆       ┆ str         ┆ date        ┆      │\n",
      "╞══════════════╪════════════╪═══════╪═══════╪═════════════╪═════════════╪══════╡\n",
      "│ Superior     ┆ Hinsdale   ┆ IL    ┆ 32646 ┆ Superior    ┆ 2001-07-27  ┆ 6004 │\n",
      "│ Bank, FSB    ┆            ┆       ┆       ┆ Federal,    ┆             ┆      │\n",
      "│              ┆            ┆       ┆       ┆ FSB         ┆             ┆      │\n",
      "│ Malta        ┆ Malta      ┆ OH    ┆ 6629  ┆ North       ┆ 2001-05-03  ┆ 4648 │\n",
      "│ National     ┆            ┆       ┆       ┆ Valley Bank ┆             ┆      │\n",
      "│ Bank         ┆            ┆       ┆       ┆             ┆             ┆      │\n",
      "│ First        ┆ Manchester ┆ NH    ┆ 34264 ┆ Southern    ┆ 2001-02-02  ┆ 4647 │\n",
      "│ Alliance     ┆            ┆       ┆       ┆ New         ┆             ┆      │\n",
      "│ Bank & Trust ┆            ┆       ┆       ┆ Hampshire   ┆             ┆      │\n",
      "│ Co…          ┆            ┆       ┆       ┆ Bank & …    ┆             ┆      │\n",
      "│ National     ┆ Metropolis ┆ IL    ┆ 3815  ┆ Banterra    ┆ 2000-12-14  ┆ 4646 │\n",
      "│ State Bank   ┆            ┆       ┆       ┆ Bank of     ┆             ┆      │\n",
      "│ of Metropo…  ┆            ┆       ┆       ┆ Marion      ┆             ┆      │\n",
      "│ Bank of      ┆ Honolulu   ┆ HI    ┆ 21029 ┆ Bank of the ┆ 2000-10-13  ┆ 4645 │\n",
      "│ Honolulu     ┆            ┆       ┆       ┆ Orient      ┆             ┆      │\n",
      "└──────────────┴────────────┴───────┴───────┴─────────────┴─────────────┴──────┘\n",
      "shape: (5, 7)\n",
      "┌──────────────┬────────────┬───────┬───────┬─────────────┬─────────────┬──────┐\n",
      "│ bank_name    ┆ city       ┆ state ┆ cert  ┆ acquiring_i ┆ closing_dat ┆ fund │\n",
      "│ ---          ┆ ---        ┆ ---   ┆ ---   ┆ nstitution  ┆ e           ┆ ---  │\n",
      "│ str          ┆ str        ┆ str   ┆ i64   ┆ ---         ┆ ---         ┆ i64  │\n",
      "│              ┆            ┆       ┆       ┆ str         ┆ date        ┆      │\n",
      "╞══════════════╪════════════╪═══════╪═══════╪═════════════╪═════════════╪══════╡\n",
      "│ Superior     ┆ Hinsdale   ┆ IL    ┆ 32646 ┆ Superior    ┆ 2001-07-27  ┆ 6004 │\n",
      "│ Bank, FSB    ┆            ┆       ┆       ┆ Federal,    ┆             ┆      │\n",
      "│              ┆            ┆       ┆       ┆ FSB         ┆             ┆      │\n",
      "│ Malta        ┆ Malta      ┆ OH    ┆ 6629  ┆ North       ┆ 2001-05-03  ┆ 4648 │\n",
      "│ National     ┆            ┆       ┆       ┆ Valley Bank ┆             ┆      │\n",
      "│ Bank         ┆            ┆       ┆       ┆             ┆             ┆      │\n",
      "│ First        ┆ Manchester ┆ NH    ┆ 34264 ┆ Southern    ┆ 2001-02-02  ┆ 4647 │\n",
      "│ Alliance     ┆            ┆       ┆       ┆ New         ┆             ┆      │\n",
      "│ Bank & Trust ┆            ┆       ┆       ┆ Hampshire   ┆             ┆      │\n",
      "│ Co…          ┆            ┆       ┆       ┆ Bank & …    ┆             ┆      │\n",
      "│ National     ┆ Metropolis ┆ IL    ┆ 3815  ┆ Banterra    ┆ 2000-12-14  ┆ 4646 │\n",
      "│ State Bank   ┆            ┆       ┆       ┆ Bank of     ┆             ┆      │\n",
      "│ of Metropo…  ┆            ┆       ┆       ┆ Marion      ┆             ┆      │\n",
      "│ Bank of      ┆ Honolulu   ┆ HI    ┆ 21029 ┆ Bank of the ┆ 2000-10-13  ┆ 4645 │\n",
      "│ Honolulu     ┆            ┆       ┆       ┆ Orient      ┆             ┆      │\n",
      "└──────────────┴────────────┴───────┴───────┴─────────────┴─────────────┴──────┘\n"
     ]
    }
   ],
   "source": [
    "# inspect the last 5 rows\n",
    "print(banks.tail())"
   ]
  },
  {
   "cell_type": "code",
   "execution_count": 6,
   "metadata": {},
   "outputs": [
    {
     "data": {
      "text/html": [
       "<div><style>\n",
       ".dataframe > thead > tr,\n",
       ".dataframe > tbody > tr {\n",
       "  text-align: right;\n",
       "  white-space: pre-wrap;\n",
       "}\n",
       "</style>\n",
       "<small>shape: (1, 7)</small><table border=\"1\" class=\"dataframe\"><thead><tr><th>bank_name</th><th>city</th><th>state</th><th>cert</th><th>acquiring_institution</th><th>closing_date</th><th>fund</th></tr><tr><td>u32</td><td>u32</td><td>u32</td><td>u32</td><td>u32</td><td>u32</td><td>u32</td></tr></thead><tbody><tr><td>0</td><td>0</td><td>0</td><td>0</td><td>0</td><td>0</td><td>0</td></tr></tbody></table></div>"
      ],
      "text/plain": [
       "shape: (1, 7)\n",
       "┌───────────┬──────┬───────┬──────┬──────────────────────┬──────────────┬──────┐\n",
       "│ bank_name ┆ city ┆ state ┆ cert ┆ acquiring_institutio ┆ closing_date ┆ fund │\n",
       "│ ---       ┆ ---  ┆ ---   ┆ ---  ┆ n                    ┆ ---          ┆ ---  │\n",
       "│ u32       ┆ u32  ┆ u32   ┆ u32  ┆ ---                  ┆ u32          ┆ u32  │\n",
       "│           ┆      ┆       ┆      ┆ u32                  ┆              ┆      │\n",
       "╞═══════════╪══════╪═══════╪══════╪══════════════════════╪══════════════╪══════╡\n",
       "│ 0         ┆ 0    ┆ 0     ┆ 0    ┆ 0                    ┆ 0            ┆ 0    │\n",
       "└───────────┴──────┴───────┴──────┴──────────────────────┴──────────────┴──────┘"
      ]
     },
     "execution_count": null,
     "metadata": {},
     "output_type": "execute_result"
    }
   ],
   "source": [
    "# Check for missing values\n",
    "(\n",
    "    banks\n",
    "    .select(pl.all().is_null().sum())\n",
    ")"
   ]
  },
  {
   "cell_type": "code",
   "execution_count": 7,
   "metadata": {},
   "outputs": [
    {
     "data": {
      "text/html": [
       "<div><style>\n",
       ".dataframe > thead > tr,\n",
       ".dataframe > tbody > tr {\n",
       "  text-align: right;\n",
       "  white-space: pre-wrap;\n",
       "}\n",
       "</style>\n",
       "<small>shape: (1, 7)</small><table border=\"1\" class=\"dataframe\"><thead><tr><th>bank_name</th><th>city</th><th>state</th><th>cert</th><th>acquiring_institution</th><th>closing_date</th><th>fund</th></tr><tr><td>u32</td><td>u32</td><td>u32</td><td>u32</td><td>u32</td><td>u32</td><td>u32</td></tr></thead><tbody><tr><td>0</td><td>0</td><td>0</td><td>0</td><td>0</td><td>0</td><td>0</td></tr></tbody></table></div>"
      ],
      "text/plain": [
       "shape: (1, 7)\n",
       "┌───────────┬──────┬───────┬──────┬──────────────────────┬──────────────┬──────┐\n",
       "│ bank_name ┆ city ┆ state ┆ cert ┆ acquiring_institutio ┆ closing_date ┆ fund │\n",
       "│ ---       ┆ ---  ┆ ---   ┆ ---  ┆ n                    ┆ ---          ┆ ---  │\n",
       "│ u32       ┆ u32  ┆ u32   ┆ u32  ┆ ---                  ┆ u32          ┆ u32  │\n",
       "│           ┆      ┆       ┆      ┆ u32                  ┆              ┆      │\n",
       "╞═══════════╪══════╪═══════╪══════╪══════════════════════╪══════════════╪══════╡\n",
       "│ 0         ┆ 0    ┆ 0     ┆ 0    ┆ 0                    ┆ 0            ┆ 0    │\n",
       "└───────────┴──────┴───────┴──────┴──────────────────────┴──────────────┴──────┘"
      ]
     },
     "execution_count": null,
     "metadata": {},
     "output_type": "execute_result"
    }
   ],
   "source": [
    "(\n",
    "    banks\n",
    "    .select(pl.all().null_count())\n",
    ")"
   ]
  },
  {
   "cell_type": "code",
   "execution_count": 16,
   "metadata": {},
   "outputs": [],
   "source": [
    "from glob import glob \n",
    "multi_excel_files = glob('../00-data/multiple_excel_files/*.xlsx')"
   ]
  },
  {
   "cell_type": "code",
   "execution_count": null,
   "metadata": {},
   "outputs": [],
   "source": []
  }
 ],
 "metadata": {
  "language_info": {
   "name": "python"
  }
 },
 "nbformat": 4,
 "nbformat_minor": 2
}
