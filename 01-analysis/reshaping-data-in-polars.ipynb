{
 "cells": [
  {
   "cell_type": "markdown",
   "metadata": {},
   "source": [
    "# Pivoting and Summarizing Student Grades\n"
   ]
  },
  {
   "cell_type": "markdown",
   "metadata": {},
   "source": [
    "## Loading the Required Libraries"
   ]
  },
  {
   "cell_type": "code",
   "execution_count": 2,
   "metadata": {},
   "outputs": [
    {
     "name": "stdout",
     "output_type": "stream",
     "text": [
      "My system version is 3.12.4 (main, Jul  1 2024, 00:48:18) [Clang 15.0.0 (clang-1500.3.9.4)];\n",
      "polars version is 1.5.0\n",
      "My system version is 3.12.4 (main, Jul  1 2024, 00:48:18) [Clang 15.0.0 (clang-1500.3.9.4)];\n",
      "polars version is 1.5.0\n"
     ]
    }
   ],
   "source": [
    "# Load Libraries\n",
    "import polars as pl\n",
    "import polars.selectors as cs\n",
    "import sys \n",
    "\n",
    "# Display system and polars versions\n",
    "print(f'My system version is {sys.version};\\npolars version is {pl.__version__}')"
   ]
  },
  {
   "cell_type": "markdown",
   "metadata": {},
   "source": [
    "## Creating a sample dataset"
   ]
  },
  {
   "cell_type": "code",
   "execution_count": 3,
   "metadata": {},
   "outputs": [],
   "source": [
    "# Create a sample student grades dataset\n",
    "import numpy as np\n",
    "np.random.seed(254)\n",
    "student_grades = {\n",
    "    'name': ['Ayen', 'Akuien', 'Garang', 'Dut', 'Atong', 'Nyakang', 'Lokule', 'Gatjang', 'Ojuok', 'Omot'],\n",
    "    'english': np.random.normal(loc=85, scale=12, size=10),\n",
    "    'mathematics': np.random.normal(loc=80, scale=18, size=10),\n",
    "    'data_science': np.random.normal(loc=75, scale=15, size=10)\n",
    "}"
   ]
  },
  {
   "cell_type": "code",
   "execution_count": 4,
   "metadata": {},
   "outputs": [
    {
     "name": "stdout",
     "output_type": "stream",
     "text": [
      "shape: (10, 4)\n",
      "┌─────────┬─────────┬─────────────┬──────────────┐\n",
      "│ name    ┆ english ┆ mathematics ┆ data_science │\n",
      "│ ---     ┆ ---     ┆ ---         ┆ ---          │\n",
      "│ str     ┆ f64     ┆ f64         ┆ f64          │\n",
      "╞═════════╪═════════╪═════════════╪══════════════╡\n",
      "│ Ayen    ┆ 100.0   ┆ 69.9        ┆ 88.2         │\n",
      "│ Akuien  ┆ 87.3    ┆ 96.1        ┆ 59.4         │\n",
      "│ Garang  ┆ 84.1    ┆ 83.8        ┆ 66.7         │\n",
      "│ Dut     ┆ 70.2    ┆ 51.9        ┆ 74.2         │\n",
      "│ Atong   ┆ 100.0   ┆ 100.0       ┆ 90.3         │\n",
      "│ Nyakang ┆ 75.4    ┆ 99.7        ┆ 68.4         │\n",
      "│ Lokule  ┆ 75.9    ┆ 94.9        ┆ 94.9         │\n",
      "│ Gatjang ┆ 92.9    ┆ 78.4        ┆ 77.4         │\n",
      "│ Ojuok   ┆ 93.1    ┆ 100.0       ┆ 66.0         │\n",
      "│ Omot    ┆ 79.4    ┆ 78.6        ┆ 73.1         │\n",
      "└─────────┴─────────┴─────────────┴──────────────┘\n",
      "shape: (10, 4)\n",
      "┌─────────┬─────────┬─────────────┬──────────────┐\n",
      "│ name    ┆ english ┆ mathematics ┆ data_science │\n",
      "│ ---     ┆ ---     ┆ ---         ┆ ---          │\n",
      "│ str     ┆ f64     ┆ f64         ┆ f64          │\n",
      "╞═════════╪═════════╪═════════════╪══════════════╡\n",
      "│ Ayen    ┆ 100.0   ┆ 69.9        ┆ 88.2         │\n",
      "│ Akuien  ┆ 87.3    ┆ 96.1        ┆ 59.4         │\n",
      "│ Garang  ┆ 84.1    ┆ 83.8        ┆ 66.7         │\n",
      "│ Dut     ┆ 70.2    ┆ 51.9        ┆ 74.2         │\n",
      "│ Atong   ┆ 100.0   ┆ 100.0       ┆ 90.3         │\n",
      "│ Nyakang ┆ 75.4    ┆ 99.7        ┆ 68.4         │\n",
      "│ Lokule  ┆ 75.9    ┆ 94.9        ┆ 94.9         │\n",
      "│ Gatjang ┆ 92.9    ┆ 78.4        ┆ 77.4         │\n",
      "│ Ojuok   ┆ 93.1    ┆ 100.0       ┆ 66.0         │\n",
      "│ Omot    ┆ 79.4    ┆ 78.6        ┆ 73.1         │\n",
      "└─────────┴─────────┴─────────────┴──────────────┘\n"
     ]
    }
   ],
   "source": [
    "student_grades_2 = (\n",
    "    pl.DataFrame(student_grades)\n",
    "    .with_columns(\n",
    "        english=pl.when(pl.col('english') > 100).then(100).otherwise(pl.col('english').round(1)),\n",
    "        mathematics=pl.when(pl.col('mathematics') > 100).then(100).otherwise(pl.col('mathematics').round(1)),\n",
    "        data_science=pl.when(pl.col('data_science') > 100).then(100).otherwise(pl.col('data_science').round(1))\n",
    "    )\n",
    ")\n",
    "\n",
    "# Inspect output\n",
    "print(student_grades_2)"
   ]
  },
  {
   "cell_type": "code",
   "execution_count": 5,
   "metadata": {},
   "outputs": [
    {
     "name": "stdout",
     "output_type": "stream",
     "text": [
      "shape: (10, 5)\n",
      "┌─────────┬─────────┬─────────────┬──────────────┬───────────┐\n",
      "│ name    ┆ english ┆ mathematics ┆ data_science ┆ avg_grade │\n",
      "│ ---     ┆ ---     ┆ ---         ┆ ---          ┆ ---       │\n",
      "│ str     ┆ f64     ┆ f64         ┆ f64          ┆ f64       │\n",
      "╞═════════╪═════════╪═════════════╪══════════════╪═══════════╡\n",
      "│ Ayen    ┆ 100.0   ┆ 69.9        ┆ 88.2         ┆ 86.0      │\n",
      "│ Akuien  ┆ 87.3    ┆ 96.1        ┆ 59.4         ┆ 80.9      │\n",
      "│ Garang  ┆ 84.1    ┆ 83.8        ┆ 66.7         ┆ 78.2      │\n",
      "│ Dut     ┆ 70.2    ┆ 51.9        ┆ 74.2         ┆ 65.4      │\n",
      "│ Atong   ┆ 100.0   ┆ 100.0       ┆ 90.3         ┆ 96.8      │\n",
      "│ Nyakang ┆ 75.4    ┆ 99.7        ┆ 68.4         ┆ 81.2      │\n",
      "│ Lokule  ┆ 75.9    ┆ 94.9        ┆ 94.9         ┆ 88.6      │\n",
      "│ Gatjang ┆ 92.9    ┆ 78.4        ┆ 77.4         ┆ 82.9      │\n",
      "│ Ojuok   ┆ 93.1    ┆ 100.0       ┆ 66.0         ┆ 86.4      │\n",
      "│ Omot    ┆ 79.4    ┆ 78.6        ┆ 73.1         ┆ 77.0      │\n",
      "└─────────┴─────────┴─────────────┴──────────────┴───────────┘\n",
      "shape: (10, 5)\n",
      "┌─────────┬─────────┬─────────────┬──────────────┬───────────┐\n",
      "│ name    ┆ english ┆ mathematics ┆ data_science ┆ avg_grade │\n",
      "│ ---     ┆ ---     ┆ ---         ┆ ---          ┆ ---       │\n",
      "│ str     ┆ f64     ┆ f64         ┆ f64          ┆ f64       │\n",
      "╞═════════╪═════════╪═════════════╪══════════════╪═══════════╡\n",
      "│ Ayen    ┆ 100.0   ┆ 69.9        ┆ 88.2         ┆ 86.0      │\n",
      "│ Akuien  ┆ 87.3    ┆ 96.1        ┆ 59.4         ┆ 80.9      │\n",
      "│ Garang  ┆ 84.1    ┆ 83.8        ┆ 66.7         ┆ 78.2      │\n",
      "│ Dut     ┆ 70.2    ┆ 51.9        ┆ 74.2         ┆ 65.4      │\n",
      "│ Atong   ┆ 100.0   ┆ 100.0       ┆ 90.3         ┆ 96.8      │\n",
      "│ Nyakang ┆ 75.4    ┆ 99.7        ┆ 68.4         ┆ 81.2      │\n",
      "│ Lokule  ┆ 75.9    ┆ 94.9        ┆ 94.9         ┆ 88.6      │\n",
      "│ Gatjang ┆ 92.9    ┆ 78.4        ┆ 77.4         ┆ 82.9      │\n",
      "│ Ojuok   ┆ 93.1    ┆ 100.0       ┆ 66.0         ┆ 86.4      │\n",
      "│ Omot    ┆ 79.4    ┆ 78.6        ┆ 73.1         ┆ 77.0      │\n",
      "└─────────┴─────────┴─────────────┴──────────────┴───────────┘\n"
     ]
    }
   ],
   "source": [
    "# Compute each student average grade\n",
    "avg_grade = (\n",
    "    student_grades_2\n",
    "    .with_columns(avg_grade=pl.mean_horizontal(cs.float()).round(1))\n",
    ")\n",
    "\n",
    "# inspect output\n",
    "print(avg_grade)"
   ]
  },
  {
   "cell_type": "code",
   "execution_count": 6,
   "metadata": {},
   "outputs": [
    {
     "name": "stdout",
     "output_type": "stream",
     "text": [
      "shape: (20, 3)\n",
      "┌─────────┬─────────────┬───────┐\n",
      "│ name    ┆ subject     ┆ grade │\n",
      "│ ---     ┆ ---         ┆ ---   │\n",
      "│ str     ┆ str         ┆ f64   │\n",
      "╞═════════╪═════════════╪═══════╡\n",
      "│ Ojuok   ┆ mathematics ┆ 100.0 │\n",
      "│ Ojuok   ┆ english     ┆ 93.1  │\n",
      "│ Atong   ┆ english     ┆ 100.0 │\n",
      "│ Atong   ┆ mathematics ┆ 100.0 │\n",
      "│ Omot    ┆ english     ┆ 79.4  │\n",
      "│ …       ┆ …           ┆ …     │\n",
      "│ Gatjang ┆ mathematics ┆ 78.4  │\n",
      "│ Garang  ┆ english     ┆ 84.1  │\n",
      "│ Garang  ┆ mathematics ┆ 83.8  │\n",
      "│ Akuien  ┆ mathematics ┆ 96.1  │\n",
      "│ Akuien  ┆ english     ┆ 87.3  │\n",
      "└─────────┴─────────────┴───────┘\n",
      "shape: (20, 3)\n",
      "┌─────────┬─────────────┬───────┐\n",
      "│ name    ┆ subject     ┆ grade │\n",
      "│ ---     ┆ ---         ┆ ---   │\n",
      "│ str     ┆ str         ┆ f64   │\n",
      "╞═════════╪═════════════╪═══════╡\n",
      "│ Ojuok   ┆ mathematics ┆ 100.0 │\n",
      "│ Ojuok   ┆ english     ┆ 93.1  │\n",
      "│ Atong   ┆ english     ┆ 100.0 │\n",
      "│ Atong   ┆ mathematics ┆ 100.0 │\n",
      "│ Omot    ┆ english     ┆ 79.4  │\n",
      "│ …       ┆ …           ┆ …     │\n",
      "│ Gatjang ┆ mathematics ┆ 78.4  │\n",
      "│ Garang  ┆ english     ┆ 84.1  │\n",
      "│ Garang  ┆ mathematics ┆ 83.8  │\n",
      "│ Akuien  ┆ mathematics ┆ 96.1  │\n",
      "│ Akuien  ┆ english     ┆ 87.3  │\n",
      "└─────────┴─────────────┴───────┘\n"
     ]
    }
   ],
   "source": [
    "# Extract two best grades per student\n",
    "top_two_grades = (\n",
    "    student_grades_2\n",
    "    .unpivot(index='name', value_name='grade', variable_name='subject')\n",
    "    .group_by('name')\n",
    "    .agg(pl.all().top_k_by('grade', 2))\n",
    "    .explode(pl.all().exclude('name'))\n",
    ")\n",
    "\n",
    "# Inspect output\n",
    "print(top_two_grades)"
   ]
  },
  {
   "cell_type": "code",
   "execution_count": null,
   "metadata": {},
   "outputs": [],
   "source": []
  }
 ],
 "metadata": {
  "language_info": {
   "name": "python"
  }
 },
 "nbformat": 4,
 "nbformat_minor": 2
}
