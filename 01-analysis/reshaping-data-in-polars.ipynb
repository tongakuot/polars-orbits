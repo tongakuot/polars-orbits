{
 "cells": [
  {
   "cell_type": "code",
   "execution_count": 1,
   "metadata": {},
   "outputs": [
    {
     "name": "stdout",
     "output_type": "stream",
     "text": [
      "My system version is 3.12.4 (main, Jul  1 2024, 00:48:18) [Clang 15.0.0 (clang-1500.3.9.4)];\n",
      "polars version is 1.2.1\n",
      "My system version is 3.12.4 (main, Jul  1 2024, 00:48:18) [Clang 15.0.0 (clang-1500.3.9.4)];\n",
      "polars version is 1.2.1\n"
     ]
    }
   ],
   "source": [
    "# Load Libraries\n",
    "import polars as pl\n",
    "import polars.selectors as cs\n",
    "import sys \n",
    "\n",
    "# Display system and polars versions\n",
    "print(f'My system version is {sys.version};\\npolars version is {pl.__version__}')"
   ]
  }
 ],
 "metadata": {
  "language_info": {
   "name": "python"
  }
 },
 "nbformat": 4,
 "nbformat_minor": 2
}
