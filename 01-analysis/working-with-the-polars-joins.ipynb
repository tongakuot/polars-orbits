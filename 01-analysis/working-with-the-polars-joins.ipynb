{
 "cells": [
  {
   "cell_type": "code",
   "execution_count": 2,
   "metadata": {},
   "outputs": [
    {
     "name": "stdout",
     "output_type": "stream",
     "text": [
      "My system version is 3.12.4 (main, Jul  1 2024, 00:48:18) [Clang 15.0.0 (clang-1500.3.9.4)];\n",
      "polars version is 1.6.0\n",
      "My system version is 3.12.4 (main, Jul  1 2024, 00:48:18) [Clang 15.0.0 (clang-1500.3.9.4)];\n",
      "polars version is 1.6.0\n"
     ]
    }
   ],
   "source": [
    "# Load Libraries\n",
    "import polars as pl\n",
    "import polars.selectors as cs\n",
    "import numpy as np\n",
    "import sys \n",
    "\n",
    "# Display system and polars versions\n",
    "print(f'My system version is {sys.version};\\npolars version is {pl.__version__}')"
   ]
  },
  {
   "cell_type": "code",
   "execution_count": 14,
   "metadata": {},
   "outputs": [],
   "source": [
    "# Create student grade dataset\n",
    "np.random.seed(254)\n",
    "\n",
    "student_grades_1 = {\n",
    "    'name': ['Kuol', 'Deng', 'Ayen', 'Nyakuoth', 'Gatwich', 'Omot', 'Lokure'],\n",
    "    'english': np.random.normal(loc=85, scale=10.5, size=7),\n",
    "    'student_id': [1, 2, 3, 4, 5, 6, 7]\n",
    "}"
   ]
  },
  {
   "cell_type": "code",
   "execution_count": 33,
   "metadata": {},
   "outputs": [],
   "source": [
    "\n",
    "student_grades_2 = {\n",
    "    'name': ['Kuol', 'Deng', 'Ayen', 'Nyakuoth', 'Gatwich', 'Omot', 'Lokure', 'Ojuolo'],\n",
    "    'mathematics': np.random.normal(loc=80, scale=16.5, size=8),\n",
    "    'statistics': np.random.normal(loc=88, scale=12, size=8),\n",
    "    'data_science': np.random.normal(loc=75, scale=14.5, size=8),\n",
    "    'student_id': [1, 2, 3, 4, 5, 6, 7, 8]\n",
    "}"
   ]
  },
  {
   "cell_type": "code",
   "execution_count": 37,
   "metadata": {},
   "outputs": [
    {
     "name": "stdout",
     "output_type": "stream",
     "text": [
      "shape: (7, 3)\n",
      "┌──────────┬─────────┬────────────┐\n",
      "│ name     ┆ english ┆ student_id │\n",
      "│ ---      ┆ ---     ┆ ---        │\n",
      "│ str      ┆ f64     ┆ i64        │\n",
      "╞══════════╪═════════╪════════════╡\n",
      "│ Kuol     ┆ 100.0   ┆ 1          │\n",
      "│ Deng     ┆ 87.0    ┆ 2          │\n",
      "│ Ayen     ┆ 84.2    ┆ 3          │\n",
      "│ Nyakuoth ┆ 72.0    ┆ 4          │\n",
      "│ Gatwich  ┆ 100.0   ┆ 5          │\n",
      "│ Omot     ┆ 76.6    ┆ 6          │\n",
      "│ Lokure   ┆ 77.1    ┆ 7          │\n",
      "└──────────┴─────────┴────────────┘\n",
      "shape: (7, 3)\n",
      "┌──────────┬─────────┬────────────┐\n",
      "│ name     ┆ english ┆ student_id │\n",
      "│ ---      ┆ ---     ┆ ---        │\n",
      "│ str      ┆ f64     ┆ i64        │\n",
      "╞══════════╪═════════╪════════════╡\n",
      "│ Kuol     ┆ 100.0   ┆ 1          │\n",
      "│ Deng     ┆ 87.0    ┆ 2          │\n",
      "│ Ayen     ┆ 84.2    ┆ 3          │\n",
      "│ Nyakuoth ┆ 72.0    ┆ 4          │\n",
      "│ Gatwich  ┆ 100.0   ┆ 5          │\n",
      "│ Omot     ┆ 76.6    ┆ 6          │\n",
      "│ Lokure   ┆ 77.1    ┆ 7          │\n",
      "└──────────┴─────────┴────────────┘\n"
     ]
    }
   ],
   "source": [
    "grades_1 = (\n",
    "    pl.DataFrame(student_grades_1)\n",
    "    .with_columns(english=pl.when(pl.col('english') > 100).then(100).otherwise(pl.col('english')).round(1))\n",
    ")\n",
    "\n",
    "print(grades_1)"
   ]
  },
  {
   "cell_type": "code",
   "execution_count": 36,
   "metadata": {},
   "outputs": [
    {
     "name": "stdout",
     "output_type": "stream",
     "text": [
      "shape: (8, 5)\n",
      "┌──────────┬─────────────┬────────────┬──────────────┬────────────┐\n",
      "│ name     ┆ mathematics ┆ statistics ┆ data_science ┆ student_id │\n",
      "│ ---      ┆ ---         ┆ ---        ┆ ---          ┆ ---        │\n",
      "│ str      ┆ f64         ┆ f64        ┆ f64          ┆ i64        │\n",
      "╞══════════╪═════════════╪════════════╪══════════════╪════════════╡\n",
      "│ Kuol     ┆ 96.5        ┆ 100.0      ┆ 79.6         ┆ 1          │\n",
      "│ Deng     ┆ 83.0        ┆ 65.8       ┆ 64.9         ┆ 2          │\n",
      "│ Ayen     ┆ 71.9        ┆ 86.0       ┆ 68.4         ┆ 3          │\n",
      "│ Nyakuoth ┆ 69.1        ┆ 100.0      ┆ 80.4         ┆ 4          │\n",
      "│ Gatwich  ┆ 67.5        ┆ 78.2       ┆ 64.8         ┆ 5          │\n",
      "│ Omot     ┆ 80.7        ┆ 79.2       ┆ 77.6         ┆ 6          │\n",
      "│ Lokure   ┆ 97.6        ┆ 77.7       ┆ 54.5         ┆ 7          │\n",
      "│ Ojuolo   ┆ 62.4        ┆ 100.0      ┆ 77.5         ┆ 8          │\n",
      "└──────────┴─────────────┴────────────┴──────────────┴────────────┘\n",
      "shape: (8, 5)\n",
      "┌──────────┬─────────────┬────────────┬──────────────┬────────────┐\n",
      "│ name     ┆ mathematics ┆ statistics ┆ data_science ┆ student_id │\n",
      "│ ---      ┆ ---         ┆ ---        ┆ ---          ┆ ---        │\n",
      "│ str      ┆ f64         ┆ f64        ┆ f64          ┆ i64        │\n",
      "╞══════════╪═════════════╪════════════╪══════════════╪════════════╡\n",
      "│ Kuol     ┆ 96.5        ┆ 100.0      ┆ 79.6         ┆ 1          │\n",
      "│ Deng     ┆ 83.0        ┆ 65.8       ┆ 64.9         ┆ 2          │\n",
      "│ Ayen     ┆ 71.9        ┆ 86.0       ┆ 68.4         ┆ 3          │\n",
      "│ Nyakuoth ┆ 69.1        ┆ 100.0      ┆ 80.4         ┆ 4          │\n",
      "│ Gatwich  ┆ 67.5        ┆ 78.2       ┆ 64.8         ┆ 5          │\n",
      "│ Omot     ┆ 80.7        ┆ 79.2       ┆ 77.6         ┆ 6          │\n",
      "│ Lokure   ┆ 97.6        ┆ 77.7       ┆ 54.5         ┆ 7          │\n",
      "│ Ojuolo   ┆ 62.4        ┆ 100.0      ┆ 77.5         ┆ 8          │\n",
      "└──────────┴─────────────┴────────────┴──────────────┴────────────┘\n"
     ]
    }
   ],
   "source": [
    "grades2 = (\n",
    "    pl.DataFrame(student_grades_2)\n",
    "    .with_columns(\n",
    "        mathematics=pl.when(pl.col('mathematics') > 100).then(100).otherwise(pl.col('mathematics')).round(1),\n",
    "        statistics=pl.when(pl.col('statistics') > 100).then(100).otherwise(pl.col('statistics')).round(1),\n",
    "        data_science=pl.when(pl.col('data_science') > 100).then(100).otherwise(pl.col('data_science')).round(1)\n",
    "    )\n",
    ")\n",
    "\n",
    "print(grades2)"
   ]
  },
  {
   "cell_type": "code",
   "execution_count": 42,
   "metadata": {},
   "outputs": [
    {
     "data": {
      "text/html": [
       "<div><style>\n",
       ".dataframe > thead > tr,\n",
       ".dataframe > tbody > tr {\n",
       "  text-align: right;\n",
       "  white-space: pre-wrap;\n",
       "}\n",
       "</style>\n",
       "<small>shape: (7, 7)</small><table border=\"1\" class=\"dataframe\"><thead><tr><th>name</th><th>english</th><th>student_id</th><th>mathematics</th><th>statistics</th><th>data_science</th><th>student_id_right</th></tr><tr><td>str</td><td>f64</td><td>i64</td><td>f64</td><td>f64</td><td>f64</td><td>i64</td></tr></thead><tbody><tr><td>&quot;Kuol&quot;</td><td>100.0</td><td>1</td><td>96.5</td><td>100.0</td><td>79.6</td><td>1</td></tr><tr><td>&quot;Deng&quot;</td><td>87.0</td><td>2</td><td>83.0</td><td>65.8</td><td>64.9</td><td>2</td></tr><tr><td>&quot;Ayen&quot;</td><td>84.2</td><td>3</td><td>71.9</td><td>86.0</td><td>68.4</td><td>3</td></tr><tr><td>&quot;Nyakuoth&quot;</td><td>72.0</td><td>4</td><td>69.1</td><td>100.0</td><td>80.4</td><td>4</td></tr><tr><td>&quot;Gatwich&quot;</td><td>100.0</td><td>5</td><td>67.5</td><td>78.2</td><td>64.8</td><td>5</td></tr><tr><td>&quot;Omot&quot;</td><td>76.6</td><td>6</td><td>80.7</td><td>79.2</td><td>77.6</td><td>6</td></tr><tr><td>&quot;Lokure&quot;</td><td>77.1</td><td>7</td><td>97.6</td><td>77.7</td><td>54.5</td><td>7</td></tr></tbody></table></div>"
      ],
      "text/plain": [
       "shape: (7, 7)\n",
       "┌──────────┬─────────┬───────────┬───────────┬───────────┬──────────┬──────────┐\n",
       "│ name     ┆ english ┆ student_i ┆ mathemati ┆ statistic ┆ data_sci ┆ student_ │\n",
       "│ ---      ┆ ---     ┆ d         ┆ cs        ┆ s         ┆ ence     ┆ id_right │\n",
       "│ str      ┆ f64     ┆ ---       ┆ ---       ┆ ---       ┆ ---      ┆ ---      │\n",
       "│          ┆         ┆ i64       ┆ f64       ┆ f64       ┆ f64      ┆ i64      │\n",
       "╞══════════╪═════════╪═══════════╪═══════════╪═══════════╪══════════╪══════════╡\n",
       "│ Kuol     ┆ 100.0   ┆ 1         ┆ 96.5      ┆ 100.0     ┆ 79.6     ┆ 1        │\n",
       "│ Deng     ┆ 87.0    ┆ 2         ┆ 83.0      ┆ 65.8      ┆ 64.9     ┆ 2        │\n",
       "│ Ayen     ┆ 84.2    ┆ 3         ┆ 71.9      ┆ 86.0      ┆ 68.4     ┆ 3        │\n",
       "│ Nyakuoth ┆ 72.0    ┆ 4         ┆ 69.1      ┆ 100.0     ┆ 80.4     ┆ 4        │\n",
       "│ Gatwich  ┆ 100.0   ┆ 5         ┆ 67.5      ┆ 78.2      ┆ 64.8     ┆ 5        │\n",
       "│ Omot     ┆ 76.6    ┆ 6         ┆ 80.7      ┆ 79.2      ┆ 77.6     ┆ 6        │\n",
       "│ Lokure   ┆ 77.1    ┆ 7         ┆ 97.6      ┆ 77.7      ┆ 54.5     ┆ 7        │\n",
       "└──────────┴─────────┴───────────┴───────────┴───────────┴──────────┴──────────┘"
      ]
     },
     "execution_count": null,
     "metadata": {},
     "output_type": "execute_result"
    }
   ],
   "source": [
    "# Joining two datasets\n",
    "(\n",
    "    grades_1\n",
    "    .join(grades2, on='name', how='left')\n",
    ")"
   ]
  },
  {
   "cell_type": "code",
   "execution_count": 43,
   "metadata": {},
   "outputs": [
    {
     "data": {
      "text/html": [
       "<div><style>\n",
       ".dataframe > thead > tr,\n",
       ".dataframe > tbody > tr {\n",
       "  text-align: right;\n",
       "  white-space: pre-wrap;\n",
       "}\n",
       "</style>\n",
       "<small>shape: (8, 7)</small><table border=\"1\" class=\"dataframe\"><thead><tr><th>english</th><th>student_id</th><th>name</th><th>mathematics</th><th>statistics</th><th>data_science</th><th>student_id_right</th></tr><tr><td>f64</td><td>i64</td><td>str</td><td>f64</td><td>f64</td><td>f64</td><td>i64</td></tr></thead><tbody><tr><td>100.0</td><td>1</td><td>&quot;Kuol&quot;</td><td>96.5</td><td>100.0</td><td>79.6</td><td>1</td></tr><tr><td>87.0</td><td>2</td><td>&quot;Deng&quot;</td><td>83.0</td><td>65.8</td><td>64.9</td><td>2</td></tr><tr><td>84.2</td><td>3</td><td>&quot;Ayen&quot;</td><td>71.9</td><td>86.0</td><td>68.4</td><td>3</td></tr><tr><td>72.0</td><td>4</td><td>&quot;Nyakuoth&quot;</td><td>69.1</td><td>100.0</td><td>80.4</td><td>4</td></tr><tr><td>100.0</td><td>5</td><td>&quot;Gatwich&quot;</td><td>67.5</td><td>78.2</td><td>64.8</td><td>5</td></tr><tr><td>76.6</td><td>6</td><td>&quot;Omot&quot;</td><td>80.7</td><td>79.2</td><td>77.6</td><td>6</td></tr><tr><td>77.1</td><td>7</td><td>&quot;Lokure&quot;</td><td>97.6</td><td>77.7</td><td>54.5</td><td>7</td></tr><tr><td>null</td><td>null</td><td>&quot;Ojuolo&quot;</td><td>62.4</td><td>100.0</td><td>77.5</td><td>8</td></tr></tbody></table></div>"
      ],
      "text/plain": [
       "shape: (8, 7)\n",
       "┌─────────┬───────────┬──────────┬───────────┬───────────┬──────────┬──────────┐\n",
       "│ english ┆ student_i ┆ name     ┆ mathemati ┆ statistic ┆ data_sci ┆ student_ │\n",
       "│ ---     ┆ d         ┆ ---      ┆ cs        ┆ s         ┆ ence     ┆ id_right │\n",
       "│ f64     ┆ ---       ┆ str      ┆ ---       ┆ ---       ┆ ---      ┆ ---      │\n",
       "│         ┆ i64       ┆          ┆ f64       ┆ f64       ┆ f64      ┆ i64      │\n",
       "╞═════════╪═══════════╪══════════╪═══════════╪═══════════╪══════════╪══════════╡\n",
       "│ 100.0   ┆ 1         ┆ Kuol     ┆ 96.5      ┆ 100.0     ┆ 79.6     ┆ 1        │\n",
       "│ 87.0    ┆ 2         ┆ Deng     ┆ 83.0      ┆ 65.8      ┆ 64.9     ┆ 2        │\n",
       "│ 84.2    ┆ 3         ┆ Ayen     ┆ 71.9      ┆ 86.0      ┆ 68.4     ┆ 3        │\n",
       "│ 72.0    ┆ 4         ┆ Nyakuoth ┆ 69.1      ┆ 100.0     ┆ 80.4     ┆ 4        │\n",
       "│ 100.0   ┆ 5         ┆ Gatwich  ┆ 67.5      ┆ 78.2      ┆ 64.8     ┆ 5        │\n",
       "│ 76.6    ┆ 6         ┆ Omot     ┆ 80.7      ┆ 79.2      ┆ 77.6     ┆ 6        │\n",
       "│ 77.1    ┆ 7         ┆ Lokure   ┆ 97.6      ┆ 77.7      ┆ 54.5     ┆ 7        │\n",
       "│ null    ┆ null      ┆ Ojuolo   ┆ 62.4      ┆ 100.0     ┆ 77.5     ┆ 8        │\n",
       "└─────────┴───────────┴──────────┴───────────┴───────────┴──────────┴──────────┘"
      ]
     },
     "execution_count": null,
     "metadata": {},
     "output_type": "execute_result"
    }
   ],
   "source": [
    "# Joining two datasets\n",
    "(\n",
    "    grades_1\n",
    "    .join(grades2, on='name', how='right')\n",
    ")"
   ]
  },
  {
   "cell_type": "code",
   "execution_count": 45,
   "metadata": {},
   "outputs": [
    {
     "data": {
      "text/html": [
       "<div><style>\n",
       ".dataframe > thead > tr,\n",
       ".dataframe > tbody > tr {\n",
       "  text-align: right;\n",
       "  white-space: pre-wrap;\n",
       "}\n",
       "</style>\n",
       "<small>shape: (8, 7)</small><table border=\"1\" class=\"dataframe\"><thead><tr><th>name</th><th>english</th><th>student_id</th><th>mathematics</th><th>statistics</th><th>data_science</th><th>student_id_right</th></tr><tr><td>str</td><td>f64</td><td>i64</td><td>f64</td><td>f64</td><td>f64</td><td>i64</td></tr></thead><tbody><tr><td>&quot;Kuol&quot;</td><td>100.0</td><td>1</td><td>96.5</td><td>100.0</td><td>79.6</td><td>1</td></tr><tr><td>&quot;Deng&quot;</td><td>87.0</td><td>2</td><td>83.0</td><td>65.8</td><td>64.9</td><td>2</td></tr><tr><td>&quot;Ayen&quot;</td><td>84.2</td><td>3</td><td>71.9</td><td>86.0</td><td>68.4</td><td>3</td></tr><tr><td>&quot;Nyakuoth&quot;</td><td>72.0</td><td>4</td><td>69.1</td><td>100.0</td><td>80.4</td><td>4</td></tr><tr><td>&quot;Gatwich&quot;</td><td>100.0</td><td>5</td><td>67.5</td><td>78.2</td><td>64.8</td><td>5</td></tr><tr><td>&quot;Omot&quot;</td><td>76.6</td><td>6</td><td>80.7</td><td>79.2</td><td>77.6</td><td>6</td></tr><tr><td>&quot;Lokure&quot;</td><td>77.1</td><td>7</td><td>97.6</td><td>77.7</td><td>54.5</td><td>7</td></tr><tr><td>&quot;Ojuolo&quot;</td><td>null</td><td>null</td><td>62.4</td><td>100.0</td><td>77.5</td><td>8</td></tr></tbody></table></div>"
      ],
      "text/plain": [
       "shape: (8, 7)\n",
       "┌──────────┬─────────┬───────────┬───────────┬───────────┬──────────┬──────────┐\n",
       "│ name     ┆ english ┆ student_i ┆ mathemati ┆ statistic ┆ data_sci ┆ student_ │\n",
       "│ ---      ┆ ---     ┆ d         ┆ cs        ┆ s         ┆ ence     ┆ id_right │\n",
       "│ str      ┆ f64     ┆ ---       ┆ ---       ┆ ---       ┆ ---      ┆ ---      │\n",
       "│          ┆         ┆ i64       ┆ f64       ┆ f64       ┆ f64      ┆ i64      │\n",
       "╞══════════╪═════════╪═══════════╪═══════════╪═══════════╪══════════╪══════════╡\n",
       "│ Kuol     ┆ 100.0   ┆ 1         ┆ 96.5      ┆ 100.0     ┆ 79.6     ┆ 1        │\n",
       "│ Deng     ┆ 87.0    ┆ 2         ┆ 83.0      ┆ 65.8      ┆ 64.9     ┆ 2        │\n",
       "│ Ayen     ┆ 84.2    ┆ 3         ┆ 71.9      ┆ 86.0      ┆ 68.4     ┆ 3        │\n",
       "│ Nyakuoth ┆ 72.0    ┆ 4         ┆ 69.1      ┆ 100.0     ┆ 80.4     ┆ 4        │\n",
       "│ Gatwich  ┆ 100.0   ┆ 5         ┆ 67.5      ┆ 78.2      ┆ 64.8     ┆ 5        │\n",
       "│ Omot     ┆ 76.6    ┆ 6         ┆ 80.7      ┆ 79.2      ┆ 77.6     ┆ 6        │\n",
       "│ Lokure   ┆ 77.1    ┆ 7         ┆ 97.6      ┆ 77.7      ┆ 54.5     ┆ 7        │\n",
       "│ Ojuolo   ┆ null    ┆ null      ┆ 62.4      ┆ 100.0     ┆ 77.5     ┆ 8        │\n",
       "└──────────┴─────────┴───────────┴───────────┴───────────┴──────────┴──────────┘"
      ]
     },
     "execution_count": null,
     "metadata": {},
     "output_type": "execute_result"
    }
   ],
   "source": [
    "# Joining two datasets\n",
    "(\n",
    "    grades_1\n",
    "    .join(grades2, on='name', how='full', coalesce=True)\n",
    ")"
   ]
  },
  {
   "cell_type": "code",
   "execution_count": 54,
   "metadata": {},
   "outputs": [],
   "source": [
    "# Joining two datasets\n",
    "student_grades = (\n",
    "    grades_1\n",
    "    .join(grades2, on=['name', 'student_id'], how='left')\n",
    ")"
   ]
  },
  {
   "cell_type": "code",
   "execution_count": 47,
   "metadata": {},
   "outputs": [
    {
     "data": {
      "text/html": [
       "<div><style>\n",
       ".dataframe > thead > tr,\n",
       ".dataframe > tbody > tr {\n",
       "  text-align: right;\n",
       "  white-space: pre-wrap;\n",
       "}\n",
       "</style>\n",
       "<small>shape: (7, 7)</small><table border=\"1\" class=\"dataframe\"><thead><tr><th>name</th><th>english</th><th>student_id</th><th>mathematics</th><th>statistics</th><th>data_science</th><th>student_id_right</th></tr><tr><td>str</td><td>f64</td><td>i64</td><td>f64</td><td>f64</td><td>f64</td><td>i64</td></tr></thead><tbody><tr><td>&quot;Kuol&quot;</td><td>100.0</td><td>1</td><td>96.5</td><td>100.0</td><td>79.6</td><td>1</td></tr><tr><td>&quot;Deng&quot;</td><td>87.0</td><td>2</td><td>83.0</td><td>65.8</td><td>64.9</td><td>2</td></tr><tr><td>&quot;Ayen&quot;</td><td>84.2</td><td>3</td><td>71.9</td><td>86.0</td><td>68.4</td><td>3</td></tr><tr><td>&quot;Nyakuoth&quot;</td><td>72.0</td><td>4</td><td>69.1</td><td>100.0</td><td>80.4</td><td>4</td></tr><tr><td>&quot;Gatwich&quot;</td><td>100.0</td><td>5</td><td>67.5</td><td>78.2</td><td>64.8</td><td>5</td></tr><tr><td>&quot;Omot&quot;</td><td>76.6</td><td>6</td><td>80.7</td><td>79.2</td><td>77.6</td><td>6</td></tr><tr><td>&quot;Lokure&quot;</td><td>77.1</td><td>7</td><td>97.6</td><td>77.7</td><td>54.5</td><td>7</td></tr></tbody></table></div>"
      ],
      "text/plain": [
       "shape: (7, 7)\n",
       "┌──────────┬─────────┬───────────┬───────────┬───────────┬──────────┬──────────┐\n",
       "│ name     ┆ english ┆ student_i ┆ mathemati ┆ statistic ┆ data_sci ┆ student_ │\n",
       "│ ---      ┆ ---     ┆ d         ┆ cs        ┆ s         ┆ ence     ┆ id_right │\n",
       "│ str      ┆ f64     ┆ ---       ┆ ---       ┆ ---       ┆ ---      ┆ ---      │\n",
       "│          ┆         ┆ i64       ┆ f64       ┆ f64       ┆ f64      ┆ i64      │\n",
       "╞══════════╪═════════╪═══════════╪═══════════╪═══════════╪══════════╪══════════╡\n",
       "│ Kuol     ┆ 100.0   ┆ 1         ┆ 96.5      ┆ 100.0     ┆ 79.6     ┆ 1        │\n",
       "│ Deng     ┆ 87.0    ┆ 2         ┆ 83.0      ┆ 65.8      ┆ 64.9     ┆ 2        │\n",
       "│ Ayen     ┆ 84.2    ┆ 3         ┆ 71.9      ┆ 86.0      ┆ 68.4     ┆ 3        │\n",
       "│ Nyakuoth ┆ 72.0    ┆ 4         ┆ 69.1      ┆ 100.0     ┆ 80.4     ┆ 4        │\n",
       "│ Gatwich  ┆ 100.0   ┆ 5         ┆ 67.5      ┆ 78.2      ┆ 64.8     ┆ 5        │\n",
       "│ Omot     ┆ 76.6    ┆ 6         ┆ 80.7      ┆ 79.2      ┆ 77.6     ┆ 6        │\n",
       "│ Lokure   ┆ 77.1    ┆ 7         ┆ 97.6      ┆ 77.7      ┆ 54.5     ┆ 7        │\n",
       "└──────────┴─────────┴───────────┴───────────┴───────────┴──────────┴──────────┘"
      ]
     },
     "execution_count": null,
     "metadata": {},
     "output_type": "execute_result"
    }
   ],
   "source": [
    "# Joining two datasets\n",
    "(\n",
    "    grades_1\n",
    "    .join(grades2, on='name', how='inner')\n",
    ")"
   ]
  },
  {
   "cell_type": "code",
   "execution_count": 52,
   "metadata": {},
   "outputs": [
    {
     "data": {
      "text/html": [
       "<div><style>\n",
       ".dataframe > thead > tr,\n",
       ".dataframe > tbody > tr {\n",
       "  text-align: right;\n",
       "  white-space: pre-wrap;\n",
       "}\n",
       "</style>\n",
       "<small>shape: (0, 3)</small><table border=\"1\" class=\"dataframe\"><thead><tr><th>name</th><th>english</th><th>student_id</th></tr><tr><td>str</td><td>f64</td><td>i64</td></tr></thead><tbody></tbody></table></div>"
      ],
      "text/plain": [
       "shape: (0, 3)\n",
       "┌──────┬─────────┬────────────┐\n",
       "│ name ┆ english ┆ student_id │\n",
       "│ ---  ┆ ---     ┆ ---        │\n",
       "│ str  ┆ f64     ┆ i64        │\n",
       "╞══════╪═════════╪════════════╡\n",
       "└──────┴─────────┴────────────┘"
      ]
     },
     "execution_count": null,
     "metadata": {},
     "output_type": "execute_result"
    }
   ],
   "source": [
    "# Joining two datasets\n",
    "(\n",
    "    grades_1\n",
    "    .join(grades2, on=['name', 'student_id'], how='anti')\n",
    ")"
   ]
  },
  {
   "cell_type": "code",
   "execution_count": 53,
   "metadata": {},
   "outputs": [
    {
     "data": {
      "text/html": [
       "<div><style>\n",
       ".dataframe > thead > tr,\n",
       ".dataframe > tbody > tr {\n",
       "  text-align: right;\n",
       "  white-space: pre-wrap;\n",
       "}\n",
       "</style>\n",
       "<small>shape: (1, 5)</small><table border=\"1\" class=\"dataframe\"><thead><tr><th>name</th><th>mathematics</th><th>statistics</th><th>data_science</th><th>student_id</th></tr><tr><td>str</td><td>f64</td><td>f64</td><td>f64</td><td>i64</td></tr></thead><tbody><tr><td>&quot;Ojuolo&quot;</td><td>62.4</td><td>100.0</td><td>77.5</td><td>8</td></tr></tbody></table></div>"
      ],
      "text/plain": [
       "shape: (1, 5)\n",
       "┌────────┬─────────────┬────────────┬──────────────┬────────────┐\n",
       "│ name   ┆ mathematics ┆ statistics ┆ data_science ┆ student_id │\n",
       "│ ---    ┆ ---         ┆ ---        ┆ ---          ┆ ---        │\n",
       "│ str    ┆ f64         ┆ f64        ┆ f64          ┆ i64        │\n",
       "╞════════╪═════════════╪════════════╪══════════════╪════════════╡\n",
       "│ Ojuolo ┆ 62.4        ┆ 100.0      ┆ 77.5         ┆ 8          │\n",
       "└────────┴─────────────┴────────────┴──────────────┴────────────┘"
      ]
     },
     "execution_count": null,
     "metadata": {},
     "output_type": "execute_result"
    }
   ],
   "source": [
    "# Joining two datasets\n",
    "(\n",
    "    grades2\n",
    "    .join(grades_1, on=['name', 'student_id'], how='anti')\n",
    ")"
   ]
  },
  {
   "cell_type": "code",
   "execution_count": 65,
   "metadata": {},
   "outputs": [
    {
     "data": {
      "text/html": [
       "<div><style>\n",
       ".dataframe > thead > tr,\n",
       ".dataframe > tbody > tr {\n",
       "  text-align: right;\n",
       "  white-space: pre-wrap;\n",
       "}\n",
       "</style>\n",
       "<small>shape: (7, 9)</small><table border=\"1\" class=\"dataframe\"><thead><tr><th>student_id</th><th>name</th><th>english</th><th>mathematics</th><th>statistics</th><th>data_science</th><th>avg_score</th><th>min_score</th><th>max_score</th></tr><tr><td>i64</td><td>str</td><td>f64</td><td>f64</td><td>f64</td><td>f64</td><td>f64</td><td>f64</td><td>f64</td></tr></thead><tbody><tr><td>1</td><td>&quot;Kuol&quot;</td><td>100.0</td><td>96.5</td><td>100.0</td><td>79.6</td><td>94.0</td><td>79.6</td><td>100.0</td></tr><tr><td>2</td><td>&quot;Deng&quot;</td><td>87.0</td><td>83.0</td><td>65.8</td><td>64.9</td><td>75.2</td><td>64.9</td><td>87.0</td></tr><tr><td>3</td><td>&quot;Ayen&quot;</td><td>84.2</td><td>71.9</td><td>86.0</td><td>68.4</td><td>77.6</td><td>68.4</td><td>86.0</td></tr><tr><td>4</td><td>&quot;Nyakuoth&quot;</td><td>72.0</td><td>69.1</td><td>100.0</td><td>80.4</td><td>80.4</td><td>69.1</td><td>100.0</td></tr><tr><td>5</td><td>&quot;Gatwich&quot;</td><td>100.0</td><td>67.5</td><td>78.2</td><td>64.8</td><td>77.6</td><td>64.8</td><td>100.0</td></tr><tr><td>6</td><td>&quot;Omot&quot;</td><td>76.6</td><td>80.7</td><td>79.2</td><td>77.6</td><td>78.5</td><td>76.6</td><td>80.7</td></tr><tr><td>7</td><td>&quot;Lokure&quot;</td><td>77.1</td><td>97.6</td><td>77.7</td><td>54.5</td><td>76.7</td><td>54.5</td><td>97.6</td></tr></tbody></table></div>"
      ],
      "text/plain": [
       "shape: (7, 9)\n",
       "┌─────────┬─────────┬─────────┬────────┬───┬────────┬────────┬────────┬────────┐\n",
       "│ student ┆ name    ┆ english ┆ mathem ┆ … ┆ data_s ┆ avg_sc ┆ min_sc ┆ max_sc │\n",
       "│ _id     ┆ ---     ┆ ---     ┆ atics  ┆   ┆ cience ┆ ore    ┆ ore    ┆ ore    │\n",
       "│ ---     ┆ str     ┆ f64     ┆ ---    ┆   ┆ ---    ┆ ---    ┆ ---    ┆ ---    │\n",
       "│ i64     ┆         ┆         ┆ f64    ┆   ┆ f64    ┆ f64    ┆ f64    ┆ f64    │\n",
       "╞═════════╪═════════╪═════════╪════════╪═══╪════════╪════════╪════════╪════════╡\n",
       "│ 1       ┆ Kuol    ┆ 100.0   ┆ 96.5   ┆ … ┆ 79.6   ┆ 94.0   ┆ 79.6   ┆ 100.0  │\n",
       "│ 2       ┆ Deng    ┆ 87.0    ┆ 83.0   ┆ … ┆ 64.9   ┆ 75.2   ┆ 64.9   ┆ 87.0   │\n",
       "│ 3       ┆ Ayen    ┆ 84.2    ┆ 71.9   ┆ … ┆ 68.4   ┆ 77.6   ┆ 68.4   ┆ 86.0   │\n",
       "│ 4       ┆ Nyakuot ┆ 72.0    ┆ 69.1   ┆ … ┆ 80.4   ┆ 80.4   ┆ 69.1   ┆ 100.0  │\n",
       "│         ┆ h       ┆         ┆        ┆   ┆        ┆        ┆        ┆        │\n",
       "│ 5       ┆ Gatwich ┆ 100.0   ┆ 67.5   ┆ … ┆ 64.8   ┆ 77.6   ┆ 64.8   ┆ 100.0  │\n",
       "│ 6       ┆ Omot    ┆ 76.6    ┆ 80.7   ┆ … ┆ 77.6   ┆ 78.5   ┆ 76.6   ┆ 80.7   │\n",
       "│ 7       ┆ Lokure  ┆ 77.1    ┆ 97.6   ┆ … ┆ 54.5   ┆ 76.7   ┆ 54.5   ┆ 97.6   │\n",
       "└─────────┴─────────┴─────────┴────────┴───┴────────┴────────┴────────┴────────┘"
      ]
     },
     "execution_count": null,
     "metadata": {},
     "output_type": "execute_result"
    }
   ],
   "source": [
    "(\n",
    "    student_grades\n",
    "    .select('student_id', pl.all().exclude('student_id'))\n",
    "    .with_columns(\n",
    "        avg_score=pl.mean_horizontal(cs.float()).round(1),\n",
    "        min_score=pl.min_horizontal(cs.float()).round(1),\n",
    "        max_score=pl.max_horizontal(cs.float()).round(1),\n",
    "    )\n",
    "    \n",
    ")"
   ]
  },
  {
   "cell_type": "code",
   "execution_count": 68,
   "metadata": {},
   "outputs": [
    {
     "name": "stdout",
     "output_type": "stream",
     "text": [
      "shape: (28, 4)\n",
      "┌────────────┬──────────┬──────────────┬───────┐\n",
      "│ student_id ┆ name     ┆ subject      ┆ score │\n",
      "│ ---        ┆ ---      ┆ ---          ┆ ---   │\n",
      "│ i64        ┆ str      ┆ str          ┆ f64   │\n",
      "╞════════════╪══════════╪══════════════╪═══════╡\n",
      "│ 1          ┆ Kuol     ┆ english      ┆ 100.0 │\n",
      "│ 2          ┆ Deng     ┆ english      ┆ 87.0  │\n",
      "│ 3          ┆ Ayen     ┆ english      ┆ 84.2  │\n",
      "│ 4          ┆ Nyakuoth ┆ english      ┆ 72.0  │\n",
      "│ 5          ┆ Gatwich  ┆ english      ┆ 100.0 │\n",
      "│ …          ┆ …        ┆ …            ┆ …     │\n",
      "│ 3          ┆ Ayen     ┆ data_science ┆ 68.4  │\n",
      "│ 4          ┆ Nyakuoth ┆ data_science ┆ 80.4  │\n",
      "│ 5          ┆ Gatwich  ┆ data_science ┆ 64.8  │\n",
      "│ 6          ┆ Omot     ┆ data_science ┆ 77.6  │\n",
      "│ 7          ┆ Lokure   ┆ data_science ┆ 54.5  │\n",
      "└────────────┴──────────┴──────────────┴───────┘\n",
      "shape: (28, 4)\n",
      "┌────────────┬──────────┬──────────────┬───────┐\n",
      "│ student_id ┆ name     ┆ subject      ┆ score │\n",
      "│ ---        ┆ ---      ┆ ---          ┆ ---   │\n",
      "│ i64        ┆ str      ┆ str          ┆ f64   │\n",
      "╞════════════╪══════════╪══════════════╪═══════╡\n",
      "│ 1          ┆ Kuol     ┆ english      ┆ 100.0 │\n",
      "│ 2          ┆ Deng     ┆ english      ┆ 87.0  │\n",
      "│ 3          ┆ Ayen     ┆ english      ┆ 84.2  │\n",
      "│ 4          ┆ Nyakuoth ┆ english      ┆ 72.0  │\n",
      "│ 5          ┆ Gatwich  ┆ english      ┆ 100.0 │\n",
      "│ …          ┆ …        ┆ …            ┆ …     │\n",
      "│ 3          ┆ Ayen     ┆ data_science ┆ 68.4  │\n",
      "│ 4          ┆ Nyakuoth ┆ data_science ┆ 80.4  │\n",
      "│ 5          ┆ Gatwich  ┆ data_science ┆ 64.8  │\n",
      "│ 6          ┆ Omot     ┆ data_science ┆ 77.6  │\n",
      "│ 7          ┆ Lokure   ┆ data_science ┆ 54.5  │\n",
      "└────────────┴──────────┴──────────────┴───────┘\n"
     ]
    }
   ],
   "source": [
    "# Unpivot \n",
    "final_grades = (\n",
    "    student_grades\n",
    "    .unpivot(index=['student_id', 'name'], variable_name='subject', value_name='score')\n",
    ")\n",
    "\n",
    "print(final_grades)"
   ]
  },
  {
   "cell_type": "code",
   "execution_count": 70,
   "metadata": {},
   "outputs": [
    {
     "data": {
      "text/html": [
       "<div><style>\n",
       ".dataframe > thead > tr,\n",
       ".dataframe > tbody > tr {\n",
       "  text-align: right;\n",
       "  white-space: pre-wrap;\n",
       "}\n",
       "</style>\n",
       "<small>shape: (14, 4)</small><table border=\"1\" class=\"dataframe\"><thead><tr><th>student_id</th><th>name</th><th>subject</th><th>score</th></tr><tr><td>i64</td><td>str</td><td>str</td><td>f64</td></tr></thead><tbody><tr><td>1</td><td>&quot;Kuol&quot;</td><td>&quot;english&quot;</td><td>100.0</td></tr><tr><td>1</td><td>&quot;Kuol&quot;</td><td>&quot;statistics&quot;</td><td>100.0</td></tr><tr><td>3</td><td>&quot;Ayen&quot;</td><td>&quot;statistics&quot;</td><td>86.0</td></tr><tr><td>3</td><td>&quot;Ayen&quot;</td><td>&quot;english&quot;</td><td>84.2</td></tr><tr><td>4</td><td>&quot;Nyakuoth&quot;</td><td>&quot;statistics&quot;</td><td>100.0</td></tr><tr><td>&hellip;</td><td>&hellip;</td><td>&hellip;</td><td>&hellip;</td></tr><tr><td>2</td><td>&quot;Deng&quot;</td><td>&quot;mathematics&quot;</td><td>83.0</td></tr><tr><td>6</td><td>&quot;Omot&quot;</td><td>&quot;mathematics&quot;</td><td>80.7</td></tr><tr><td>6</td><td>&quot;Omot&quot;</td><td>&quot;statistics&quot;</td><td>79.2</td></tr><tr><td>7</td><td>&quot;Lokure&quot;</td><td>&quot;mathematics&quot;</td><td>97.6</td></tr><tr><td>7</td><td>&quot;Lokure&quot;</td><td>&quot;statistics&quot;</td><td>77.7</td></tr></tbody></table></div>"
      ],
      "text/plain": [
       "shape: (14, 4)\n",
       "┌────────────┬──────────┬─────────────┬───────┐\n",
       "│ student_id ┆ name     ┆ subject     ┆ score │\n",
       "│ ---        ┆ ---      ┆ ---         ┆ ---   │\n",
       "│ i64        ┆ str      ┆ str         ┆ f64   │\n",
       "╞════════════╪══════════╪═════════════╪═══════╡\n",
       "│ 1          ┆ Kuol     ┆ english     ┆ 100.0 │\n",
       "│ 1          ┆ Kuol     ┆ statistics  ┆ 100.0 │\n",
       "│ 3          ┆ Ayen     ┆ statistics  ┆ 86.0  │\n",
       "│ 3          ┆ Ayen     ┆ english     ┆ 84.2  │\n",
       "│ 4          ┆ Nyakuoth ┆ statistics  ┆ 100.0 │\n",
       "│ …          ┆ …        ┆ …           ┆ …     │\n",
       "│ 2          ┆ Deng     ┆ mathematics ┆ 83.0  │\n",
       "│ 6          ┆ Omot     ┆ mathematics ┆ 80.7  │\n",
       "│ 6          ┆ Omot     ┆ statistics  ┆ 79.2  │\n",
       "│ 7          ┆ Lokure   ┆ mathematics ┆ 97.6  │\n",
       "│ 7          ┆ Lokure   ┆ statistics  ┆ 77.7  │\n",
       "└────────────┴──────────┴─────────────┴───────┘"
      ]
     },
     "execution_count": null,
     "metadata": {},
     "output_type": "execute_result"
    }
   ],
   "source": [
    "# Compute the two best scores\n",
    "(\n",
    "    final_grades\n",
    "    .group_by('student_id', 'name')\n",
    "    .agg(\n",
    "        pl.all().top_k_by('score', 2)\n",
    "    )\n",
    "    .explode(pl.all().exclude(['student_id', 'name']))\n",
    "    \n",
    ")"
   ]
  },
  {
   "cell_type": "code",
   "execution_count": 71,
   "metadata": {},
   "outputs": [
    {
     "data": {
      "text/html": [
       "<div><style>\n",
       ".dataframe > thead > tr,\n",
       ".dataframe > tbody > tr {\n",
       "  text-align: right;\n",
       "  white-space: pre-wrap;\n",
       "}\n",
       "</style>\n",
       "<small>shape: (14, 4)</small><table border=\"1\" class=\"dataframe\"><thead><tr><th>student_id</th><th>name</th><th>subject</th><th>score</th></tr><tr><td>i64</td><td>str</td><td>str</td><td>f64</td></tr></thead><tbody><tr><td>6</td><td>&quot;Omot&quot;</td><td>&quot;english&quot;</td><td>76.6</td></tr><tr><td>6</td><td>&quot;Omot&quot;</td><td>&quot;data_science&quot;</td><td>77.6</td></tr><tr><td>2</td><td>&quot;Deng&quot;</td><td>&quot;data_science&quot;</td><td>64.9</td></tr><tr><td>2</td><td>&quot;Deng&quot;</td><td>&quot;statistics&quot;</td><td>65.8</td></tr><tr><td>7</td><td>&quot;Lokure&quot;</td><td>&quot;data_science&quot;</td><td>54.5</td></tr><tr><td>&hellip;</td><td>&hellip;</td><td>&hellip;</td><td>&hellip;</td></tr><tr><td>1</td><td>&quot;Kuol&quot;</td><td>&quot;mathematics&quot;</td><td>96.5</td></tr><tr><td>3</td><td>&quot;Ayen&quot;</td><td>&quot;data_science&quot;</td><td>68.4</td></tr><tr><td>3</td><td>&quot;Ayen&quot;</td><td>&quot;mathematics&quot;</td><td>71.9</td></tr><tr><td>4</td><td>&quot;Nyakuoth&quot;</td><td>&quot;mathematics&quot;</td><td>69.1</td></tr><tr><td>4</td><td>&quot;Nyakuoth&quot;</td><td>&quot;english&quot;</td><td>72.0</td></tr></tbody></table></div>"
      ],
      "text/plain": [
       "shape: (14, 4)\n",
       "┌────────────┬──────────┬──────────────┬───────┐\n",
       "│ student_id ┆ name     ┆ subject      ┆ score │\n",
       "│ ---        ┆ ---      ┆ ---          ┆ ---   │\n",
       "│ i64        ┆ str      ┆ str          ┆ f64   │\n",
       "╞════════════╪══════════╪══════════════╪═══════╡\n",
       "│ 6          ┆ Omot     ┆ english      ┆ 76.6  │\n",
       "│ 6          ┆ Omot     ┆ data_science ┆ 77.6  │\n",
       "│ 2          ┆ Deng     ┆ data_science ┆ 64.9  │\n",
       "│ 2          ┆ Deng     ┆ statistics   ┆ 65.8  │\n",
       "│ 7          ┆ Lokure   ┆ data_science ┆ 54.5  │\n",
       "│ …          ┆ …        ┆ …            ┆ …     │\n",
       "│ 1          ┆ Kuol     ┆ mathematics  ┆ 96.5  │\n",
       "│ 3          ┆ Ayen     ┆ data_science ┆ 68.4  │\n",
       "│ 3          ┆ Ayen     ┆ mathematics  ┆ 71.9  │\n",
       "│ 4          ┆ Nyakuoth ┆ mathematics  ┆ 69.1  │\n",
       "│ 4          ┆ Nyakuoth ┆ english      ┆ 72.0  │\n",
       "└────────────┴──────────┴──────────────┴───────┘"
      ]
     },
     "execution_count": null,
     "metadata": {},
     "output_type": "execute_result"
    }
   ],
   "source": [
    "# Compute the two best scores\n",
    "(\n",
    "    final_grades\n",
    "    .group_by('student_id', 'name')\n",
    "    .agg(\n",
    "        pl.all().bottom_k_by('score', 2)\n",
    "    )\n",
    "    .explode(pl.all().exclude(['student_id', 'name']))\n",
    "    \n",
    ")"
   ]
  },
  {
   "cell_type": "code",
   "execution_count": null,
   "metadata": {},
   "outputs": [],
   "source": []
  }
 ],
 "metadata": {
  "language_info": {
   "name": "python"
  }
 },
 "nbformat": 4,
 "nbformat_minor": 2
}
