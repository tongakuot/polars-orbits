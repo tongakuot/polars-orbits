{
 "cells": [
  {
   "cell_type": "markdown",
   "metadata": {},
   "source": [
    "# Getting Started with the Python Polars Library: Analyzing the U.S. Hospital General Information Dataset"
   ]
  },
  {
   "cell_type": "markdown",
   "metadata": {},
   "source": [
    "## Loading necessary libraries"
   ]
  },
  {
   "cell_type": "code",
   "execution_count": null,
   "metadata": {},
   "outputs": [],
   "source": [
    "# Load Libraries\n",
    "import polars as pl\n",
    "import polars.selectors as cs\n",
    "from plotnine import *\n",
    "from mizani.labels import label_number\n",
    "\n",
    "import sys \n",
    "\n",
    "# Display system and polars versions\n",
    "print(f'My system version is {sys.version};\\npolars version is {pl.__version__}')"
   ]
  },
  {
   "cell_type": "markdown",
   "metadata": {},
   "source": [
    "## Loading dataset"
   ]
  },
  {
   "cell_type": "code",
   "execution_count": 95,
   "metadata": {},
   "outputs": [
    {
     "name": "stdout",
     "output_type": "stream",
     "text": [
      "shape: (5_398, 39)\n",
      "┌─────────────┬───────────────────────────────────┬──────────────────────────────────┬───────────┬───┬───────────────────────┬────────────────────────┬──────────────────────┬───────────────────┐\n",
      "│ Facility ID ┆ Facility Name                     ┆ Address                          ┆ City/Town ┆ … ┆ Pt Exp Group Footnote ┆ TE Group Measure Count ┆ Count of Facility TE ┆ TE Group Footnote │\n",
      "│ ---         ┆ ---                               ┆ ---                              ┆ ---       ┆   ┆ ---                   ┆ ---                    ┆ Measures             ┆ ---               │\n",
      "│ str         ┆ str                               ┆ str                              ┆ str       ┆   ┆ i64                   ┆ str                    ┆ ---                  ┆ i64               │\n",
      "│             ┆                                   ┆                                  ┆           ┆   ┆                       ┆                        ┆ str                  ┆                   │\n",
      "╞═════════════╪═══════════════════════════════════╪══════════════════════════════════╪═══════════╪═══╪═══════════════════════╪════════════════════════╪══════════════════════╪═══════════════════╡\n",
      "│ 010001      ┆ SOUTHEAST HEALTH MEDICAL CENTE…   ┆ 1108 ROSS CLARK CIRCLE           ┆ DOTHAN    ┆ … ┆ null                  ┆ 12                     ┆ 10                   ┆ null              │\n",
      "│ 010005      ┆ MARSHALL MEDICAL CENTERS          ┆ 2505 U S HIGHWAY 431 NORTH       ┆ BOAZ      ┆ … ┆ null                  ┆ 12                     ┆ 12                   ┆ null              │\n",
      "│ 010006      ┆ NORTH ALABAMA MEDICAL CENTER      ┆ 1701 VETERANS DRIVE              ┆ FLORENCE  ┆ … ┆ null                  ┆ 12                     ┆ 11                   ┆ null              │\n",
      "│ 010007      ┆ MIZELL MEMORIAL HOSPITAL          ┆ 702 N MAIN ST                    ┆ OPP       ┆ … ┆ null                  ┆ 12                     ┆ 7                    ┆ null              │\n",
      "│ 010008      ┆ CRENSHAW COMMUNITY HOSPITAL       ┆ 101 HOSPITAL CIRCLE              ┆ LUVERNE   ┆ … ┆ 5                     ┆ 12                     ┆ 6                    ┆ null              │\n",
      "│ …           ┆ …                                 ┆ …                                ┆ …         ┆ … ┆ …                     ┆ …                      ┆ …                    ┆ …                 │\n",
      "│ 670319      ┆ TRINITY REGIONAL HOSPITAL SACH…   ┆ 4750 PRESIDENT GEORGE BUSH HIG…  ┆ SACHSE    ┆ … ┆ 19                    ┆ Not Available          ┆ Not Available        ┆ 19                │\n",
      "│ 670320      ┆ EAST HOUSTON MEDICAL CENTER       ┆ 15149 WALLISVILLE ROAD           ┆ HOUSTON   ┆ … ┆ 19                    ┆ Not Available          ┆ Not Available        ┆ 19                │\n",
      "│ 670321      ┆ ADVANCED DALLAS HOSPITALS AND …   ┆ 7502 GREENVILLE AVENUE           ┆ DALLAS    ┆ … ┆ 5                     ┆ Not Available          ┆ Not Available        ┆ 5                 │\n",
      "│ 670322      ┆ LEGENT SURGICAL HOSPITAL PLANO    ┆ 4100 MAPLESHADE LANE             ┆ PLANO     ┆ … ┆ 5                     ┆ 12                     ┆ Not Available        ┆ 5                 │\n",
      "│ 671300      ┆ GRAHAM REGIONAL MEDICAL CENTER    ┆ 1301 MONTGOMERY ROAD             ┆ GRAHAM    ┆ … ┆ 5                     ┆ Not Available          ┆ Not Available        ┆ 5                 │\n",
      "└─────────────┴───────────────────────────────────┴──────────────────────────────────┴───────────┴───┴───────────────────────┴────────────────────────┴──────────────────────┴───────────────────┘\n",
      "shape: (5_398, 39)\n",
      "┌─────────────┬───────────────────────────────────┬──────────────────────────────────┬───────────┬───┬───────────────────────┬────────────────────────┬──────────────────────┬───────────────────┐\n",
      "│ Facility ID ┆ Facility Name                     ┆ Address                          ┆ City/Town ┆ … ┆ Pt Exp Group Footnote ┆ TE Group Measure Count ┆ Count of Facility TE ┆ TE Group Footnote │\n",
      "│ ---         ┆ ---                               ┆ ---                              ┆ ---       ┆   ┆ ---                   ┆ ---                    ┆ Measures             ┆ ---               │\n",
      "│ str         ┆ str                               ┆ str                              ┆ str       ┆   ┆ i64                   ┆ str                    ┆ ---                  ┆ i64               │\n",
      "│             ┆                                   ┆                                  ┆           ┆   ┆                       ┆                        ┆ str                  ┆                   │\n",
      "╞═════════════╪═══════════════════════════════════╪══════════════════════════════════╪═══════════╪═══╪═══════════════════════╪════════════════════════╪══════════════════════╪═══════════════════╡\n",
      "│ 010001      ┆ SOUTHEAST HEALTH MEDICAL CENTE…   ┆ 1108 ROSS CLARK CIRCLE           ┆ DOTHAN    ┆ … ┆ null                  ┆ 12                     ┆ 10                   ┆ null              │\n",
      "│ 010005      ┆ MARSHALL MEDICAL CENTERS          ┆ 2505 U S HIGHWAY 431 NORTH       ┆ BOAZ      ┆ … ┆ null                  ┆ 12                     ┆ 12                   ┆ null              │\n",
      "│ 010006      ┆ NORTH ALABAMA MEDICAL CENTER      ┆ 1701 VETERANS DRIVE              ┆ FLORENCE  ┆ … ┆ null                  ┆ 12                     ┆ 11                   ┆ null              │\n",
      "│ 010007      ┆ MIZELL MEMORIAL HOSPITAL          ┆ 702 N MAIN ST                    ┆ OPP       ┆ … ┆ null                  ┆ 12                     ┆ 7                    ┆ null              │\n",
      "│ 010008      ┆ CRENSHAW COMMUNITY HOSPITAL       ┆ 101 HOSPITAL CIRCLE              ┆ LUVERNE   ┆ … ┆ 5                     ┆ 12                     ┆ 6                    ┆ null              │\n",
      "│ …           ┆ …                                 ┆ …                                ┆ …         ┆ … ┆ …                     ┆ …                      ┆ …                    ┆ …                 │\n",
      "│ 670319      ┆ TRINITY REGIONAL HOSPITAL SACH…   ┆ 4750 PRESIDENT GEORGE BUSH HIG…  ┆ SACHSE    ┆ … ┆ 19                    ┆ Not Available          ┆ Not Available        ┆ 19                │\n",
      "│ 670320      ┆ EAST HOUSTON MEDICAL CENTER       ┆ 15149 WALLISVILLE ROAD           ┆ HOUSTON   ┆ … ┆ 19                    ┆ Not Available          ┆ Not Available        ┆ 19                │\n",
      "│ 670321      ┆ ADVANCED DALLAS HOSPITALS AND …   ┆ 7502 GREENVILLE AVENUE           ┆ DALLAS    ┆ … ┆ 5                     ┆ Not Available          ┆ Not Available        ┆ 5                 │\n",
      "│ 670322      ┆ LEGENT SURGICAL HOSPITAL PLANO    ┆ 4100 MAPLESHADE LANE             ┆ PLANO     ┆ … ┆ 5                     ┆ 12                     ┆ Not Available        ┆ 5                 │\n",
      "│ 671300      ┆ GRAHAM REGIONAL MEDICAL CENTER    ┆ 1301 MONTGOMERY ROAD             ┆ GRAHAM    ┆ … ┆ 5                     ┆ Not Available          ┆ Not Available        ┆ 5                 │\n",
      "└─────────────┴───────────────────────────────────┴──────────────────────────────────┴───────────┴───┴───────────────────────┴────────────────────────┴──────────────────────┴───────────────────┘\n"
     ]
    }
   ],
   "source": [
    "url = 'data/Hospital_General_Information.csv'\n",
    "\n",
    "hos_raw = pl.read_csv(url, null_values='NA', ignore_errors=True)\n",
    "\n",
    "# inspect output\n",
    "print(hos_raw)"
   ]
  },
  {
   "cell_type": "markdown",
   "metadata": {},
   "source": [
    "## Pulling out column names"
   ]
  },
  {
   "cell_type": "code",
   "execution_count": 96,
   "metadata": {},
   "outputs": [
    {
     "data": {
      "text/plain": [
       "['Facility ID',\n",
       " 'Facility Name',\n",
       " 'Address',\n",
       " 'City/Town',\n",
       " 'State',\n",
       " 'ZIP Code',\n",
       " 'County/Parish',\n",
       " 'Telephone Number',\n",
       " 'Hospital Type',\n",
       " 'Hospital Ownership',\n",
       " 'Emergency Services',\n",
       " 'Meets criteria for promoting interoperability of EHRs',\n",
       " 'Meets criteria for birthing friendly designation',\n",
       " 'Hospital overall rating',\n",
       " 'Hospital overall rating footnote',\n",
       " 'MORT Group Measure Count',\n",
       " 'Count of Facility MORT Measures',\n",
       " 'Count of MORT Measures Better',\n",
       " 'Count of MORT Measures No Different',\n",
       " 'Count of MORT Measures Worse',\n",
       " 'MORT Group Footnote',\n",
       " 'Safety Group Measure Count',\n",
       " 'Count of Facility Safety Measures',\n",
       " 'Count of Safety Measures Better',\n",
       " 'Count of Safety Measures No Different',\n",
       " 'Count of Safety Measures Worse',\n",
       " 'Safety Group Footnote',\n",
       " 'READM Group Measure Count',\n",
       " 'Count of Facility READM Measures',\n",
       " 'Count of READM Measures Better',\n",
       " 'Count of READM Measures No Different',\n",
       " 'Count of READM Measures Worse',\n",
       " 'READM Group Footnote',\n",
       " 'Pt Exp Group Measure Count',\n",
       " 'Count of Facility Pt Exp Measures',\n",
       " 'Pt Exp Group Footnote',\n",
       " 'TE Group Measure Count',\n",
       " 'Count of Facility TE Measures',\n",
       " 'TE Group Footnote']"
      ]
     },
     "execution_count": null,
     "metadata": {},
     "output_type": "execute_result"
    }
   ],
   "source": [
    "hos_raw.columns"
   ]
  },
  {
   "cell_type": "markdown",
   "metadata": {},
   "source": [
    "## Verifying missing values"
   ]
  },
  {
   "cell_type": "code",
   "execution_count": 97,
   "metadata": {},
   "outputs": [
    {
     "data": {
      "text/html": [
       "<div><style>\n",
       ".dataframe > thead > tr,\n",
       ".dataframe > tbody > tr {\n",
       "  text-align: right;\n",
       "  white-space: pre-wrap;\n",
       "}\n",
       "</style>\n",
       "<small>shape: (1, 39)</small><table border=\"1\" class=\"dataframe\"><thead><tr><th>Facility ID</th><th>Facility Name</th><th>Address</th><th>City/Town</th><th>State</th><th>ZIP Code</th><th>County/Parish</th><th>Telephone Number</th><th>Hospital Type</th><th>Hospital Ownership</th><th>Emergency Services</th><th>Meets criteria for promoting interoperability of EHRs</th><th>Meets criteria for birthing friendly designation</th><th>Hospital overall rating</th><th>Hospital overall rating footnote</th><th>MORT Group Measure Count</th><th>Count of Facility MORT Measures</th><th>Count of MORT Measures Better</th><th>Count of MORT Measures No Different</th><th>Count of MORT Measures Worse</th><th>MORT Group Footnote</th><th>Safety Group Measure Count</th><th>Count of Facility Safety Measures</th><th>Count of Safety Measures Better</th><th>Count of Safety Measures No Different</th><th>Count of Safety Measures Worse</th><th>Safety Group Footnote</th><th>READM Group Measure Count</th><th>Count of Facility READM Measures</th><th>Count of READM Measures Better</th><th>Count of READM Measures No Different</th><th>Count of READM Measures Worse</th><th>READM Group Footnote</th><th>Pt Exp Group Measure Count</th><th>Count of Facility Pt Exp Measures</th><th>Pt Exp Group Footnote</th><th>TE Group Measure Count</th><th>Count of Facility TE Measures</th><th>TE Group Footnote</th></tr><tr><td>u32</td><td>u32</td><td>u32</td><td>u32</td><td>u32</td><td>u32</td><td>u32</td><td>u32</td><td>u32</td><td>u32</td><td>u32</td><td>u32</td><td>u32</td><td>u32</td><td>u32</td><td>u32</td><td>u32</td><td>u32</td><td>u32</td><td>u32</td><td>u32</td><td>u32</td><td>u32</td><td>u32</td><td>u32</td><td>u32</td><td>u32</td><td>u32</td><td>u32</td><td>u32</td><td>u32</td><td>u32</td><td>u32</td><td>u32</td><td>u32</td><td>u32</td><td>u32</td><td>u32</td><td>u32</td></tr></thead><tbody><tr><td>0</td><td>0</td><td>0</td><td>0</td><td>0</td><td>0</td><td>0</td><td>0</td><td>0</td><td>0</td><td>0</td><td>1500</td><td>3173</td><td>0</td><td>2789</td><td>0</td><td>0</td><td>0</td><td>0</td><td>0</td><td>3548</td><td>0</td><td>0</td><td>0</td><td>0</td><td>0</td><td>3426</td><td>0</td><td>0</td><td>0</td><td>0</td><td>0</td><td>4343</td><td>0</td><td>0</td><td>3219</td><td>0</td><td>0</td><td>4544</td></tr></tbody></table></div>"
      ],
      "text/plain": [
       "shape: (1, 39)\n",
       "┌─────────────┬───────────────┬─────────┬───────────┬───┬───────────────────────┬────────────────────────┬───────────────────────────────┬───────────────────┐\n",
       "│ Facility ID ┆ Facility Name ┆ Address ┆ City/Town ┆ … ┆ Pt Exp Group Footnote ┆ TE Group Measure Count ┆ Count of Facility TE Measures ┆ TE Group Footnote │\n",
       "│ ---         ┆ ---           ┆ ---     ┆ ---       ┆   ┆ ---                   ┆ ---                    ┆ ---                           ┆ ---               │\n",
       "│ u32         ┆ u32           ┆ u32     ┆ u32       ┆   ┆ u32                   ┆ u32                    ┆ u32                           ┆ u32               │\n",
       "╞═════════════╪═══════════════╪═════════╪═══════════╪═══╪═══════════════════════╪════════════════════════╪═══════════════════════════════╪═══════════════════╡\n",
       "│ 0           ┆ 0             ┆ 0       ┆ 0         ┆ … ┆ 3219                  ┆ 0                      ┆ 0                             ┆ 4544              │\n",
       "└─────────────┴───────────────┴─────────┴───────────┴───┴───────────────────────┴────────────────────────┴───────────────────────────────┴───────────────────┘"
      ]
     },
     "execution_count": null,
     "metadata": {},
     "output_type": "execute_result"
    }
   ],
   "source": [
    "(\n",
    "    hos_raw\n",
    "    .select(cs.all().null_count())\n",
    ")"
   ]
  },
  {
   "cell_type": "code",
   "execution_count": 99,
   "metadata": {},
   "outputs": [
    {
     "data": {
      "text/html": [
       "<div><style>\n",
       ".dataframe > thead > tr,\n",
       ".dataframe > tbody > tr {\n",
       "  text-align: right;\n",
       "  white-space: pre-wrap;\n",
       "}\n",
       "</style>\n",
       "<small>shape: (1, 39)</small><table border=\"1\" class=\"dataframe\"><thead><tr><th>Facility ID</th><th>Facility Name</th><th>Address</th><th>City/Town</th><th>State</th><th>ZIP Code</th><th>County/Parish</th><th>Telephone Number</th><th>Hospital Type</th><th>Hospital Ownership</th><th>Emergency Services</th><th>Meets criteria for promoting interoperability of EHRs</th><th>Meets criteria for birthing friendly designation</th><th>Hospital overall rating</th><th>Hospital overall rating footnote</th><th>MORT Group Measure Count</th><th>Count of Facility MORT Measures</th><th>Count of MORT Measures Better</th><th>Count of MORT Measures No Different</th><th>Count of MORT Measures Worse</th><th>MORT Group Footnote</th><th>Safety Group Measure Count</th><th>Count of Facility Safety Measures</th><th>Count of Safety Measures Better</th><th>Count of Safety Measures No Different</th><th>Count of Safety Measures Worse</th><th>Safety Group Footnote</th><th>READM Group Measure Count</th><th>Count of Facility READM Measures</th><th>Count of READM Measures Better</th><th>Count of READM Measures No Different</th><th>Count of READM Measures Worse</th><th>READM Group Footnote</th><th>Pt Exp Group Measure Count</th><th>Count of Facility Pt Exp Measures</th><th>Pt Exp Group Footnote</th><th>TE Group Measure Count</th><th>Count of Facility TE Measures</th><th>TE Group Footnote</th></tr><tr><td>u32</td><td>u32</td><td>u32</td><td>u32</td><td>u32</td><td>u32</td><td>u32</td><td>u32</td><td>u32</td><td>u32</td><td>u32</td><td>u32</td><td>u32</td><td>u32</td><td>u32</td><td>u32</td><td>u32</td><td>u32</td><td>u32</td><td>u32</td><td>u32</td><td>u32</td><td>u32</td><td>u32</td><td>u32</td><td>u32</td><td>u32</td><td>u32</td><td>u32</td><td>u32</td><td>u32</td><td>u32</td><td>u32</td><td>u32</td><td>u32</td><td>u32</td><td>u32</td><td>u32</td><td>u32</td></tr></thead><tbody><tr><td>0</td><td>0</td><td>0</td><td>0</td><td>0</td><td>0</td><td>0</td><td>0</td><td>0</td><td>0</td><td>0</td><td>1500</td><td>3173</td><td>0</td><td>2789</td><td>0</td><td>0</td><td>0</td><td>0</td><td>0</td><td>3548</td><td>0</td><td>0</td><td>0</td><td>0</td><td>0</td><td>3426</td><td>0</td><td>0</td><td>0</td><td>0</td><td>0</td><td>4343</td><td>0</td><td>0</td><td>3219</td><td>0</td><td>0</td><td>4544</td></tr></tbody></table></div>"
      ],
      "text/plain": [
       "shape: (1, 39)\n",
       "┌─────────────┬───────────────┬─────────┬───────────┬───┬───────────────────────┬────────────────────────┬───────────────────────────────┬───────────────────┐\n",
       "│ Facility ID ┆ Facility Name ┆ Address ┆ City/Town ┆ … ┆ Pt Exp Group Footnote ┆ TE Group Measure Count ┆ Count of Facility TE Measures ┆ TE Group Footnote │\n",
       "│ ---         ┆ ---           ┆ ---     ┆ ---       ┆   ┆ ---                   ┆ ---                    ┆ ---                           ┆ ---               │\n",
       "│ u32         ┆ u32           ┆ u32     ┆ u32       ┆   ┆ u32                   ┆ u32                    ┆ u32                           ┆ u32               │\n",
       "╞═════════════╪═══════════════╪═════════╪═══════════╪═══╪═══════════════════════╪════════════════════════╪═══════════════════════════════╪═══════════════════╡\n",
       "│ 0           ┆ 0             ┆ 0       ┆ 0         ┆ … ┆ 3219                  ┆ 0                      ┆ 0                             ┆ 4544              │\n",
       "└─────────────┴───────────────┴─────────┴───────────┴───┴───────────────────────┴────────────────────────┴───────────────────────────────┴───────────────────┘"
      ]
     },
     "execution_count": null,
     "metadata": {},
     "output_type": "execute_result"
    }
   ],
   "source": [
    "(\n",
    "    hos_raw\n",
    "    .select(cs.all().is_null().sum())\n",
    ")"
   ]
  },
  {
   "cell_type": "markdown",
   "metadata": {},
   "source": [
    "## Selecting columns"
   ]
  },
  {
   "cell_type": "code",
   "execution_count": 105,
   "metadata": {},
   "outputs": [
    {
     "data": {
      "text/html": [
       "<div><style>\n",
       ".dataframe > thead > tr,\n",
       ".dataframe > tbody > tr {\n",
       "  text-align: right;\n",
       "  white-space: pre-wrap;\n",
       "}\n",
       "</style>\n",
       "<small>shape: (5_398, 6)</small><table border=\"1\" class=\"dataframe\"><thead><tr><th>Hospital overall rating footnote</th><th>MORT Group Footnote</th><th>Safety Group Footnote</th><th>READM Group Footnote</th><th>Pt Exp Group Footnote</th><th>TE Group Footnote</th></tr><tr><td>i64</td><td>i64</td><td>i64</td><td>i64</td><td>i64</td><td>i64</td></tr></thead><tbody><tr><td>null</td><td>null</td><td>null</td><td>null</td><td>null</td><td>null</td></tr><tr><td>null</td><td>null</td><td>null</td><td>null</td><td>null</td><td>null</td></tr><tr><td>null</td><td>null</td><td>null</td><td>null</td><td>null</td><td>null</td></tr><tr><td>null</td><td>null</td><td>null</td><td>null</td><td>null</td><td>null</td></tr><tr><td>16</td><td>5</td><td>5</td><td>null</td><td>5</td><td>null</td></tr><tr><td>&hellip;</td><td>&hellip;</td><td>&hellip;</td><td>&hellip;</td><td>&hellip;</td><td>&hellip;</td></tr><tr><td>19</td><td>19</td><td>19</td><td>19</td><td>19</td><td>19</td></tr><tr><td>19</td><td>19</td><td>19</td><td>19</td><td>19</td><td>19</td></tr><tr><td>5</td><td>5</td><td>5</td><td>5</td><td>5</td><td>5</td></tr><tr><td>16</td><td>5</td><td>5</td><td>5</td><td>5</td><td>5</td></tr><tr><td>5</td><td>5</td><td>5</td><td>5</td><td>5</td><td>5</td></tr></tbody></table></div>"
      ],
      "text/plain": [
       "shape: (5_398, 6)\n",
       "┌─────────────────────────────────┬─────────────────────┬───────────────────────┬──────────────────────┬───────────────────────┬───────────────────┐\n",
       "│ Hospital overall rating footno… ┆ MORT Group Footnote ┆ Safety Group Footnote ┆ READM Group Footnote ┆ Pt Exp Group Footnote ┆ TE Group Footnote │\n",
       "│ ---                             ┆ ---                 ┆ ---                   ┆ ---                  ┆ ---                   ┆ ---               │\n",
       "│ i64                             ┆ i64                 ┆ i64                   ┆ i64                  ┆ i64                   ┆ i64               │\n",
       "╞═════════════════════════════════╪═════════════════════╪═══════════════════════╪══════════════════════╪═══════════════════════╪═══════════════════╡\n",
       "│ null                            ┆ null                ┆ null                  ┆ null                 ┆ null                  ┆ null              │\n",
       "│ null                            ┆ null                ┆ null                  ┆ null                 ┆ null                  ┆ null              │\n",
       "│ null                            ┆ null                ┆ null                  ┆ null                 ┆ null                  ┆ null              │\n",
       "│ null                            ┆ null                ┆ null                  ┆ null                 ┆ null                  ┆ null              │\n",
       "│ 16                              ┆ 5                   ┆ 5                     ┆ null                 ┆ 5                     ┆ null              │\n",
       "│ …                               ┆ …                   ┆ …                     ┆ …                    ┆ …                     ┆ …                 │\n",
       "│ 19                              ┆ 19                  ┆ 19                    ┆ 19                   ┆ 19                    ┆ 19                │\n",
       "│ 19                              ┆ 19                  ┆ 19                    ┆ 19                   ┆ 19                    ┆ 19                │\n",
       "│ 5                               ┆ 5                   ┆ 5                     ┆ 5                    ┆ 5                     ┆ 5                 │\n",
       "│ 16                              ┆ 5                   ┆ 5                     ┆ 5                    ┆ 5                     ┆ 5                 │\n",
       "│ 5                               ┆ 5                   ┆ 5                     ┆ 5                    ┆ 5                     ┆ 5                 │\n",
       "└─────────────────────────────────┴─────────────────────┴───────────────────────┴──────────────────────┴───────────────────────┴───────────────────┘"
      ]
     },
     "execution_count": null,
     "metadata": {},
     "output_type": "execute_result"
    }
   ],
   "source": [
    "(\n",
    "    hos_raw\n",
    "    .select(cs.ends_with('note'))\n",
    ")"
   ]
  },
  {
   "cell_type": "code",
   "execution_count": 107,
   "metadata": {},
   "outputs": [
    {
     "data": {
      "text/html": [
       "<div><style>\n",
       ".dataframe > thead > tr,\n",
       ".dataframe > tbody > tr {\n",
       "  text-align: right;\n",
       "  white-space: pre-wrap;\n",
       "}\n",
       "</style>\n",
       "<small>shape: (5_398, 32)</small><table border=\"1\" class=\"dataframe\"><thead><tr><th>Facility Name</th><th>Address</th><th>City/Town</th><th>State</th><th>ZIP Code</th><th>County/Parish</th><th>Telephone Number</th><th>Hospital Type</th><th>Hospital Ownership</th><th>Emergency Services</th><th>Meets criteria for promoting interoperability of EHRs</th><th>Meets criteria for birthing friendly designation</th><th>Hospital overall rating</th><th>MORT Group Measure Count</th><th>Count of Facility MORT Measures</th><th>Count of MORT Measures Better</th><th>Count of MORT Measures No Different</th><th>Count of MORT Measures Worse</th><th>Safety Group Measure Count</th><th>Count of Facility Safety Measures</th><th>Count of Safety Measures Better</th><th>Count of Safety Measures No Different</th><th>Count of Safety Measures Worse</th><th>READM Group Measure Count</th><th>Count of Facility READM Measures</th><th>Count of READM Measures Better</th><th>Count of READM Measures No Different</th><th>Count of READM Measures Worse</th><th>Pt Exp Group Measure Count</th><th>Count of Facility Pt Exp Measures</th><th>TE Group Measure Count</th><th>Count of Facility TE Measures</th></tr><tr><td>str</td><td>str</td><td>str</td><td>str</td><td>i64</td><td>str</td><td>str</td><td>str</td><td>str</td><td>str</td><td>str</td><td>str</td><td>str</td><td>str</td><td>str</td><td>str</td><td>str</td><td>str</td><td>str</td><td>str</td><td>str</td><td>str</td><td>str</td><td>str</td><td>str</td><td>str</td><td>str</td><td>str</td><td>str</td><td>str</td><td>str</td><td>str</td></tr></thead><tbody><tr><td>&quot;SOUTHEAST HEALTH MEDICAL CENTE…</td><td>&quot;1108 ROSS CLARK CIRCLE&quot;</td><td>&quot;DOTHAN&quot;</td><td>&quot;AL&quot;</td><td>36301</td><td>&quot;HOUSTON&quot;</td><td>&quot;(334) 793-8701&quot;</td><td>&quot;Acute Care Hospitals&quot;</td><td>&quot;Government - Hospital District…</td><td>&quot;Yes&quot;</td><td>&quot;Y&quot;</td><td>&quot;Y&quot;</td><td>&quot;3&quot;</td><td>&quot;7&quot;</td><td>&quot;7&quot;</td><td>&quot;1&quot;</td><td>&quot;6&quot;</td><td>&quot;0&quot;</td><td>&quot;8&quot;</td><td>&quot;7&quot;</td><td>&quot;2&quot;</td><td>&quot;5&quot;</td><td>&quot;0&quot;</td><td>&quot;11&quot;</td><td>&quot;11&quot;</td><td>&quot;1&quot;</td><td>&quot;8&quot;</td><td>&quot;2&quot;</td><td>&quot;8&quot;</td><td>&quot;8&quot;</td><td>&quot;12&quot;</td><td>&quot;10&quot;</td></tr><tr><td>&quot;MARSHALL MEDICAL CENTERS&quot;</td><td>&quot;2505 U S HIGHWAY 431 NORTH&quot;</td><td>&quot;BOAZ&quot;</td><td>&quot;AL&quot;</td><td>35957</td><td>&quot;MARSHALL&quot;</td><td>&quot;(256) 593-8310&quot;</td><td>&quot;Acute Care Hospitals&quot;</td><td>&quot;Government - Hospital District…</td><td>&quot;Yes&quot;</td><td>&quot;Y&quot;</td><td>null</td><td>&quot;2&quot;</td><td>&quot;7&quot;</td><td>&quot;6&quot;</td><td>&quot;0&quot;</td><td>&quot;5&quot;</td><td>&quot;1&quot;</td><td>&quot;8&quot;</td><td>&quot;7&quot;</td><td>&quot;0&quot;</td><td>&quot;7&quot;</td><td>&quot;0&quot;</td><td>&quot;11&quot;</td><td>&quot;9&quot;</td><td>&quot;0&quot;</td><td>&quot;8&quot;</td><td>&quot;1&quot;</td><td>&quot;8&quot;</td><td>&quot;8&quot;</td><td>&quot;12&quot;</td><td>&quot;12&quot;</td></tr><tr><td>&quot;NORTH ALABAMA MEDICAL CENTER&quot;</td><td>&quot;1701 VETERANS DRIVE&quot;</td><td>&quot;FLORENCE&quot;</td><td>&quot;AL&quot;</td><td>35630</td><td>&quot;LAUDERDALE&quot;</td><td>&quot;(256) 629-1000&quot;</td><td>&quot;Acute Care Hospitals&quot;</td><td>&quot;Proprietary&quot;</td><td>&quot;Yes&quot;</td><td>&quot;Y&quot;</td><td>&quot;Y&quot;</td><td>&quot;1&quot;</td><td>&quot;7&quot;</td><td>&quot;7&quot;</td><td>&quot;0&quot;</td><td>&quot;6&quot;</td><td>&quot;1&quot;</td><td>&quot;8&quot;</td><td>&quot;7&quot;</td><td>&quot;3&quot;</td><td>&quot;4&quot;</td><td>&quot;0&quot;</td><td>&quot;11&quot;</td><td>&quot;9&quot;</td><td>&quot;0&quot;</td><td>&quot;7&quot;</td><td>&quot;2&quot;</td><td>&quot;8&quot;</td><td>&quot;8&quot;</td><td>&quot;12&quot;</td><td>&quot;11&quot;</td></tr><tr><td>&quot;MIZELL MEMORIAL HOSPITAL&quot;</td><td>&quot;702 N MAIN ST&quot;</td><td>&quot;OPP&quot;</td><td>&quot;AL&quot;</td><td>36467</td><td>&quot;COVINGTON&quot;</td><td>&quot;(334) 493-3541&quot;</td><td>&quot;Acute Care Hospitals&quot;</td><td>&quot;Voluntary non-profit - Private&quot;</td><td>&quot;Yes&quot;</td><td>&quot;Y&quot;</td><td>null</td><td>&quot;1&quot;</td><td>&quot;7&quot;</td><td>&quot;3&quot;</td><td>&quot;0&quot;</td><td>&quot;2&quot;</td><td>&quot;1&quot;</td><td>&quot;8&quot;</td><td>&quot;2&quot;</td><td>&quot;0&quot;</td><td>&quot;2&quot;</td><td>&quot;0&quot;</td><td>&quot;11&quot;</td><td>&quot;7&quot;</td><td>&quot;0&quot;</td><td>&quot;7&quot;</td><td>&quot;0&quot;</td><td>&quot;8&quot;</td><td>&quot;8&quot;</td><td>&quot;12&quot;</td><td>&quot;7&quot;</td></tr><tr><td>&quot;CRENSHAW COMMUNITY HOSPITAL&quot;</td><td>&quot;101 HOSPITAL CIRCLE&quot;</td><td>&quot;LUVERNE&quot;</td><td>&quot;AL&quot;</td><td>36049</td><td>&quot;CRENSHAW&quot;</td><td>&quot;(334) 335-3374&quot;</td><td>&quot;Acute Care Hospitals&quot;</td><td>&quot;Proprietary&quot;</td><td>&quot;Yes&quot;</td><td>&quot;Y&quot;</td><td>null</td><td>&quot;Not Available&quot;</td><td>&quot;7&quot;</td><td>&quot;Not Available&quot;</td><td>&quot;Not Available&quot;</td><td>&quot;Not Available&quot;</td><td>&quot;Not Available&quot;</td><td>&quot;8&quot;</td><td>&quot;Not Available&quot;</td><td>&quot;Not Available&quot;</td><td>&quot;Not Available&quot;</td><td>&quot;Not Available&quot;</td><td>&quot;11&quot;</td><td>&quot;2&quot;</td><td>&quot;0&quot;</td><td>&quot;2&quot;</td><td>&quot;0&quot;</td><td>&quot;8&quot;</td><td>&quot;Not Available&quot;</td><td>&quot;12&quot;</td><td>&quot;6&quot;</td></tr><tr><td>&hellip;</td><td>&hellip;</td><td>&hellip;</td><td>&hellip;</td><td>&hellip;</td><td>&hellip;</td><td>&hellip;</td><td>&hellip;</td><td>&hellip;</td><td>&hellip;</td><td>&hellip;</td><td>&hellip;</td><td>&hellip;</td><td>&hellip;</td><td>&hellip;</td><td>&hellip;</td><td>&hellip;</td><td>&hellip;</td><td>&hellip;</td><td>&hellip;</td><td>&hellip;</td><td>&hellip;</td><td>&hellip;</td><td>&hellip;</td><td>&hellip;</td><td>&hellip;</td><td>&hellip;</td><td>&hellip;</td><td>&hellip;</td><td>&hellip;</td><td>&hellip;</td><td>&hellip;</td></tr><tr><td>&quot;TRINITY REGIONAL HOSPITAL SACH…</td><td>&quot;4750 PRESIDENT GEORGE BUSH HIG…</td><td>&quot;SACHSE&quot;</td><td>&quot;TX&quot;</td><td>75048</td><td>&quot;DALLAS&quot;</td><td>&quot;(469) 298-2599&quot;</td><td>&quot;Acute Care Hospitals&quot;</td><td>&quot;Voluntary non-profit - Private&quot;</td><td>&quot;Yes&quot;</td><td>null</td><td>null</td><td>&quot;Not Available&quot;</td><td>&quot;Not Available&quot;</td><td>&quot;Not Available&quot;</td><td>&quot;Not Available&quot;</td><td>&quot;Not Available&quot;</td><td>&quot;Not Available&quot;</td><td>&quot;Not Available&quot;</td><td>&quot;Not Available&quot;</td><td>&quot;Not Available&quot;</td><td>&quot;Not Available&quot;</td><td>&quot;Not Available&quot;</td><td>&quot;Not Available&quot;</td><td>&quot;Not Available&quot;</td><td>&quot;Not Available&quot;</td><td>&quot;Not Available&quot;</td><td>&quot;Not Available&quot;</td><td>&quot;Not Available&quot;</td><td>&quot;Not Available&quot;</td><td>&quot;Not Available&quot;</td><td>&quot;Not Available&quot;</td></tr><tr><td>&quot;EAST HOUSTON MEDICAL CENTER&quot;</td><td>&quot;15149 WALLISVILLE ROAD&quot;</td><td>&quot;HOUSTON&quot;</td><td>&quot;TX&quot;</td><td>77049</td><td>&quot;HARRIS&quot;</td><td>&quot;(281) 988-9800&quot;</td><td>&quot;Acute Care Hospitals&quot;</td><td>&quot;Proprietary&quot;</td><td>&quot;Yes&quot;</td><td>null</td><td>null</td><td>&quot;Not Available&quot;</td><td>&quot;Not Available&quot;</td><td>&quot;Not Available&quot;</td><td>&quot;Not Available&quot;</td><td>&quot;Not Available&quot;</td><td>&quot;Not Available&quot;</td><td>&quot;Not Available&quot;</td><td>&quot;Not Available&quot;</td><td>&quot;Not Available&quot;</td><td>&quot;Not Available&quot;</td><td>&quot;Not Available&quot;</td><td>&quot;Not Available&quot;</td><td>&quot;Not Available&quot;</td><td>&quot;Not Available&quot;</td><td>&quot;Not Available&quot;</td><td>&quot;Not Available&quot;</td><td>&quot;Not Available&quot;</td><td>&quot;Not Available&quot;</td><td>&quot;Not Available&quot;</td><td>&quot;Not Available&quot;</td></tr><tr><td>&quot;ADVANCED DALLAS HOSPITALS AND …</td><td>&quot;7502 GREENVILLE AVENUE&quot;</td><td>&quot;DALLAS&quot;</td><td>&quot;TX&quot;</td><td>75231</td><td>&quot;DALLAS&quot;</td><td>&quot;(214) 221-6000&quot;</td><td>&quot;Acute Care Hospitals&quot;</td><td>&quot;Proprietary&quot;</td><td>&quot;Yes&quot;</td><td>null</td><td>null</td><td>&quot;Not Available&quot;</td><td>&quot;Not Available&quot;</td><td>&quot;Not Available&quot;</td><td>&quot;Not Available&quot;</td><td>&quot;Not Available&quot;</td><td>&quot;Not Available&quot;</td><td>&quot;Not Available&quot;</td><td>&quot;Not Available&quot;</td><td>&quot;Not Available&quot;</td><td>&quot;Not Available&quot;</td><td>&quot;Not Available&quot;</td><td>&quot;Not Available&quot;</td><td>&quot;Not Available&quot;</td><td>&quot;Not Available&quot;</td><td>&quot;Not Available&quot;</td><td>&quot;Not Available&quot;</td><td>&quot;Not Available&quot;</td><td>&quot;Not Available&quot;</td><td>&quot;Not Available&quot;</td><td>&quot;Not Available&quot;</td></tr><tr><td>&quot;LEGENT SURGICAL HOSPITAL PLANO&quot;</td><td>&quot;4100 MAPLESHADE LANE&quot;</td><td>&quot;PLANO&quot;</td><td>&quot;TX&quot;</td><td>75075</td><td>&quot;COLLIN&quot;</td><td>&quot;(972) 265-1050&quot;</td><td>&quot;Acute Care Hospitals&quot;</td><td>&quot;Proprietary&quot;</td><td>&quot;Yes&quot;</td><td>null</td><td>null</td><td>&quot;Not Available&quot;</td><td>&quot;7&quot;</td><td>&quot;Not Available&quot;</td><td>&quot;Not Available&quot;</td><td>&quot;Not Available&quot;</td><td>&quot;Not Available&quot;</td><td>&quot;8&quot;</td><td>&quot;Not Available&quot;</td><td>&quot;Not Available&quot;</td><td>&quot;Not Available&quot;</td><td>&quot;Not Available&quot;</td><td>&quot;11&quot;</td><td>&quot;Not Available&quot;</td><td>&quot;Not Available&quot;</td><td>&quot;Not Available&quot;</td><td>&quot;Not Available&quot;</td><td>&quot;8&quot;</td><td>&quot;Not Available&quot;</td><td>&quot;12&quot;</td><td>&quot;Not Available&quot;</td></tr><tr><td>&quot;GRAHAM REGIONAL MEDICAL CENTER&quot;</td><td>&quot;1301 MONTGOMERY ROAD&quot;</td><td>&quot;GRAHAM&quot;</td><td>&quot;TX&quot;</td><td>76450</td><td>&quot;YOUNG&quot;</td><td>&quot;(940) 549-3400&quot;</td><td>&quot;Critical Access Hospitals&quot;</td><td>&quot;Government - Hospital District…</td><td>&quot;Yes&quot;</td><td>null</td><td>null</td><td>&quot;Not Available&quot;</td><td>&quot;Not Available&quot;</td><td>&quot;Not Available&quot;</td><td>&quot;Not Available&quot;</td><td>&quot;Not Available&quot;</td><td>&quot;Not Available&quot;</td><td>&quot;Not Available&quot;</td><td>&quot;Not Available&quot;</td><td>&quot;Not Available&quot;</td><td>&quot;Not Available&quot;</td><td>&quot;Not Available&quot;</td><td>&quot;Not Available&quot;</td><td>&quot;Not Available&quot;</td><td>&quot;Not Available&quot;</td><td>&quot;Not Available&quot;</td><td>&quot;Not Available&quot;</td><td>&quot;Not Available&quot;</td><td>&quot;Not Available&quot;</td><td>&quot;Not Available&quot;</td><td>&quot;Not Available&quot;</td></tr></tbody></table></div>"
      ],
      "text/plain": [
       "shape: (5_398, 32)\n",
       "┌─────────────────────────────────┬────────────────────────┬───────────┬───────┬───┬────────────────────────────┬──────────────────────────┬────────────────────────┬──────────────────────┐\n",
       "│ Facility Name                   ┆ Address                ┆ City/Town ┆ State ┆ … ┆ Pt Exp Group Measure Count ┆ Count of Facility Pt Exp ┆ TE Group Measure Count ┆ Count of Facility TE │\n",
       "│ ---                             ┆ ---                    ┆ ---       ┆ ---   ┆   ┆ ---                        ┆ Measu…                   ┆ ---                    ┆ Measures             │\n",
       "│ str                             ┆ str                    ┆ str       ┆ str   ┆   ┆ str                        ┆ ---                      ┆ str                    ┆ ---                  │\n",
       "│                                 ┆                        ┆           ┆       ┆   ┆                            ┆ str                      ┆                        ┆ str                  │\n",
       "╞═════════════════════════════════╪════════════════════════╪═══════════╪═══════╪═══╪════════════════════════════╪══════════════════════════╪════════════════════════╪══════════════════════╡\n",
       "│ SOUTHEAST HEALTH MEDICAL CENTE… ┆ 1108 ROSS CLARK CIRCLE ┆ DOTHAN    ┆ AL    ┆ … ┆ 8                          ┆ 8                        ┆ 12                     ┆ 10                   │\n",
       "│ MARSHALL MEDICAL CENTERS        ┆ 2505 U S HIGHWAY 431   ┆ BOAZ      ┆ AL    ┆ … ┆ 8                          ┆ 8                        ┆ 12                     ┆ 12                   │\n",
       "│                                 ┆ NORTH                  ┆           ┆       ┆   ┆                            ┆                          ┆                        ┆                      │\n",
       "│ NORTH ALABAMA MEDICAL CENTER    ┆ 1701 VETERANS DRIVE    ┆ FLORENCE  ┆ AL    ┆ … ┆ 8                          ┆ 8                        ┆ 12                     ┆ 11                   │\n",
       "│ MIZELL MEMORIAL HOSPITAL        ┆ 702 N MAIN ST          ┆ OPP       ┆ AL    ┆ … ┆ 8                          ┆ 8                        ┆ 12                     ┆ 7                    │\n",
       "│ CRENSHAW COMMUNITY HOSPITAL     ┆ 101 HOSPITAL CIRCLE    ┆ LUVERNE   ┆ AL    ┆ … ┆ 8                          ┆ Not Available            ┆ 12                     ┆ 6                    │\n",
       "│ …                               ┆ …                      ┆ …         ┆ …     ┆ … ┆ …                          ┆ …                        ┆ …                      ┆ …                    │\n",
       "│ TRINITY REGIONAL HOSPITAL SACH… ┆ 4750 PRESIDENT GEORGE  ┆ SACHSE    ┆ TX    ┆ … ┆ Not Available              ┆ Not Available            ┆ Not Available          ┆ Not Available        │\n",
       "│                                 ┆ BUSH HIG…              ┆           ┆       ┆   ┆                            ┆                          ┆                        ┆                      │\n",
       "│ EAST HOUSTON MEDICAL CENTER     ┆ 15149 WALLISVILLE ROAD ┆ HOUSTON   ┆ TX    ┆ … ┆ Not Available              ┆ Not Available            ┆ Not Available          ┆ Not Available        │\n",
       "│ ADVANCED DALLAS HOSPITALS AND … ┆ 7502 GREENVILLE AVENUE ┆ DALLAS    ┆ TX    ┆ … ┆ Not Available              ┆ Not Available            ┆ Not Available          ┆ Not Available        │\n",
       "│ LEGENT SURGICAL HOSPITAL PLANO  ┆ 4100 MAPLESHADE LANE   ┆ PLANO     ┆ TX    ┆ … ┆ 8                          ┆ Not Available            ┆ 12                     ┆ Not Available        │\n",
       "│ GRAHAM REGIONAL MEDICAL CENTER  ┆ 1301 MONTGOMERY ROAD   ┆ GRAHAM    ┆ TX    ┆ … ┆ Not Available              ┆ Not Available            ┆ Not Available          ┆ Not Available        │\n",
       "└─────────────────────────────────┴────────────────────────┴───────────┴───────┴───┴────────────────────────────┴──────────────────────────┴────────────────────────┴──────────────────────┘"
      ]
     },
     "execution_count": null,
     "metadata": {},
     "output_type": "execute_result"
    }
   ],
   "source": [
    "(\n",
    "    hos_raw\n",
    "    .select(cs.all() - (cs.ends_with('note') | pl.col('Facility ID')))\n",
    ")"
   ]
  },
  {
   "cell_type": "code",
   "execution_count": 108,
   "metadata": {},
   "outputs": [
    {
     "data": {
      "text/plain": [
       "['Facility ID',\n",
       " 'Facility Name',\n",
       " 'Address',\n",
       " 'City/Town',\n",
       " 'State',\n",
       " 'ZIP Code',\n",
       " 'County/Parish',\n",
       " 'Telephone Number',\n",
       " 'Hospital Type',\n",
       " 'Hospital Ownership',\n",
       " 'Emergency Services',\n",
       " 'Meets criteria for promoting interoperability of EHRs',\n",
       " 'Meets criteria for birthing friendly designation',\n",
       " 'Hospital overall rating',\n",
       " 'Hospital overall rating footnote',\n",
       " 'MORT Group Measure Count',\n",
       " 'Count of Facility MORT Measures',\n",
       " 'Count of MORT Measures Better',\n",
       " 'Count of MORT Measures No Different',\n",
       " 'Count of MORT Measures Worse',\n",
       " 'MORT Group Footnote',\n",
       " 'Safety Group Measure Count',\n",
       " 'Count of Facility Safety Measures',\n",
       " 'Count of Safety Measures Better',\n",
       " 'Count of Safety Measures No Different',\n",
       " 'Count of Safety Measures Worse',\n",
       " 'Safety Group Footnote',\n",
       " 'READM Group Measure Count',\n",
       " 'Count of Facility READM Measures',\n",
       " 'Count of READM Measures Better',\n",
       " 'Count of READM Measures No Different',\n",
       " 'Count of READM Measures Worse',\n",
       " 'READM Group Footnote',\n",
       " 'Pt Exp Group Measure Count',\n",
       " 'Count of Facility Pt Exp Measures',\n",
       " 'Pt Exp Group Footnote',\n",
       " 'TE Group Measure Count',\n",
       " 'Count of Facility TE Measures',\n",
       " 'TE Group Footnote']"
      ]
     },
     "execution_count": null,
     "metadata": {},
     "output_type": "execute_result"
    }
   ],
   "source": [
    "hos_raw.columns"
   ]
  },
  {
   "cell_type": "code",
   "execution_count": 109,
   "metadata": {},
   "outputs": [
    {
     "data": {
      "text/html": [
       "<div><style>\n",
       ".dataframe > thead > tr,\n",
       ".dataframe > tbody > tr {\n",
       "  text-align: right;\n",
       "  white-space: pre-wrap;\n",
       "}\n",
       "</style>\n",
       "<small>shape: (5_398, 30)</small><table border=\"1\" class=\"dataframe\"><thead><tr><th>Facility ID</th><th>Facility Name</th><th>Address</th><th>City/Town</th><th>State</th><th>ZIP Code</th><th>County/Parish</th><th>Telephone Number</th><th>Hospital Type</th><th>Hospital Ownership</th><th>Emergency Services</th><th>Meets criteria for promoting interoperability of EHRs</th><th>Meets criteria for birthing friendly designation</th><th>Hospital overall rating</th><th>Hospital overall rating footnote</th><th>MORT Group Measure Count</th><th>Count of Facility MORT Measures</th><th>Count of MORT Measures Better</th><th>Count of MORT Measures No Different</th><th>Count of MORT Measures Worse</th><th>MORT Group Footnote</th><th>Safety Group Measure Count</th><th>Count of Facility Safety Measures</th><th>Count of Safety Measures Better</th><th>Count of Safety Measures No Different</th><th>Count of Facility Pt Exp Measures</th><th>Pt Exp Group Footnote</th><th>TE Group Measure Count</th><th>Count of Facility TE Measures</th><th>TE Group Footnote</th></tr><tr><td>str</td><td>str</td><td>str</td><td>str</td><td>str</td><td>i64</td><td>str</td><td>str</td><td>str</td><td>str</td><td>str</td><td>str</td><td>str</td><td>str</td><td>i64</td><td>str</td><td>str</td><td>str</td><td>str</td><td>str</td><td>i64</td><td>str</td><td>str</td><td>str</td><td>str</td><td>str</td><td>i64</td><td>str</td><td>str</td><td>i64</td></tr></thead><tbody><tr><td>&quot;010001&quot;</td><td>&quot;SOUTHEAST HEALTH MEDICAL CENTE…</td><td>&quot;1108 ROSS CLARK CIRCLE&quot;</td><td>&quot;DOTHAN&quot;</td><td>&quot;AL&quot;</td><td>36301</td><td>&quot;HOUSTON&quot;</td><td>&quot;(334) 793-8701&quot;</td><td>&quot;Acute Care Hospitals&quot;</td><td>&quot;Government - Hospital District…</td><td>&quot;Yes&quot;</td><td>&quot;Y&quot;</td><td>&quot;Y&quot;</td><td>&quot;3&quot;</td><td>null</td><td>&quot;7&quot;</td><td>&quot;7&quot;</td><td>&quot;1&quot;</td><td>&quot;6&quot;</td><td>&quot;0&quot;</td><td>null</td><td>&quot;8&quot;</td><td>&quot;7&quot;</td><td>&quot;2&quot;</td><td>&quot;5&quot;</td><td>&quot;8&quot;</td><td>null</td><td>&quot;12&quot;</td><td>&quot;10&quot;</td><td>null</td></tr><tr><td>&quot;010005&quot;</td><td>&quot;MARSHALL MEDICAL CENTERS&quot;</td><td>&quot;2505 U S HIGHWAY 431 NORTH&quot;</td><td>&quot;BOAZ&quot;</td><td>&quot;AL&quot;</td><td>35957</td><td>&quot;MARSHALL&quot;</td><td>&quot;(256) 593-8310&quot;</td><td>&quot;Acute Care Hospitals&quot;</td><td>&quot;Government - Hospital District…</td><td>&quot;Yes&quot;</td><td>&quot;Y&quot;</td><td>null</td><td>&quot;2&quot;</td><td>null</td><td>&quot;7&quot;</td><td>&quot;6&quot;</td><td>&quot;0&quot;</td><td>&quot;5&quot;</td><td>&quot;1&quot;</td><td>null</td><td>&quot;8&quot;</td><td>&quot;7&quot;</td><td>&quot;0&quot;</td><td>&quot;7&quot;</td><td>&quot;8&quot;</td><td>null</td><td>&quot;12&quot;</td><td>&quot;12&quot;</td><td>null</td></tr><tr><td>&quot;010006&quot;</td><td>&quot;NORTH ALABAMA MEDICAL CENTER&quot;</td><td>&quot;1701 VETERANS DRIVE&quot;</td><td>&quot;FLORENCE&quot;</td><td>&quot;AL&quot;</td><td>35630</td><td>&quot;LAUDERDALE&quot;</td><td>&quot;(256) 629-1000&quot;</td><td>&quot;Acute Care Hospitals&quot;</td><td>&quot;Proprietary&quot;</td><td>&quot;Yes&quot;</td><td>&quot;Y&quot;</td><td>&quot;Y&quot;</td><td>&quot;1&quot;</td><td>null</td><td>&quot;7&quot;</td><td>&quot;7&quot;</td><td>&quot;0&quot;</td><td>&quot;6&quot;</td><td>&quot;1&quot;</td><td>null</td><td>&quot;8&quot;</td><td>&quot;7&quot;</td><td>&quot;3&quot;</td><td>&quot;4&quot;</td><td>&quot;8&quot;</td><td>null</td><td>&quot;12&quot;</td><td>&quot;11&quot;</td><td>null</td></tr><tr><td>&quot;010007&quot;</td><td>&quot;MIZELL MEMORIAL HOSPITAL&quot;</td><td>&quot;702 N MAIN ST&quot;</td><td>&quot;OPP&quot;</td><td>&quot;AL&quot;</td><td>36467</td><td>&quot;COVINGTON&quot;</td><td>&quot;(334) 493-3541&quot;</td><td>&quot;Acute Care Hospitals&quot;</td><td>&quot;Voluntary non-profit - Private&quot;</td><td>&quot;Yes&quot;</td><td>&quot;Y&quot;</td><td>null</td><td>&quot;1&quot;</td><td>null</td><td>&quot;7&quot;</td><td>&quot;3&quot;</td><td>&quot;0&quot;</td><td>&quot;2&quot;</td><td>&quot;1&quot;</td><td>null</td><td>&quot;8&quot;</td><td>&quot;2&quot;</td><td>&quot;0&quot;</td><td>&quot;2&quot;</td><td>&quot;8&quot;</td><td>null</td><td>&quot;12&quot;</td><td>&quot;7&quot;</td><td>null</td></tr><tr><td>&quot;010008&quot;</td><td>&quot;CRENSHAW COMMUNITY HOSPITAL&quot;</td><td>&quot;101 HOSPITAL CIRCLE&quot;</td><td>&quot;LUVERNE&quot;</td><td>&quot;AL&quot;</td><td>36049</td><td>&quot;CRENSHAW&quot;</td><td>&quot;(334) 335-3374&quot;</td><td>&quot;Acute Care Hospitals&quot;</td><td>&quot;Proprietary&quot;</td><td>&quot;Yes&quot;</td><td>&quot;Y&quot;</td><td>null</td><td>&quot;Not Available&quot;</td><td>16</td><td>&quot;7&quot;</td><td>&quot;Not Available&quot;</td><td>&quot;Not Available&quot;</td><td>&quot;Not Available&quot;</td><td>&quot;Not Available&quot;</td><td>5</td><td>&quot;8&quot;</td><td>&quot;Not Available&quot;</td><td>&quot;Not Available&quot;</td><td>&quot;Not Available&quot;</td><td>&quot;Not Available&quot;</td><td>5</td><td>&quot;12&quot;</td><td>&quot;6&quot;</td><td>null</td></tr><tr><td>&hellip;</td><td>&hellip;</td><td>&hellip;</td><td>&hellip;</td><td>&hellip;</td><td>&hellip;</td><td>&hellip;</td><td>&hellip;</td><td>&hellip;</td><td>&hellip;</td><td>&hellip;</td><td>&hellip;</td><td>&hellip;</td><td>&hellip;</td><td>&hellip;</td><td>&hellip;</td><td>&hellip;</td><td>&hellip;</td><td>&hellip;</td><td>&hellip;</td><td>&hellip;</td><td>&hellip;</td><td>&hellip;</td><td>&hellip;</td><td>&hellip;</td><td>&hellip;</td><td>&hellip;</td><td>&hellip;</td><td>&hellip;</td><td>&hellip;</td></tr><tr><td>&quot;670319&quot;</td><td>&quot;TRINITY REGIONAL HOSPITAL SACH…</td><td>&quot;4750 PRESIDENT GEORGE BUSH HIG…</td><td>&quot;SACHSE&quot;</td><td>&quot;TX&quot;</td><td>75048</td><td>&quot;DALLAS&quot;</td><td>&quot;(469) 298-2599&quot;</td><td>&quot;Acute Care Hospitals&quot;</td><td>&quot;Voluntary non-profit - Private&quot;</td><td>&quot;Yes&quot;</td><td>null</td><td>null</td><td>&quot;Not Available&quot;</td><td>19</td><td>&quot;Not Available&quot;</td><td>&quot;Not Available&quot;</td><td>&quot;Not Available&quot;</td><td>&quot;Not Available&quot;</td><td>&quot;Not Available&quot;</td><td>19</td><td>&quot;Not Available&quot;</td><td>&quot;Not Available&quot;</td><td>&quot;Not Available&quot;</td><td>&quot;Not Available&quot;</td><td>&quot;Not Available&quot;</td><td>19</td><td>&quot;Not Available&quot;</td><td>&quot;Not Available&quot;</td><td>19</td></tr><tr><td>&quot;670320&quot;</td><td>&quot;EAST HOUSTON MEDICAL CENTER&quot;</td><td>&quot;15149 WALLISVILLE ROAD&quot;</td><td>&quot;HOUSTON&quot;</td><td>&quot;TX&quot;</td><td>77049</td><td>&quot;HARRIS&quot;</td><td>&quot;(281) 988-9800&quot;</td><td>&quot;Acute Care Hospitals&quot;</td><td>&quot;Proprietary&quot;</td><td>&quot;Yes&quot;</td><td>null</td><td>null</td><td>&quot;Not Available&quot;</td><td>19</td><td>&quot;Not Available&quot;</td><td>&quot;Not Available&quot;</td><td>&quot;Not Available&quot;</td><td>&quot;Not Available&quot;</td><td>&quot;Not Available&quot;</td><td>19</td><td>&quot;Not Available&quot;</td><td>&quot;Not Available&quot;</td><td>&quot;Not Available&quot;</td><td>&quot;Not Available&quot;</td><td>&quot;Not Available&quot;</td><td>19</td><td>&quot;Not Available&quot;</td><td>&quot;Not Available&quot;</td><td>19</td></tr><tr><td>&quot;670321&quot;</td><td>&quot;ADVANCED DALLAS HOSPITALS AND …</td><td>&quot;7502 GREENVILLE AVENUE&quot;</td><td>&quot;DALLAS&quot;</td><td>&quot;TX&quot;</td><td>75231</td><td>&quot;DALLAS&quot;</td><td>&quot;(214) 221-6000&quot;</td><td>&quot;Acute Care Hospitals&quot;</td><td>&quot;Proprietary&quot;</td><td>&quot;Yes&quot;</td><td>null</td><td>null</td><td>&quot;Not Available&quot;</td><td>5</td><td>&quot;Not Available&quot;</td><td>&quot;Not Available&quot;</td><td>&quot;Not Available&quot;</td><td>&quot;Not Available&quot;</td><td>&quot;Not Available&quot;</td><td>5</td><td>&quot;Not Available&quot;</td><td>&quot;Not Available&quot;</td><td>&quot;Not Available&quot;</td><td>&quot;Not Available&quot;</td><td>&quot;Not Available&quot;</td><td>5</td><td>&quot;Not Available&quot;</td><td>&quot;Not Available&quot;</td><td>5</td></tr><tr><td>&quot;670322&quot;</td><td>&quot;LEGENT SURGICAL HOSPITAL PLANO&quot;</td><td>&quot;4100 MAPLESHADE LANE&quot;</td><td>&quot;PLANO&quot;</td><td>&quot;TX&quot;</td><td>75075</td><td>&quot;COLLIN&quot;</td><td>&quot;(972) 265-1050&quot;</td><td>&quot;Acute Care Hospitals&quot;</td><td>&quot;Proprietary&quot;</td><td>&quot;Yes&quot;</td><td>null</td><td>null</td><td>&quot;Not Available&quot;</td><td>16</td><td>&quot;7&quot;</td><td>&quot;Not Available&quot;</td><td>&quot;Not Available&quot;</td><td>&quot;Not Available&quot;</td><td>&quot;Not Available&quot;</td><td>5</td><td>&quot;8&quot;</td><td>&quot;Not Available&quot;</td><td>&quot;Not Available&quot;</td><td>&quot;Not Available&quot;</td><td>&quot;Not Available&quot;</td><td>5</td><td>&quot;12&quot;</td><td>&quot;Not Available&quot;</td><td>5</td></tr><tr><td>&quot;671300&quot;</td><td>&quot;GRAHAM REGIONAL MEDICAL CENTER&quot;</td><td>&quot;1301 MONTGOMERY ROAD&quot;</td><td>&quot;GRAHAM&quot;</td><td>&quot;TX&quot;</td><td>76450</td><td>&quot;YOUNG&quot;</td><td>&quot;(940) 549-3400&quot;</td><td>&quot;Critical Access Hospitals&quot;</td><td>&quot;Government - Hospital District…</td><td>&quot;Yes&quot;</td><td>null</td><td>null</td><td>&quot;Not Available&quot;</td><td>5</td><td>&quot;Not Available&quot;</td><td>&quot;Not Available&quot;</td><td>&quot;Not Available&quot;</td><td>&quot;Not Available&quot;</td><td>&quot;Not Available&quot;</td><td>5</td><td>&quot;Not Available&quot;</td><td>&quot;Not Available&quot;</td><td>&quot;Not Available&quot;</td><td>&quot;Not Available&quot;</td><td>&quot;Not Available&quot;</td><td>5</td><td>&quot;Not Available&quot;</td><td>&quot;Not Available&quot;</td><td>5</td></tr></tbody></table></div>"
      ],
      "text/plain": [
       "shape: (5_398, 30)\n",
       "┌─────────────┬───────────────────────────────────┬──────────────────────────────────┬───────────┬───┬───────────────────────┬────────────────────────┬──────────────────────┬───────────────────┐\n",
       "│ Facility ID ┆ Facility Name                     ┆ Address                          ┆ City/Town ┆ … ┆ Pt Exp Group Footnote ┆ TE Group Measure Count ┆ Count of Facility TE ┆ TE Group Footnote │\n",
       "│ ---         ┆ ---                               ┆ ---                              ┆ ---       ┆   ┆ ---                   ┆ ---                    ┆ Measures             ┆ ---               │\n",
       "│ str         ┆ str                               ┆ str                              ┆ str       ┆   ┆ i64                   ┆ str                    ┆ ---                  ┆ i64               │\n",
       "│             ┆                                   ┆                                  ┆           ┆   ┆                       ┆                        ┆ str                  ┆                   │\n",
       "╞═════════════╪═══════════════════════════════════╪══════════════════════════════════╪═══════════╪═══╪═══════════════════════╪════════════════════════╪══════════════════════╪═══════════════════╡\n",
       "│ 010001      ┆ SOUTHEAST HEALTH MEDICAL CENTE…   ┆ 1108 ROSS CLARK CIRCLE           ┆ DOTHAN    ┆ … ┆ null                  ┆ 12                     ┆ 10                   ┆ null              │\n",
       "│ 010005      ┆ MARSHALL MEDICAL CENTERS          ┆ 2505 U S HIGHWAY 431 NORTH       ┆ BOAZ      ┆ … ┆ null                  ┆ 12                     ┆ 12                   ┆ null              │\n",
       "│ 010006      ┆ NORTH ALABAMA MEDICAL CENTER      ┆ 1701 VETERANS DRIVE              ┆ FLORENCE  ┆ … ┆ null                  ┆ 12                     ┆ 11                   ┆ null              │\n",
       "│ 010007      ┆ MIZELL MEMORIAL HOSPITAL          ┆ 702 N MAIN ST                    ┆ OPP       ┆ … ┆ null                  ┆ 12                     ┆ 7                    ┆ null              │\n",
       "│ 010008      ┆ CRENSHAW COMMUNITY HOSPITAL       ┆ 101 HOSPITAL CIRCLE              ┆ LUVERNE   ┆ … ┆ 5                     ┆ 12                     ┆ 6                    ┆ null              │\n",
       "│ …           ┆ …                                 ┆ …                                ┆ …         ┆ … ┆ …                     ┆ …                      ┆ …                    ┆ …                 │\n",
       "│ 670319      ┆ TRINITY REGIONAL HOSPITAL SACH…   ┆ 4750 PRESIDENT GEORGE BUSH HIG…  ┆ SACHSE    ┆ … ┆ 19                    ┆ Not Available          ┆ Not Available        ┆ 19                │\n",
       "│ 670320      ┆ EAST HOUSTON MEDICAL CENTER       ┆ 15149 WALLISVILLE ROAD           ┆ HOUSTON   ┆ … ┆ 19                    ┆ Not Available          ┆ Not Available        ┆ 19                │\n",
       "│ 670321      ┆ ADVANCED DALLAS HOSPITALS AND …   ┆ 7502 GREENVILLE AVENUE           ┆ DALLAS    ┆ … ┆ 5                     ┆ Not Available          ┆ Not Available        ┆ 5                 │\n",
       "│ 670322      ┆ LEGENT SURGICAL HOSPITAL PLANO    ┆ 4100 MAPLESHADE LANE             ┆ PLANO     ┆ … ┆ 5                     ┆ 12                     ┆ Not Available        ┆ 5                 │\n",
       "│ 671300      ┆ GRAHAM REGIONAL MEDICAL CENTER    ┆ 1301 MONTGOMERY ROAD             ┆ GRAHAM    ┆ … ┆ 5                     ┆ Not Available          ┆ Not Available        ┆ 5                 │\n",
       "└─────────────┴───────────────────────────────────┴──────────────────────────────────┴───────────┴───┴───────────────────────┴────────────────────────┴──────────────────────┴───────────────────┘"
      ]
     },
     "execution_count": null,
     "metadata": {},
     "output_type": "execute_result"
    }
   ],
   "source": [
    "\n",
    "cols = ['Facility ID',\n",
    " 'Facility Name',\n",
    " 'Address',\n",
    " 'City/Town',\n",
    " 'State',\n",
    " 'ZIP Code',\n",
    " 'County/Parish',\n",
    " 'Telephone Number',\n",
    " 'Hospital Type',\n",
    " 'Hospital Ownership',\n",
    " 'Emergency Services',\n",
    " 'Meets criteria for promoting interoperability of EHRs',\n",
    " 'Meets criteria for birthing friendly designation',\n",
    " 'Hospital overall rating',\n",
    " 'Hospital overall rating footnote',\n",
    " 'MORT Group Measure Count',\n",
    " 'Count of Facility MORT Measures',\n",
    " 'Count of MORT Measures Better',\n",
    "'Count of MORT Measures No Different',\n",
    " 'Count of MORT Measures Worse',\n",
    " 'MORT Group Footnote',\n",
    " 'Safety Group Measure Count',\n",
    " 'Count of Facility Safety Measures',\n",
    " 'Count of Safety Measures Better',\n",
    " 'Count of Safety Measures No Different',\n",
    " 'Count of Facility Pt Exp Measures',\n",
    " 'Pt Exp Group Footnote',\n",
    " 'TE Group Measure Count',\n",
    " 'Count of Facility TE Measures',\n",
    " 'TE Group Footnote']\n",
    "\n",
    "(\n",
    "    hos_raw\n",
    "    .select(cols)\n",
    ")"
   ]
  },
  {
   "cell_type": "markdown",
   "metadata": {},
   "source": [
    "## Transforming column names"
   ]
  },
  {
   "cell_type": "code",
   "execution_count": 112,
   "metadata": {},
   "outputs": [
    {
     "name": "stdout",
     "output_type": "stream",
     "text": [
      "shape: (5_398, 39)\n",
      "┌─────────────┬───────────────────────────────┬──────────────────────────────┬───────────┬───┬───────────────────────┬────────────────────────┬──────────────────────────────┬───────────────────┐\n",
      "│ facility_id ┆ facility_name                 ┆ address                      ┆ city_town ┆ … ┆ pt_exp_group_footnote ┆ te_group_measure_count ┆ count_of_facility_te_measure ┆ te_group_footnote │\n",
      "│ ---         ┆ ---                           ┆ ---                          ┆ ---       ┆   ┆ ---                   ┆ ---                    ┆ s                            ┆ ---               │\n",
      "│ str         ┆ str                           ┆ str                          ┆ str       ┆   ┆ i64                   ┆ str                    ┆ ---                          ┆ i64               │\n",
      "│             ┆                               ┆                              ┆           ┆   ┆                       ┆                        ┆ str                          ┆                   │\n",
      "╞═════════════╪═══════════════════════════════╪══════════════════════════════╪═══════════╪═══╪═══════════════════════╪════════════════════════╪══════════════════════════════╪═══════════════════╡\n",
      "│ 010001      ┆ SOUTHEAST HEALTH MEDICAL      ┆ 1108 ROSS CLARK CIRCLE       ┆ DOTHAN    ┆ … ┆ null                  ┆ 12                     ┆ 10                           ┆ null              │\n",
      "│             ┆ CENTE…                        ┆                              ┆           ┆   ┆                       ┆                        ┆                              ┆                   │\n",
      "│ 010005      ┆ MARSHALL MEDICAL CENTERS      ┆ 2505 U S HIGHWAY 431 NORTH   ┆ BOAZ      ┆ … ┆ null                  ┆ 12                     ┆ 12                           ┆ null              │\n",
      "│ 010006      ┆ NORTH ALABAMA MEDICAL CENTER  ┆ 1701 VETERANS DRIVE          ┆ FLORENCE  ┆ … ┆ null                  ┆ 12                     ┆ 11                           ┆ null              │\n",
      "│ 010007      ┆ MIZELL MEMORIAL HOSPITAL      ┆ 702 N MAIN ST                ┆ OPP       ┆ … ┆ null                  ┆ 12                     ┆ 7                            ┆ null              │\n",
      "│ 010008      ┆ CRENSHAW COMMUNITY HOSPITAL   ┆ 101 HOSPITAL CIRCLE          ┆ LUVERNE   ┆ … ┆ 5                     ┆ 12                     ┆ 6                            ┆ null              │\n",
      "│ …           ┆ …                             ┆ …                            ┆ …         ┆ … ┆ …                     ┆ …                      ┆ …                            ┆ …                 │\n",
      "│ 670319      ┆ TRINITY REGIONAL HOSPITAL     ┆ 4750 PRESIDENT GEORGE BUSH   ┆ SACHSE    ┆ … ┆ 19                    ┆ Not Available          ┆ Not Available                ┆ 19                │\n",
      "│             ┆ SACH…                         ┆ HIG…                         ┆           ┆   ┆                       ┆                        ┆                              ┆                   │\n",
      "│ 670320      ┆ EAST HOUSTON MEDICAL CENTER   ┆ 15149 WALLISVILLE ROAD       ┆ HOUSTON   ┆ … ┆ 19                    ┆ Not Available          ┆ Not Available                ┆ 19                │\n",
      "│ 670321      ┆ ADVANCED DALLAS HOSPITALS AND ┆ 7502 GREENVILLE AVENUE       ┆ DALLAS    ┆ … ┆ 5                     ┆ Not Available          ┆ Not Available                ┆ 5                 │\n",
      "│             ┆ …                             ┆                              ┆           ┆   ┆                       ┆                        ┆                              ┆                   │\n",
      "│ 670322      ┆ LEGENT SURGICAL HOSPITAL      ┆ 4100 MAPLESHADE LANE         ┆ PLANO     ┆ … ┆ 5                     ┆ 12                     ┆ Not Available                ┆ 5                 │\n",
      "│             ┆ PLANO                         ┆                              ┆           ┆   ┆                       ┆                        ┆                              ┆                   │\n",
      "│ 671300      ┆ GRAHAM REGIONAL MEDICAL       ┆ 1301 MONTGOMERY ROAD         ┆ GRAHAM    ┆ … ┆ 5                     ┆ Not Available          ┆ Not Available                ┆ 5                 │\n",
      "│             ┆ CENTER                        ┆                              ┆           ┆   ┆                       ┆                        ┆                              ┆                   │\n",
      "└─────────────┴───────────────────────────────┴──────────────────────────────┴───────────┴───┴───────────────────────┴────────────────────────┴──────────────────────────────┴───────────────────┘\n",
      "shape: (5_398, 39)\n",
      "┌─────────────┬───────────────────────────────┬──────────────────────────────┬───────────┬───┬───────────────────────┬────────────────────────┬──────────────────────────────┬───────────────────┐\n",
      "│ facility_id ┆ facility_name                 ┆ address                      ┆ city_town ┆ … ┆ pt_exp_group_footnote ┆ te_group_measure_count ┆ count_of_facility_te_measure ┆ te_group_footnote │\n",
      "│ ---         ┆ ---                           ┆ ---                          ┆ ---       ┆   ┆ ---                   ┆ ---                    ┆ s                            ┆ ---               │\n",
      "│ str         ┆ str                           ┆ str                          ┆ str       ┆   ┆ i64                   ┆ str                    ┆ ---                          ┆ i64               │\n",
      "│             ┆                               ┆                              ┆           ┆   ┆                       ┆                        ┆ str                          ┆                   │\n",
      "╞═════════════╪═══════════════════════════════╪══════════════════════════════╪═══════════╪═══╪═══════════════════════╪════════════════════════╪══════════════════════════════╪═══════════════════╡\n",
      "│ 010001      ┆ SOUTHEAST HEALTH MEDICAL      ┆ 1108 ROSS CLARK CIRCLE       ┆ DOTHAN    ┆ … ┆ null                  ┆ 12                     ┆ 10                           ┆ null              │\n",
      "│             ┆ CENTE…                        ┆                              ┆           ┆   ┆                       ┆                        ┆                              ┆                   │\n",
      "│ 010005      ┆ MARSHALL MEDICAL CENTERS      ┆ 2505 U S HIGHWAY 431 NORTH   ┆ BOAZ      ┆ … ┆ null                  ┆ 12                     ┆ 12                           ┆ null              │\n",
      "│ 010006      ┆ NORTH ALABAMA MEDICAL CENTER  ┆ 1701 VETERANS DRIVE          ┆ FLORENCE  ┆ … ┆ null                  ┆ 12                     ┆ 11                           ┆ null              │\n",
      "│ 010007      ┆ MIZELL MEMORIAL HOSPITAL      ┆ 702 N MAIN ST                ┆ OPP       ┆ … ┆ null                  ┆ 12                     ┆ 7                            ┆ null              │\n",
      "│ 010008      ┆ CRENSHAW COMMUNITY HOSPITAL   ┆ 101 HOSPITAL CIRCLE          ┆ LUVERNE   ┆ … ┆ 5                     ┆ 12                     ┆ 6                            ┆ null              │\n",
      "│ …           ┆ …                             ┆ …                            ┆ …         ┆ … ┆ …                     ┆ …                      ┆ …                            ┆ …                 │\n",
      "│ 670319      ┆ TRINITY REGIONAL HOSPITAL     ┆ 4750 PRESIDENT GEORGE BUSH   ┆ SACHSE    ┆ … ┆ 19                    ┆ Not Available          ┆ Not Available                ┆ 19                │\n",
      "│             ┆ SACH…                         ┆ HIG…                         ┆           ┆   ┆                       ┆                        ┆                              ┆                   │\n",
      "│ 670320      ┆ EAST HOUSTON MEDICAL CENTER   ┆ 15149 WALLISVILLE ROAD       ┆ HOUSTON   ┆ … ┆ 19                    ┆ Not Available          ┆ Not Available                ┆ 19                │\n",
      "│ 670321      ┆ ADVANCED DALLAS HOSPITALS AND ┆ 7502 GREENVILLE AVENUE       ┆ DALLAS    ┆ … ┆ 5                     ┆ Not Available          ┆ Not Available                ┆ 5                 │\n",
      "│             ┆ …                             ┆                              ┆           ┆   ┆                       ┆                        ┆                              ┆                   │\n",
      "│ 670322      ┆ LEGENT SURGICAL HOSPITAL      ┆ 4100 MAPLESHADE LANE         ┆ PLANO     ┆ … ┆ 5                     ┆ 12                     ┆ Not Available                ┆ 5                 │\n",
      "│             ┆ PLANO                         ┆                              ┆           ┆   ┆                       ┆                        ┆                              ┆                   │\n",
      "│ 671300      ┆ GRAHAM REGIONAL MEDICAL       ┆ 1301 MONTGOMERY ROAD         ┆ GRAHAM    ┆ … ┆ 5                     ┆ Not Available          ┆ Not Available                ┆ 5                 │\n",
      "│             ┆ CENTER                        ┆                              ┆           ┆   ┆                       ┆                        ┆                              ┆                   │\n",
      "└─────────────┴───────────────────────────────┴──────────────────────────────┴───────────┴───┴───────────────────────┴────────────────────────┴──────────────────────────────┴───────────────────┘\n"
     ]
    }
   ],
   "source": [
    "hos_gen_info = (\n",
    "    hos_raw\n",
    "    .rename(lambda col: col.lower().replace(' ', '_').replace('/', '_'))\n",
    ")\n",
    "\n",
    "# inspect output\n",
    "print(hos_gen_info)"
   ]
  },
  {
   "cell_type": "code",
   "execution_count": 121,
   "metadata": {},
   "outputs": [
    {
     "name": "stdout",
     "output_type": "stream",
     "text": [
      "shape: (5, 21)\n",
      "┌───────────────────────┬───────────────────────┬───────────────────────┬───────────────────────┬───┬───────────────────────┬──────────────────────┬──────────────────────┬──────────────────────┐\n",
      "│ facility_name         ┆ hospital_overall_rati ┆ mort_group_measure_co ┆ count_of_facility_mor ┆ … ┆ pt_exp_group_measure_ ┆ count_of_facility_pt ┆ te_group_measure_cou ┆ count_of_facility_te │\n",
      "│ ---                   ┆ ng                    ┆ unt                   ┆ t_measure…            ┆   ┆ count                 ┆ _exp_measu…          ┆ nt                   ┆ _measures            │\n",
      "│ str                   ┆ ---                   ┆ ---                   ┆ ---                   ┆   ┆ ---                   ┆ ---                  ┆ ---                  ┆ ---                  │\n",
      "│                       ┆ str                   ┆ str                   ┆ str                   ┆   ┆ str                   ┆ str                  ┆ str                  ┆ str                  │\n",
      "╞═══════════════════════╪═══════════════════════╪═══════════════════════╪═══════════════════════╪═══╪═══════════════════════╪══════════════════════╪══════════════════════╪══════════════════════╡\n",
      "│ SOUTHEAST HEALTH      ┆ 3                     ┆ 7                     ┆ 7                     ┆ … ┆ 8                     ┆ 8                    ┆ 12                   ┆ 10                   │\n",
      "│ MEDICAL CENTE…        ┆                       ┆                       ┆                       ┆   ┆                       ┆                      ┆                      ┆                      │\n",
      "│ MARSHALL MEDICAL      ┆ 2                     ┆ 7                     ┆ 6                     ┆ … ┆ 8                     ┆ 8                    ┆ 12                   ┆ 12                   │\n",
      "│ CENTERS               ┆                       ┆                       ┆                       ┆   ┆                       ┆                      ┆                      ┆                      │\n",
      "│ NORTH ALABAMA MEDICAL ┆ 1                     ┆ 7                     ┆ 7                     ┆ … ┆ 8                     ┆ 8                    ┆ 12                   ┆ 11                   │\n",
      "│ CENTER                ┆                       ┆                       ┆                       ┆   ┆                       ┆                      ┆                      ┆                      │\n",
      "│ MIZELL MEMORIAL       ┆ 1                     ┆ 7                     ┆ 3                     ┆ … ┆ 8                     ┆ 8                    ┆ 12                   ┆ 7                    │\n",
      "│ HOSPITAL              ┆                       ┆                       ┆                       ┆   ┆                       ┆                      ┆                      ┆                      │\n",
      "│ CRENSHAW COMMUNITY    ┆ Not Available         ┆ 7                     ┆ Not Available         ┆ … ┆ 8                     ┆ Not Available        ┆ 12                   ┆ 6                    │\n",
      "│ HOSPITAL              ┆                       ┆                       ┆                       ┆   ┆                       ┆                      ┆                      ┆                      │\n",
      "└───────────────────────┴───────────────────────┴───────────────────────┴───────────────────────┴───┴───────────────────────┴──────────────────────┴──────────────────────┴──────────────────────┘\n",
      "shape: (5, 21)\n",
      "┌───────────────────────┬───────────────────────┬───────────────────────┬───────────────────────┬───┬───────────────────────┬──────────────────────┬──────────────────────┬──────────────────────┐\n",
      "│ facility_name         ┆ hospital_overall_rati ┆ mort_group_measure_co ┆ count_of_facility_mor ┆ … ┆ pt_exp_group_measure_ ┆ count_of_facility_pt ┆ te_group_measure_cou ┆ count_of_facility_te │\n",
      "│ ---                   ┆ ng                    ┆ unt                   ┆ t_measure…            ┆   ┆ count                 ┆ _exp_measu…          ┆ nt                   ┆ _measures            │\n",
      "│ str                   ┆ ---                   ┆ ---                   ┆ ---                   ┆   ┆ ---                   ┆ ---                  ┆ ---                  ┆ ---                  │\n",
      "│                       ┆ str                   ┆ str                   ┆ str                   ┆   ┆ str                   ┆ str                  ┆ str                  ┆ str                  │\n",
      "╞═══════════════════════╪═══════════════════════╪═══════════════════════╪═══════════════════════╪═══╪═══════════════════════╪══════════════════════╪══════════════════════╪══════════════════════╡\n",
      "│ SOUTHEAST HEALTH      ┆ 3                     ┆ 7                     ┆ 7                     ┆ … ┆ 8                     ┆ 8                    ┆ 12                   ┆ 10                   │\n",
      "│ MEDICAL CENTE…        ┆                       ┆                       ┆                       ┆   ┆                       ┆                      ┆                      ┆                      │\n",
      "│ MARSHALL MEDICAL      ┆ 2                     ┆ 7                     ┆ 6                     ┆ … ┆ 8                     ┆ 8                    ┆ 12                   ┆ 12                   │\n",
      "│ CENTERS               ┆                       ┆                       ┆                       ┆   ┆                       ┆                      ┆                      ┆                      │\n",
      "│ NORTH ALABAMA MEDICAL ┆ 1                     ┆ 7                     ┆ 7                     ┆ … ┆ 8                     ┆ 8                    ┆ 12                   ┆ 11                   │\n",
      "│ CENTER                ┆                       ┆                       ┆                       ┆   ┆                       ┆                      ┆                      ┆                      │\n",
      "│ MIZELL MEMORIAL       ┆ 1                     ┆ 7                     ┆ 3                     ┆ … ┆ 8                     ┆ 8                    ┆ 12                   ┆ 7                    │\n",
      "│ HOSPITAL              ┆                       ┆                       ┆                       ┆   ┆                       ┆                      ┆                      ┆                      │\n",
      "│ CRENSHAW COMMUNITY    ┆ Not Available         ┆ 7                     ┆ Not Available         ┆ … ┆ 8                     ┆ Not Available        ┆ 12                   ┆ 6                    │\n",
      "│ HOSPITAL              ┆                       ┆                       ┆                       ┆   ┆                       ┆                      ┆                      ┆                      │\n",
      "└───────────────────────┴───────────────────────┴───────────────────────┴───────────────────────┴───┴───────────────────────┴──────────────────────┴──────────────────────┴──────────────────────┘\n"
     ]
    }
   ],
   "source": [
    "hospital = (\n",
    "    hos_gen_info\n",
    "    .select('facility_name','hospital_overall_rating' , cs.contains('count').exclude('county_parish'))\n",
    ")\n",
    "\n",
    "print(hospital.head())"
   ]
  },
  {
   "cell_type": "code",
   "execution_count": 124,
   "metadata": {},
   "outputs": [
    {
     "name": "stdout",
     "output_type": "stream",
     "text": [
      "shape: (5_398, 21)\n",
      "┌───────────────────────┬───────────────────────┬───────────────────────┬───────────────────────┬───┬───────────────────────┬──────────────────────┬──────────────────────┬──────────────────────┐\n",
      "│ facility_name         ┆ hospital_overall_rati ┆ mort_group_measure_co ┆ count_of_facility_mor ┆ … ┆ pt_exp_group_measure_ ┆ count_of_facility_pt ┆ te_group_measure_cou ┆ count_of_facility_te │\n",
      "│ ---                   ┆ ng                    ┆ unt                   ┆ t_measure…            ┆   ┆ count                 ┆ _exp_measu…          ┆ nt                   ┆ _measures            │\n",
      "│ str                   ┆ ---                   ┆ ---                   ┆ ---                   ┆   ┆ ---                   ┆ ---                  ┆ ---                  ┆ ---                  │\n",
      "│                       ┆ str                   ┆ str                   ┆ str                   ┆   ┆ str                   ┆ str                  ┆ str                  ┆ str                  │\n",
      "╞═══════════════════════╪═══════════════════════╪═══════════════════════╪═══════════════════════╪═══╪═══════════════════════╪══════════════════════╪══════════════════════╪══════════════════════╡\n",
      "│ Southeast Health      ┆ 3                     ┆ 7                     ┆ 7                     ┆ … ┆ 8                     ┆ 8                    ┆ 12                   ┆ 10                   │\n",
      "│ Medical Cente…        ┆                       ┆                       ┆                       ┆   ┆                       ┆                      ┆                      ┆                      │\n",
      "│ Marshall Medical      ┆ 2                     ┆ 7                     ┆ 6                     ┆ … ┆ 8                     ┆ 8                    ┆ 12                   ┆ 12                   │\n",
      "│ Centers               ┆                       ┆                       ┆                       ┆   ┆                       ┆                      ┆                      ┆                      │\n",
      "│ North Alabama Medical ┆ 1                     ┆ 7                     ┆ 7                     ┆ … ┆ 8                     ┆ 8                    ┆ 12                   ┆ 11                   │\n",
      "│ Center                ┆                       ┆                       ┆                       ┆   ┆                       ┆                      ┆                      ┆                      │\n",
      "│ Mizell Memorial       ┆ 1                     ┆ 7                     ┆ 3                     ┆ … ┆ 8                     ┆ 8                    ┆ 12                   ┆ 7                    │\n",
      "│ Hospital              ┆                       ┆                       ┆                       ┆   ┆                       ┆                      ┆                      ┆                      │\n",
      "│ Crenshaw Community    ┆ Not Available         ┆ 7                     ┆ Not Available         ┆ … ┆ 8                     ┆ Not Available        ┆ 12                   ┆ 6                    │\n",
      "│ Hospital              ┆                       ┆                       ┆                       ┆   ┆                       ┆                      ┆                      ┆                      │\n",
      "│ …                     ┆ …                     ┆ …                     ┆ …                     ┆ … ┆ …                     ┆ …                    ┆ …                    ┆ …                    │\n",
      "│ Trinity Regional      ┆ Not Available         ┆ Not Available         ┆ Not Available         ┆ … ┆ Not Available         ┆ Not Available        ┆ Not Available        ┆ Not Available        │\n",
      "│ Hospital Sach…        ┆                       ┆                       ┆                       ┆   ┆                       ┆                      ┆                      ┆                      │\n",
      "│ East Houston Medical  ┆ Not Available         ┆ Not Available         ┆ Not Available         ┆ … ┆ Not Available         ┆ Not Available        ┆ Not Available        ┆ Not Available        │\n",
      "│ Center                ┆                       ┆                       ┆                       ┆   ┆                       ┆                      ┆                      ┆                      │\n",
      "│ Advanced Dallas       ┆ Not Available         ┆ Not Available         ┆ Not Available         ┆ … ┆ Not Available         ┆ Not Available        ┆ Not Available        ┆ Not Available        │\n",
      "│ Hospitals And …       ┆                       ┆                       ┆                       ┆   ┆                       ┆                      ┆                      ┆                      │\n",
      "│ Legent Surgical       ┆ Not Available         ┆ 7                     ┆ Not Available         ┆ … ┆ 8                     ┆ Not Available        ┆ 12                   ┆ Not Available        │\n",
      "│ Hospital Plano        ┆                       ┆                       ┆                       ┆   ┆                       ┆                      ┆                      ┆                      │\n",
      "│ Graham Regional       ┆ Not Available         ┆ Not Available         ┆ Not Available         ┆ … ┆ Not Available         ┆ Not Available        ┆ Not Available        ┆ Not Available        │\n",
      "│ Medical Center        ┆                       ┆                       ┆                       ┆   ┆                       ┆                      ┆                      ┆                      │\n",
      "└───────────────────────┴───────────────────────┴───────────────────────┴───────────────────────┴───┴───────────────────────┴──────────────────────┴──────────────────────┴──────────────────────┘\n",
      "shape: (5_398, 21)\n",
      "┌───────────────────────┬───────────────────────┬───────────────────────┬───────────────────────┬───┬───────────────────────┬──────────────────────┬──────────────────────┬──────────────────────┐\n",
      "│ facility_name         ┆ hospital_overall_rati ┆ mort_group_measure_co ┆ count_of_facility_mor ┆ … ┆ pt_exp_group_measure_ ┆ count_of_facility_pt ┆ te_group_measure_cou ┆ count_of_facility_te │\n",
      "│ ---                   ┆ ng                    ┆ unt                   ┆ t_measure…            ┆   ┆ count                 ┆ _exp_measu…          ┆ nt                   ┆ _measures            │\n",
      "│ str                   ┆ ---                   ┆ ---                   ┆ ---                   ┆   ┆ ---                   ┆ ---                  ┆ ---                  ┆ ---                  │\n",
      "│                       ┆ str                   ┆ str                   ┆ str                   ┆   ┆ str                   ┆ str                  ┆ str                  ┆ str                  │\n",
      "╞═══════════════════════╪═══════════════════════╪═══════════════════════╪═══════════════════════╪═══╪═══════════════════════╪══════════════════════╪══════════════════════╪══════════════════════╡\n",
      "│ Southeast Health      ┆ 3                     ┆ 7                     ┆ 7                     ┆ … ┆ 8                     ┆ 8                    ┆ 12                   ┆ 10                   │\n",
      "│ Medical Cente…        ┆                       ┆                       ┆                       ┆   ┆                       ┆                      ┆                      ┆                      │\n",
      "│ Marshall Medical      ┆ 2                     ┆ 7                     ┆ 6                     ┆ … ┆ 8                     ┆ 8                    ┆ 12                   ┆ 12                   │\n",
      "│ Centers               ┆                       ┆                       ┆                       ┆   ┆                       ┆                      ┆                      ┆                      │\n",
      "│ North Alabama Medical ┆ 1                     ┆ 7                     ┆ 7                     ┆ … ┆ 8                     ┆ 8                    ┆ 12                   ┆ 11                   │\n",
      "│ Center                ┆                       ┆                       ┆                       ┆   ┆                       ┆                      ┆                      ┆                      │\n",
      "│ Mizell Memorial       ┆ 1                     ┆ 7                     ┆ 3                     ┆ … ┆ 8                     ┆ 8                    ┆ 12                   ┆ 7                    │\n",
      "│ Hospital              ┆                       ┆                       ┆                       ┆   ┆                       ┆                      ┆                      ┆                      │\n",
      "│ Crenshaw Community    ┆ Not Available         ┆ 7                     ┆ Not Available         ┆ … ┆ 8                     ┆ Not Available        ┆ 12                   ┆ 6                    │\n",
      "│ Hospital              ┆                       ┆                       ┆                       ┆   ┆                       ┆                      ┆                      ┆                      │\n",
      "│ …                     ┆ …                     ┆ …                     ┆ …                     ┆ … ┆ …                     ┆ …                    ┆ …                    ┆ …                    │\n",
      "│ Trinity Regional      ┆ Not Available         ┆ Not Available         ┆ Not Available         ┆ … ┆ Not Available         ┆ Not Available        ┆ Not Available        ┆ Not Available        │\n",
      "│ Hospital Sach…        ┆                       ┆                       ┆                       ┆   ┆                       ┆                      ┆                      ┆                      │\n",
      "│ East Houston Medical  ┆ Not Available         ┆ Not Available         ┆ Not Available         ┆ … ┆ Not Available         ┆ Not Available        ┆ Not Available        ┆ Not Available        │\n",
      "│ Center                ┆                       ┆                       ┆                       ┆   ┆                       ┆                      ┆                      ┆                      │\n",
      "│ Advanced Dallas       ┆ Not Available         ┆ Not Available         ┆ Not Available         ┆ … ┆ Not Available         ┆ Not Available        ┆ Not Available        ┆ Not Available        │\n",
      "│ Hospitals And …       ┆                       ┆                       ┆                       ┆   ┆                       ┆                      ┆                      ┆                      │\n",
      "│ Legent Surgical       ┆ Not Available         ┆ 7                     ┆ Not Available         ┆ … ┆ 8                     ┆ Not Available        ┆ 12                   ┆ Not Available        │\n",
      "│ Hospital Plano        ┆                       ┆                       ┆                       ┆   ┆                       ┆                      ┆                      ┆                      │\n",
      "│ Graham Regional       ┆ Not Available         ┆ Not Available         ┆ Not Available         ┆ … ┆ Not Available         ┆ Not Available        ┆ Not Available        ┆ Not Available        │\n",
      "│ Medical Center        ┆                       ┆                       ┆                       ┆   ┆                       ┆                      ┆                      ┆                      │\n",
      "└───────────────────────┴───────────────────────┴───────────────────────┴───────────────────────┴───┴───────────────────────┴──────────────────────┴──────────────────────┴──────────────────────┘\n"
     ]
    }
   ],
   "source": [
    "hospital = (\n",
    "    hospital\n",
    "    .with_columns(cs.string().str.to_titlecase())\n",
    ")\n",
    "\n",
    "# inspect output\n",
    "print(hospital)"
   ]
  },
  {
   "cell_type": "code",
   "execution_count": null,
   "metadata": {},
   "outputs": [],
   "source": []
  },
  {
   "cell_type": "code",
   "execution_count": null,
   "metadata": {},
   "outputs": [],
   "source": []
  },
  {
   "cell_type": "code",
   "execution_count": 129,
   "metadata": {},
   "outputs": [
    {
     "data": {
      "text/html": [
       "<div><style>\n",
       ".dataframe > thead > tr,\n",
       ".dataframe > tbody > tr {\n",
       "  text-align: right;\n",
       "  white-space: pre-wrap;\n",
       "}\n",
       "</style>\n",
       "<small>shape: (5_398, 21)</small><table border=\"1\" class=\"dataframe\"><thead><tr><th>facility_name</th><th>hospital_overall_rating</th><th>mort_group_measure_count</th><th>count_of_facility_mort_measures</th><th>count_of_mort_measures_better</th><th>count_of_mort_measures_no_different</th><th>count_of_mort_measures_worse</th><th>safety_group_measure_count</th><th>count_of_facility_safety_measures</th><th>count_of_safety_measures_better</th><th>count_of_safety_measures_no_different</th><th>count_of_safety_measures_worse</th><th>readm_group_measure_count</th><th>count_of_facility_readm_measures</th><th>count_of_readm_measures_better</th><th>count_of_readm_measures_no_different</th><th>count_of_readm_measures_worse</th><th>pt_exp_group_measure_count</th><th>count_of_facility_pt_exp_measures</th><th>te_group_measure_count</th><th>count_of_facility_te_measures</th></tr><tr><td>str</td><td>i64</td><td>str</td><td>str</td><td>str</td><td>str</td><td>str</td><td>str</td><td>str</td><td>str</td><td>str</td><td>str</td><td>str</td><td>str</td><td>str</td><td>str</td><td>str</td><td>str</td><td>str</td><td>str</td><td>str</td></tr></thead><tbody><tr><td>&quot;Southeast Health Medical Cente…</td><td>3</td><td>&quot;7&quot;</td><td>&quot;7&quot;</td><td>&quot;1&quot;</td><td>&quot;6&quot;</td><td>&quot;0&quot;</td><td>&quot;8&quot;</td><td>&quot;7&quot;</td><td>&quot;2&quot;</td><td>&quot;5&quot;</td><td>&quot;0&quot;</td><td>&quot;11&quot;</td><td>&quot;11&quot;</td><td>&quot;1&quot;</td><td>&quot;8&quot;</td><td>&quot;2&quot;</td><td>&quot;8&quot;</td><td>&quot;8&quot;</td><td>&quot;12&quot;</td><td>&quot;10&quot;</td></tr><tr><td>&quot;Marshall Medical Centers&quot;</td><td>2</td><td>&quot;7&quot;</td><td>&quot;6&quot;</td><td>&quot;0&quot;</td><td>&quot;5&quot;</td><td>&quot;1&quot;</td><td>&quot;8&quot;</td><td>&quot;7&quot;</td><td>&quot;0&quot;</td><td>&quot;7&quot;</td><td>&quot;0&quot;</td><td>&quot;11&quot;</td><td>&quot;9&quot;</td><td>&quot;0&quot;</td><td>&quot;8&quot;</td><td>&quot;1&quot;</td><td>&quot;8&quot;</td><td>&quot;8&quot;</td><td>&quot;12&quot;</td><td>&quot;12&quot;</td></tr><tr><td>&quot;North Alabama Medical Center&quot;</td><td>1</td><td>&quot;7&quot;</td><td>&quot;7&quot;</td><td>&quot;0&quot;</td><td>&quot;6&quot;</td><td>&quot;1&quot;</td><td>&quot;8&quot;</td><td>&quot;7&quot;</td><td>&quot;3&quot;</td><td>&quot;4&quot;</td><td>&quot;0&quot;</td><td>&quot;11&quot;</td><td>&quot;9&quot;</td><td>&quot;0&quot;</td><td>&quot;7&quot;</td><td>&quot;2&quot;</td><td>&quot;8&quot;</td><td>&quot;8&quot;</td><td>&quot;12&quot;</td><td>&quot;11&quot;</td></tr><tr><td>&quot;Mizell Memorial Hospital&quot;</td><td>1</td><td>&quot;7&quot;</td><td>&quot;3&quot;</td><td>&quot;0&quot;</td><td>&quot;2&quot;</td><td>&quot;1&quot;</td><td>&quot;8&quot;</td><td>&quot;2&quot;</td><td>&quot;0&quot;</td><td>&quot;2&quot;</td><td>&quot;0&quot;</td><td>&quot;11&quot;</td><td>&quot;7&quot;</td><td>&quot;0&quot;</td><td>&quot;7&quot;</td><td>&quot;0&quot;</td><td>&quot;8&quot;</td><td>&quot;8&quot;</td><td>&quot;12&quot;</td><td>&quot;7&quot;</td></tr><tr><td>&quot;Crenshaw Community Hospital&quot;</td><td>null</td><td>&quot;7&quot;</td><td>&quot;Not Available&quot;</td><td>&quot;Not Available&quot;</td><td>&quot;Not Available&quot;</td><td>&quot;Not Available&quot;</td><td>&quot;8&quot;</td><td>&quot;Not Available&quot;</td><td>&quot;Not Available&quot;</td><td>&quot;Not Available&quot;</td><td>&quot;Not Available&quot;</td><td>&quot;11&quot;</td><td>&quot;2&quot;</td><td>&quot;0&quot;</td><td>&quot;2&quot;</td><td>&quot;0&quot;</td><td>&quot;8&quot;</td><td>&quot;Not Available&quot;</td><td>&quot;12&quot;</td><td>&quot;6&quot;</td></tr><tr><td>&hellip;</td><td>&hellip;</td><td>&hellip;</td><td>&hellip;</td><td>&hellip;</td><td>&hellip;</td><td>&hellip;</td><td>&hellip;</td><td>&hellip;</td><td>&hellip;</td><td>&hellip;</td><td>&hellip;</td><td>&hellip;</td><td>&hellip;</td><td>&hellip;</td><td>&hellip;</td><td>&hellip;</td><td>&hellip;</td><td>&hellip;</td><td>&hellip;</td><td>&hellip;</td></tr><tr><td>&quot;Trinity Regional Hospital Sach…</td><td>null</td><td>&quot;Not Available&quot;</td><td>&quot;Not Available&quot;</td><td>&quot;Not Available&quot;</td><td>&quot;Not Available&quot;</td><td>&quot;Not Available&quot;</td><td>&quot;Not Available&quot;</td><td>&quot;Not Available&quot;</td><td>&quot;Not Available&quot;</td><td>&quot;Not Available&quot;</td><td>&quot;Not Available&quot;</td><td>&quot;Not Available&quot;</td><td>&quot;Not Available&quot;</td><td>&quot;Not Available&quot;</td><td>&quot;Not Available&quot;</td><td>&quot;Not Available&quot;</td><td>&quot;Not Available&quot;</td><td>&quot;Not Available&quot;</td><td>&quot;Not Available&quot;</td><td>&quot;Not Available&quot;</td></tr><tr><td>&quot;East Houston Medical Center&quot;</td><td>null</td><td>&quot;Not Available&quot;</td><td>&quot;Not Available&quot;</td><td>&quot;Not Available&quot;</td><td>&quot;Not Available&quot;</td><td>&quot;Not Available&quot;</td><td>&quot;Not Available&quot;</td><td>&quot;Not Available&quot;</td><td>&quot;Not Available&quot;</td><td>&quot;Not Available&quot;</td><td>&quot;Not Available&quot;</td><td>&quot;Not Available&quot;</td><td>&quot;Not Available&quot;</td><td>&quot;Not Available&quot;</td><td>&quot;Not Available&quot;</td><td>&quot;Not Available&quot;</td><td>&quot;Not Available&quot;</td><td>&quot;Not Available&quot;</td><td>&quot;Not Available&quot;</td><td>&quot;Not Available&quot;</td></tr><tr><td>&quot;Advanced Dallas Hospitals And …</td><td>null</td><td>&quot;Not Available&quot;</td><td>&quot;Not Available&quot;</td><td>&quot;Not Available&quot;</td><td>&quot;Not Available&quot;</td><td>&quot;Not Available&quot;</td><td>&quot;Not Available&quot;</td><td>&quot;Not Available&quot;</td><td>&quot;Not Available&quot;</td><td>&quot;Not Available&quot;</td><td>&quot;Not Available&quot;</td><td>&quot;Not Available&quot;</td><td>&quot;Not Available&quot;</td><td>&quot;Not Available&quot;</td><td>&quot;Not Available&quot;</td><td>&quot;Not Available&quot;</td><td>&quot;Not Available&quot;</td><td>&quot;Not Available&quot;</td><td>&quot;Not Available&quot;</td><td>&quot;Not Available&quot;</td></tr><tr><td>&quot;Legent Surgical Hospital Plano&quot;</td><td>null</td><td>&quot;7&quot;</td><td>&quot;Not Available&quot;</td><td>&quot;Not Available&quot;</td><td>&quot;Not Available&quot;</td><td>&quot;Not Available&quot;</td><td>&quot;8&quot;</td><td>&quot;Not Available&quot;</td><td>&quot;Not Available&quot;</td><td>&quot;Not Available&quot;</td><td>&quot;Not Available&quot;</td><td>&quot;11&quot;</td><td>&quot;Not Available&quot;</td><td>&quot;Not Available&quot;</td><td>&quot;Not Available&quot;</td><td>&quot;Not Available&quot;</td><td>&quot;8&quot;</td><td>&quot;Not Available&quot;</td><td>&quot;12&quot;</td><td>&quot;Not Available&quot;</td></tr><tr><td>&quot;Graham Regional Medical Center&quot;</td><td>null</td><td>&quot;Not Available&quot;</td><td>&quot;Not Available&quot;</td><td>&quot;Not Available&quot;</td><td>&quot;Not Available&quot;</td><td>&quot;Not Available&quot;</td><td>&quot;Not Available&quot;</td><td>&quot;Not Available&quot;</td><td>&quot;Not Available&quot;</td><td>&quot;Not Available&quot;</td><td>&quot;Not Available&quot;</td><td>&quot;Not Available&quot;</td><td>&quot;Not Available&quot;</td><td>&quot;Not Available&quot;</td><td>&quot;Not Available&quot;</td><td>&quot;Not Available&quot;</td><td>&quot;Not Available&quot;</td><td>&quot;Not Available&quot;</td><td>&quot;Not Available&quot;</td><td>&quot;Not Available&quot;</td></tr></tbody></table></div>"
      ],
      "text/plain": [
       "shape: (5_398, 21)\n",
       "┌───────────────────────┬───────────────────────┬───────────────────────┬───────────────────────┬───┬───────────────────────┬──────────────────────┬──────────────────────┬──────────────────────┐\n",
       "│ facility_name         ┆ hospital_overall_rati ┆ mort_group_measure_co ┆ count_of_facility_mor ┆ … ┆ pt_exp_group_measure_ ┆ count_of_facility_pt ┆ te_group_measure_cou ┆ count_of_facility_te │\n",
       "│ ---                   ┆ ng                    ┆ unt                   ┆ t_measure…            ┆   ┆ count                 ┆ _exp_measu…          ┆ nt                   ┆ _measures            │\n",
       "│ str                   ┆ ---                   ┆ ---                   ┆ ---                   ┆   ┆ ---                   ┆ ---                  ┆ ---                  ┆ ---                  │\n",
       "│                       ┆ i64                   ┆ str                   ┆ str                   ┆   ┆ str                   ┆ str                  ┆ str                  ┆ str                  │\n",
       "╞═══════════════════════╪═══════════════════════╪═══════════════════════╪═══════════════════════╪═══╪═══════════════════════╪══════════════════════╪══════════════════════╪══════════════════════╡\n",
       "│ Southeast Health      ┆ 3                     ┆ 7                     ┆ 7                     ┆ … ┆ 8                     ┆ 8                    ┆ 12                   ┆ 10                   │\n",
       "│ Medical Cente…        ┆                       ┆                       ┆                       ┆   ┆                       ┆                      ┆                      ┆                      │\n",
       "│ Marshall Medical      ┆ 2                     ┆ 7                     ┆ 6                     ┆ … ┆ 8                     ┆ 8                    ┆ 12                   ┆ 12                   │\n",
       "│ Centers               ┆                       ┆                       ┆                       ┆   ┆                       ┆                      ┆                      ┆                      │\n",
       "│ North Alabama Medical ┆ 1                     ┆ 7                     ┆ 7                     ┆ … ┆ 8                     ┆ 8                    ┆ 12                   ┆ 11                   │\n",
       "│ Center                ┆                       ┆                       ┆                       ┆   ┆                       ┆                      ┆                      ┆                      │\n",
       "│ Mizell Memorial       ┆ 1                     ┆ 7                     ┆ 3                     ┆ … ┆ 8                     ┆ 8                    ┆ 12                   ┆ 7                    │\n",
       "│ Hospital              ┆                       ┆                       ┆                       ┆   ┆                       ┆                      ┆                      ┆                      │\n",
       "│ Crenshaw Community    ┆ null                  ┆ 7                     ┆ Not Available         ┆ … ┆ 8                     ┆ Not Available        ┆ 12                   ┆ 6                    │\n",
       "│ Hospital              ┆                       ┆                       ┆                       ┆   ┆                       ┆                      ┆                      ┆                      │\n",
       "│ …                     ┆ …                     ┆ …                     ┆ …                     ┆ … ┆ …                     ┆ …                    ┆ …                    ┆ …                    │\n",
       "│ Trinity Regional      ┆ null                  ┆ Not Available         ┆ Not Available         ┆ … ┆ Not Available         ┆ Not Available        ┆ Not Available        ┆ Not Available        │\n",
       "│ Hospital Sach…        ┆                       ┆                       ┆                       ┆   ┆                       ┆                      ┆                      ┆                      │\n",
       "│ East Houston Medical  ┆ null                  ┆ Not Available         ┆ Not Available         ┆ … ┆ Not Available         ┆ Not Available        ┆ Not Available        ┆ Not Available        │\n",
       "│ Center                ┆                       ┆                       ┆                       ┆   ┆                       ┆                      ┆                      ┆                      │\n",
       "│ Advanced Dallas       ┆ null                  ┆ Not Available         ┆ Not Available         ┆ … ┆ Not Available         ┆ Not Available        ┆ Not Available        ┆ Not Available        │\n",
       "│ Hospitals And …       ┆                       ┆                       ┆                       ┆   ┆                       ┆                      ┆                      ┆                      │\n",
       "│ Legent Surgical       ┆ null                  ┆ 7                     ┆ Not Available         ┆ … ┆ 8                     ┆ Not Available        ┆ 12                   ┆ Not Available        │\n",
       "│ Hospital Plano        ┆                       ┆                       ┆                       ┆   ┆                       ┆                      ┆                      ┆                      │\n",
       "│ Graham Regional       ┆ null                  ┆ Not Available         ┆ Not Available         ┆ … ┆ Not Available         ┆ Not Available        ┆ Not Available        ┆ Not Available        │\n",
       "│ Medical Center        ┆                       ┆                       ┆                       ┆   ┆                       ┆                      ┆                      ┆                      │\n",
       "└───────────────────────┴───────────────────────┴───────────────────────┴───────────────────────┴───┴───────────────────────┴──────────────────────┴──────────────────────┴──────────────────────┘"
      ]
     },
     "execution_count": null,
     "metadata": {},
     "output_type": "execute_result"
    }
   ],
   "source": [
    "(\n",
    "    hospital\n",
    "    .with_columns(hospital_overall_rating=pl.col('hospital_overall_rating').cast(pl.Int64, strict=False))\n",
    ")"
   ]
  },
  {
   "cell_type": "code",
   "execution_count": 138,
   "metadata": {},
   "outputs": [],
   "source": [
    "hospital_df = (\n",
    "    hospital\n",
    "    .with_columns(\n",
    "        (cs.contains('count') | pl.col('hospital_overall_rating')).cast(pl.Int64, strict=False)\n",
    "    )\n",
    "    \n",
    ")"
   ]
  },
  {
   "cell_type": "markdown",
   "metadata": {},
   "source": [
    "## Pulling out a single column"
   ]
  },
  {
   "cell_type": "code",
   "execution_count": 134,
   "metadata": {},
   "outputs": [
    {
     "data": {
      "text/html": [
       "<div><style>\n",
       ".dataframe > thead > tr,\n",
       ".dataframe > tbody > tr {\n",
       "  text-align: right;\n",
       "  white-space: pre-wrap;\n",
       "}\n",
       "</style>\n",
       "<small>shape: (6,)</small><table border=\"1\" class=\"dataframe\"><thead><tr><th>hospital_overall_rating</th></tr><tr><td>i64</td></tr></thead><tbody><tr><td>null</td></tr><tr><td>1</td></tr><tr><td>2</td></tr><tr><td>3</td></tr><tr><td>4</td></tr><tr><td>5</td></tr></tbody></table></div>"
      ],
      "text/plain": [
       "shape: (6,)\n",
       "Series: 'hospital_overall_rating' [i64]\n",
       "[\n",
       "\tnull\n",
       "\t1\n",
       "\t2\n",
       "\t3\n",
       "\t4\n",
       "\t5\n",
       "]"
      ]
     },
     "execution_count": null,
     "metadata": {},
     "output_type": "execute_result"
    }
   ],
   "source": [
    "(\n",
    "    hospital_df\n",
    "    .get_column('hospital_overall_rating')\n",
    "    .unique()\n",
    ")"
   ]
  },
  {
   "cell_type": "markdown",
   "metadata": {},
   "source": [
    "## Filtering the data"
   ]
  },
  {
   "cell_type": "code",
   "execution_count": 141,
   "metadata": {},
   "outputs": [
    {
     "name": "stdout",
     "output_type": "stream",
     "text": [
      "shape: (2_834, 21)\n",
      "┌───────────────────────┬───────────────────────┬───────────────────────┬───────────────────────┬───┬───────────────────────┬──────────────────────┬──────────────────────┬──────────────────────┐\n",
      "│ facility_name         ┆ hospital_overall_rati ┆ mort_group_measure_co ┆ count_of_facility_mor ┆ … ┆ pt_exp_group_measure_ ┆ count_of_facility_pt ┆ te_group_measure_cou ┆ count_of_facility_te │\n",
      "│ ---                   ┆ ng                    ┆ unt                   ┆ t_measure…            ┆   ┆ count                 ┆ _exp_measu…          ┆ nt                   ┆ _measures            │\n",
      "│ str                   ┆ ---                   ┆ ---                   ┆ ---                   ┆   ┆ ---                   ┆ ---                  ┆ ---                  ┆ ---                  │\n",
      "│                       ┆ i64                   ┆ i64                   ┆ i64                   ┆   ┆ i64                   ┆ i64                  ┆ i64                  ┆ i64                  │\n",
      "╞═══════════════════════╪═══════════════════════╪═══════════════════════╪═══════════════════════╪═══╪═══════════════════════╪══════════════════════╪══════════════════════╪══════════════════════╡\n",
      "│ Southeast Health      ┆ 3                     ┆ 7                     ┆ 7                     ┆ … ┆ 8                     ┆ 8                    ┆ 12                   ┆ 10                   │\n",
      "│ Medical Cente…        ┆                       ┆                       ┆                       ┆   ┆                       ┆                      ┆                      ┆                      │\n",
      "│ Marshall Medical      ┆ 2                     ┆ 7                     ┆ 6                     ┆ … ┆ 8                     ┆ 8                    ┆ 12                   ┆ 12                   │\n",
      "│ Centers               ┆                       ┆                       ┆                       ┆   ┆                       ┆                      ┆                      ┆                      │\n",
      "│ North Alabama Medical ┆ 1                     ┆ 7                     ┆ 7                     ┆ … ┆ 8                     ┆ 8                    ┆ 12                   ┆ 11                   │\n",
      "│ Center                ┆                       ┆                       ┆                       ┆   ┆                       ┆                      ┆                      ┆                      │\n",
      "│ Mizell Memorial       ┆ 1                     ┆ 7                     ┆ 3                     ┆ … ┆ 8                     ┆ 8                    ┆ 12                   ┆ 7                    │\n",
      "│ Hospital              ┆                       ┆                       ┆                       ┆   ┆                       ┆                      ┆                      ┆                      │\n",
      "│ St. Vincent's East    ┆ 3                     ┆ 7                     ┆ 7                     ┆ … ┆ 8                     ┆ 8                    ┆ 12                   ┆ 8                    │\n",
      "│ …                     ┆ …                     ┆ …                     ┆ …                     ┆ … ┆ …                     ┆ …                    ┆ …                    ┆ …                    │\n",
      "│ The Hospitals Of      ┆ 1                     ┆ 7                     ┆ 4                     ┆ … ┆ 8                     ┆ 8                    ┆ 12                   ┆ 8                    │\n",
      "│ Providence Tr…        ┆                       ┆                       ┆                       ┆   ┆                       ┆                      ┆                      ┆                      │\n",
      "│ Houston Methodist The ┆ 5                     ┆ 7                     ┆ 7                     ┆ … ┆ 8                     ┆ 8                    ┆ 12                   ┆ 10                   │\n",
      "│ Woodland…             ┆                       ┆                       ┆                       ┆   ┆                       ┆                      ┆                      ┆                      │\n",
      "│ Texas Health Hospital ┆ 3                     ┆ 7                     ┆ 2                     ┆ … ┆ 8                     ┆ 8                    ┆ 12                   ┆ 8                    │\n",
      "│ Frisco                ┆                       ┆                       ┆                       ┆   ┆                       ┆                      ┆                      ┆                      │\n",
      "│ Methodist Midlothian  ┆ 4                     ┆ 7                     ┆ null                  ┆ … ┆ 8                     ┆ 8                    ┆ 12                   ┆ 7                    │\n",
      "│ Medical C…            ┆                       ┆                       ┆                       ┆   ┆                       ┆                      ┆                      ┆                      │\n",
      "│ Texas Health Hospital ┆ 3                     ┆ 7                     ┆ null                  ┆ … ┆ 8                     ┆ 8                    ┆ 12                   ┆ 8                    │\n",
      "│ Mansfiel…             ┆                       ┆                       ┆                       ┆   ┆                       ┆                      ┆                      ┆                      │\n",
      "└───────────────────────┴───────────────────────┴───────────────────────┴───────────────────────┴───┴───────────────────────┴──────────────────────┴──────────────────────┴──────────────────────┘\n",
      "shape: (2_834, 21)\n",
      "┌───────────────────────┬───────────────────────┬───────────────────────┬───────────────────────┬───┬───────────────────────┬──────────────────────┬──────────────────────┬──────────────────────┐\n",
      "│ facility_name         ┆ hospital_overall_rati ┆ mort_group_measure_co ┆ count_of_facility_mor ┆ … ┆ pt_exp_group_measure_ ┆ count_of_facility_pt ┆ te_group_measure_cou ┆ count_of_facility_te │\n",
      "│ ---                   ┆ ng                    ┆ unt                   ┆ t_measure…            ┆   ┆ count                 ┆ _exp_measu…          ┆ nt                   ┆ _measures            │\n",
      "│ str                   ┆ ---                   ┆ ---                   ┆ ---                   ┆   ┆ ---                   ┆ ---                  ┆ ---                  ┆ ---                  │\n",
      "│                       ┆ i64                   ┆ i64                   ┆ i64                   ┆   ┆ i64                   ┆ i64                  ┆ i64                  ┆ i64                  │\n",
      "╞═══════════════════════╪═══════════════════════╪═══════════════════════╪═══════════════════════╪═══╪═══════════════════════╪══════════════════════╪══════════════════════╪══════════════════════╡\n",
      "│ Southeast Health      ┆ 3                     ┆ 7                     ┆ 7                     ┆ … ┆ 8                     ┆ 8                    ┆ 12                   ┆ 10                   │\n",
      "│ Medical Cente…        ┆                       ┆                       ┆                       ┆   ┆                       ┆                      ┆                      ┆                      │\n",
      "│ Marshall Medical      ┆ 2                     ┆ 7                     ┆ 6                     ┆ … ┆ 8                     ┆ 8                    ┆ 12                   ┆ 12                   │\n",
      "│ Centers               ┆                       ┆                       ┆                       ┆   ┆                       ┆                      ┆                      ┆                      │\n",
      "│ North Alabama Medical ┆ 1                     ┆ 7                     ┆ 7                     ┆ … ┆ 8                     ┆ 8                    ┆ 12                   ┆ 11                   │\n",
      "│ Center                ┆                       ┆                       ┆                       ┆   ┆                       ┆                      ┆                      ┆                      │\n",
      "│ Mizell Memorial       ┆ 1                     ┆ 7                     ┆ 3                     ┆ … ┆ 8                     ┆ 8                    ┆ 12                   ┆ 7                    │\n",
      "│ Hospital              ┆                       ┆                       ┆                       ┆   ┆                       ┆                      ┆                      ┆                      │\n",
      "│ St. Vincent's East    ┆ 3                     ┆ 7                     ┆ 7                     ┆ … ┆ 8                     ┆ 8                    ┆ 12                   ┆ 8                    │\n",
      "│ …                     ┆ …                     ┆ …                     ┆ …                     ┆ … ┆ …                     ┆ …                    ┆ …                    ┆ …                    │\n",
      "│ The Hospitals Of      ┆ 1                     ┆ 7                     ┆ 4                     ┆ … ┆ 8                     ┆ 8                    ┆ 12                   ┆ 8                    │\n",
      "│ Providence Tr…        ┆                       ┆                       ┆                       ┆   ┆                       ┆                      ┆                      ┆                      │\n",
      "│ Houston Methodist The ┆ 5                     ┆ 7                     ┆ 7                     ┆ … ┆ 8                     ┆ 8                    ┆ 12                   ┆ 10                   │\n",
      "│ Woodland…             ┆                       ┆                       ┆                       ┆   ┆                       ┆                      ┆                      ┆                      │\n",
      "│ Texas Health Hospital ┆ 3                     ┆ 7                     ┆ 2                     ┆ … ┆ 8                     ┆ 8                    ┆ 12                   ┆ 8                    │\n",
      "│ Frisco                ┆                       ┆                       ┆                       ┆   ┆                       ┆                      ┆                      ┆                      │\n",
      "│ Methodist Midlothian  ┆ 4                     ┆ 7                     ┆ null                  ┆ … ┆ 8                     ┆ 8                    ┆ 12                   ┆ 7                    │\n",
      "│ Medical C…            ┆                       ┆                       ┆                       ┆   ┆                       ┆                      ┆                      ┆                      │\n",
      "│ Texas Health Hospital ┆ 3                     ┆ 7                     ┆ null                  ┆ … ┆ 8                     ┆ 8                    ┆ 12                   ┆ 8                    │\n",
      "│ Mansfiel…             ┆                       ┆                       ┆                       ┆   ┆                       ┆                      ┆                      ┆                      │\n",
      "└───────────────────────┴───────────────────────┴───────────────────────┴───────────────────────┴───┴───────────────────────┴──────────────────────┴──────────────────────┴──────────────────────┘\n"
     ]
    }
   ],
   "source": [
    "stars = (\n",
    "    hospital_df\n",
    "    .filter(pl.col('hospital_overall_rating').is_not_null())\n",
    ")\n",
    "\n",
    "\n",
    "print(stars)"
   ]
  },
  {
   "cell_type": "code",
   "execution_count": 146,
   "metadata": {},
   "outputs": [
    {
     "data": {
      "text/html": [
       "<div><style>\n",
       ".dataframe > thead > tr,\n",
       ".dataframe > tbody > tr {\n",
       "  text-align: right;\n",
       "  white-space: pre-wrap;\n",
       "}\n",
       "</style>\n",
       "<small>shape: (1_968, 21)</small><table border=\"1\" class=\"dataframe\"><thead><tr><th>facility_name</th><th>hospital_overall_rating</th><th>mort_group_measure_count</th><th>count_of_facility_mort_measures</th><th>count_of_mort_measures_better</th><th>count_of_mort_measures_no_different</th><th>count_of_mort_measures_worse</th><th>safety_group_measure_count</th><th>count_of_facility_safety_measures</th><th>count_of_safety_measures_better</th><th>count_of_safety_measures_no_different</th><th>count_of_safety_measures_worse</th><th>readm_group_measure_count</th><th>count_of_facility_readm_measures</th><th>count_of_readm_measures_better</th><th>count_of_readm_measures_no_different</th><th>count_of_readm_measures_worse</th><th>pt_exp_group_measure_count</th><th>count_of_facility_pt_exp_measures</th><th>te_group_measure_count</th><th>count_of_facility_te_measures</th></tr><tr><td>str</td><td>i64</td><td>i64</td><td>i64</td><td>i64</td><td>i64</td><td>i64</td><td>i64</td><td>i64</td><td>i64</td><td>i64</td><td>i64</td><td>i64</td><td>i64</td><td>i64</td><td>i64</td><td>i64</td><td>i64</td><td>i64</td><td>i64</td><td>i64</td></tr></thead><tbody><tr><td>&quot;Southeast Health Medical Cente…</td><td>3</td><td>7</td><td>7</td><td>1</td><td>6</td><td>0</td><td>8</td><td>7</td><td>2</td><td>5</td><td>0</td><td>11</td><td>11</td><td>1</td><td>8</td><td>2</td><td>8</td><td>8</td><td>12</td><td>10</td></tr><tr><td>&quot;St. Vincent&#x27;s East&quot;</td><td>3</td><td>7</td><td>7</td><td>0</td><td>7</td><td>0</td><td>8</td><td>7</td><td>1</td><td>6</td><td>0</td><td>11</td><td>9</td><td>0</td><td>8</td><td>1</td><td>8</td><td>8</td><td>12</td><td>8</td></tr><tr><td>&quot;Shelby Baptist Medical Center&quot;</td><td>3</td><td>7</td><td>7</td><td>0</td><td>7</td><td>0</td><td>8</td><td>7</td><td>1</td><td>6</td><td>0</td><td>11</td><td>9</td><td>0</td><td>8</td><td>1</td><td>8</td><td>8</td><td>12</td><td>6</td></tr><tr><td>&quot;University Of Alabama Hospital&quot;</td><td>3</td><td>7</td><td>7</td><td>1</td><td>5</td><td>1</td><td>8</td><td>8</td><td>2</td><td>5</td><td>1</td><td>11</td><td>11</td><td>1</td><td>9</td><td>1</td><td>8</td><td>8</td><td>12</td><td>10</td></tr><tr><td>&quot;Cullman Regional Medical Cente…</td><td>3</td><td>7</td><td>6</td><td>0</td><td>5</td><td>1</td><td>8</td><td>7</td><td>1</td><td>6</td><td>0</td><td>11</td><td>8</td><td>0</td><td>8</td><td>0</td><td>8</td><td>8</td><td>12</td><td>11</td></tr><tr><td>&hellip;</td><td>&hellip;</td><td>&hellip;</td><td>&hellip;</td><td>&hellip;</td><td>&hellip;</td><td>&hellip;</td><td>&hellip;</td><td>&hellip;</td><td>&hellip;</td><td>&hellip;</td><td>&hellip;</td><td>&hellip;</td><td>&hellip;</td><td>&hellip;</td><td>&hellip;</td><td>&hellip;</td><td>&hellip;</td><td>&hellip;</td><td>&hellip;</td><td>&hellip;</td></tr><tr><td>&quot;Baylor Scott &amp; White Medical C…</td><td>5</td><td>7</td><td>4</td><td>0</td><td>4</td><td>0</td><td>8</td><td>3</td><td>1</td><td>2</td><td>0</td><td>11</td><td>9</td><td>1</td><td>8</td><td>0</td><td>8</td><td>8</td><td>12</td><td>11</td></tr><tr><td>&quot;Houston Methodist The Woodland…</td><td>5</td><td>7</td><td>7</td><td>4</td><td>3</td><td>0</td><td>8</td><td>8</td><td>4</td><td>4</td><td>0</td><td>11</td><td>11</td><td>0</td><td>11</td><td>0</td><td>8</td><td>8</td><td>12</td><td>10</td></tr><tr><td>&quot;Texas Health Hospital Frisco&quot;</td><td>3</td><td>7</td><td>2</td><td>0</td><td>2</td><td>0</td><td>8</td><td>5</td><td>0</td><td>5</td><td>0</td><td>11</td><td>5</td><td>1</td><td>4</td><td>0</td><td>8</td><td>8</td><td>12</td><td>8</td></tr><tr><td>&quot;Methodist Midlothian Medical C…</td><td>4</td><td>7</td><td>null</td><td>null</td><td>null</td><td>null</td><td>8</td><td>3</td><td>0</td><td>3</td><td>0</td><td>11</td><td>3</td><td>0</td><td>3</td><td>0</td><td>8</td><td>8</td><td>12</td><td>7</td></tr><tr><td>&quot;Texas Health Hospital Mansfiel…</td><td>3</td><td>7</td><td>null</td><td>null</td><td>null</td><td>null</td><td>8</td><td>3</td><td>0</td><td>3</td><td>0</td><td>11</td><td>3</td><td>0</td><td>3</td><td>0</td><td>8</td><td>8</td><td>12</td><td>8</td></tr></tbody></table></div>"
      ],
      "text/plain": [
       "shape: (1_968, 21)\n",
       "┌───────────────────────┬───────────────────────┬───────────────────────┬───────────────────────┬───┬───────────────────────┬──────────────────────┬──────────────────────┬──────────────────────┐\n",
       "│ facility_name         ┆ hospital_overall_rati ┆ mort_group_measure_co ┆ count_of_facility_mor ┆ … ┆ pt_exp_group_measure_ ┆ count_of_facility_pt ┆ te_group_measure_cou ┆ count_of_facility_te │\n",
       "│ ---                   ┆ ng                    ┆ unt                   ┆ t_measure…            ┆   ┆ count                 ┆ _exp_measu…          ┆ nt                   ┆ _measures            │\n",
       "│ str                   ┆ ---                   ┆ ---                   ┆ ---                   ┆   ┆ ---                   ┆ ---                  ┆ ---                  ┆ ---                  │\n",
       "│                       ┆ i64                   ┆ i64                   ┆ i64                   ┆   ┆ i64                   ┆ i64                  ┆ i64                  ┆ i64                  │\n",
       "╞═══════════════════════╪═══════════════════════╪═══════════════════════╪═══════════════════════╪═══╪═══════════════════════╪══════════════════════╪══════════════════════╪══════════════════════╡\n",
       "│ Southeast Health      ┆ 3                     ┆ 7                     ┆ 7                     ┆ … ┆ 8                     ┆ 8                    ┆ 12                   ┆ 10                   │\n",
       "│ Medical Cente…        ┆                       ┆                       ┆                       ┆   ┆                       ┆                      ┆                      ┆                      │\n",
       "│ St. Vincent's East    ┆ 3                     ┆ 7                     ┆ 7                     ┆ … ┆ 8                     ┆ 8                    ┆ 12                   ┆ 8                    │\n",
       "│ Shelby Baptist        ┆ 3                     ┆ 7                     ┆ 7                     ┆ … ┆ 8                     ┆ 8                    ┆ 12                   ┆ 6                    │\n",
       "│ Medical Center        ┆                       ┆                       ┆                       ┆   ┆                       ┆                      ┆                      ┆                      │\n",
       "│ University Of Alabama ┆ 3                     ┆ 7                     ┆ 7                     ┆ … ┆ 8                     ┆ 8                    ┆ 12                   ┆ 10                   │\n",
       "│ Hospital              ┆                       ┆                       ┆                       ┆   ┆                       ┆                      ┆                      ┆                      │\n",
       "│ Cullman Regional      ┆ 3                     ┆ 7                     ┆ 6                     ┆ … ┆ 8                     ┆ 8                    ┆ 12                   ┆ 11                   │\n",
       "│ Medical Cente…        ┆                       ┆                       ┆                       ┆   ┆                       ┆                      ┆                      ┆                      │\n",
       "│ …                     ┆ …                     ┆ …                     ┆ …                     ┆ … ┆ …                     ┆ …                    ┆ …                    ┆ …                    │\n",
       "│ Baylor Scott & White  ┆ 5                     ┆ 7                     ┆ 4                     ┆ … ┆ 8                     ┆ 8                    ┆ 12                   ┆ 11                   │\n",
       "│ Medical C…            ┆                       ┆                       ┆                       ┆   ┆                       ┆                      ┆                      ┆                      │\n",
       "│ Houston Methodist The ┆ 5                     ┆ 7                     ┆ 7                     ┆ … ┆ 8                     ┆ 8                    ┆ 12                   ┆ 10                   │\n",
       "│ Woodland…             ┆                       ┆                       ┆                       ┆   ┆                       ┆                      ┆                      ┆                      │\n",
       "│ Texas Health Hospital ┆ 3                     ┆ 7                     ┆ 2                     ┆ … ┆ 8                     ┆ 8                    ┆ 12                   ┆ 8                    │\n",
       "│ Frisco                ┆                       ┆                       ┆                       ┆   ┆                       ┆                      ┆                      ┆                      │\n",
       "│ Methodist Midlothian  ┆ 4                     ┆ 7                     ┆ null                  ┆ … ┆ 8                     ┆ 8                    ┆ 12                   ┆ 7                    │\n",
       "│ Medical C…            ┆                       ┆                       ┆                       ┆   ┆                       ┆                      ┆                      ┆                      │\n",
       "│ Texas Health Hospital ┆ 3                     ┆ 7                     ┆ null                  ┆ … ┆ 8                     ┆ 8                    ┆ 12                   ┆ 8                    │\n",
       "│ Mansfiel…             ┆                       ┆                       ┆                       ┆   ┆                       ┆                      ┆                      ┆                      │\n",
       "└───────────────────────┴───────────────────────┴───────────────────────┴───────────────────────┴───┴───────────────────────┴──────────────────────┴──────────────────────┴──────────────────────┘"
      ]
     },
     "execution_count": null,
     "metadata": {},
     "output_type": "execute_result"
    }
   ],
   "source": [
    "(\n",
    "    hospital_df\n",
    "    .filter(pl.col('hospital_overall_rating').is_between(3, 5))\n",
    ")"
   ]
  },
  {
   "cell_type": "code",
   "execution_count": 150,
   "metadata": {},
   "outputs": [
    {
     "data": {
      "text/html": [
       "<div><style>\n",
       ".dataframe > thead > tr,\n",
       ".dataframe > tbody > tr {\n",
       "  text-align: right;\n",
       "  white-space: pre-wrap;\n",
       "}\n",
       "</style>\n",
       "<small>shape: (1_968, 21)</small><table border=\"1\" class=\"dataframe\"><thead><tr><th>facility_name</th><th>hospital_overall_rating</th><th>mort_group_measure_count</th><th>count_of_facility_mort_measures</th><th>count_of_mort_measures_better</th><th>count_of_mort_measures_no_different</th><th>count_of_mort_measures_worse</th><th>safety_group_measure_count</th><th>count_of_facility_safety_measures</th><th>count_of_safety_measures_better</th><th>count_of_safety_measures_no_different</th><th>count_of_safety_measures_worse</th><th>readm_group_measure_count</th><th>count_of_facility_readm_measures</th><th>count_of_readm_measures_better</th><th>count_of_readm_measures_no_different</th><th>count_of_readm_measures_worse</th><th>pt_exp_group_measure_count</th><th>count_of_facility_pt_exp_measures</th><th>te_group_measure_count</th><th>count_of_facility_te_measures</th></tr><tr><td>str</td><td>i64</td><td>i64</td><td>i64</td><td>i64</td><td>i64</td><td>i64</td><td>i64</td><td>i64</td><td>i64</td><td>i64</td><td>i64</td><td>i64</td><td>i64</td><td>i64</td><td>i64</td><td>i64</td><td>i64</td><td>i64</td><td>i64</td><td>i64</td></tr></thead><tbody><tr><td>&quot;Southeast Health Medical Cente…</td><td>3</td><td>7</td><td>7</td><td>1</td><td>6</td><td>0</td><td>8</td><td>7</td><td>2</td><td>5</td><td>0</td><td>11</td><td>11</td><td>1</td><td>8</td><td>2</td><td>8</td><td>8</td><td>12</td><td>10</td></tr><tr><td>&quot;St. Vincent&#x27;s East&quot;</td><td>3</td><td>7</td><td>7</td><td>0</td><td>7</td><td>0</td><td>8</td><td>7</td><td>1</td><td>6</td><td>0</td><td>11</td><td>9</td><td>0</td><td>8</td><td>1</td><td>8</td><td>8</td><td>12</td><td>8</td></tr><tr><td>&quot;Shelby Baptist Medical Center&quot;</td><td>3</td><td>7</td><td>7</td><td>0</td><td>7</td><td>0</td><td>8</td><td>7</td><td>1</td><td>6</td><td>0</td><td>11</td><td>9</td><td>0</td><td>8</td><td>1</td><td>8</td><td>8</td><td>12</td><td>6</td></tr><tr><td>&quot;University Of Alabama Hospital&quot;</td><td>3</td><td>7</td><td>7</td><td>1</td><td>5</td><td>1</td><td>8</td><td>8</td><td>2</td><td>5</td><td>1</td><td>11</td><td>11</td><td>1</td><td>9</td><td>1</td><td>8</td><td>8</td><td>12</td><td>10</td></tr><tr><td>&quot;Cullman Regional Medical Cente…</td><td>3</td><td>7</td><td>6</td><td>0</td><td>5</td><td>1</td><td>8</td><td>7</td><td>1</td><td>6</td><td>0</td><td>11</td><td>8</td><td>0</td><td>8</td><td>0</td><td>8</td><td>8</td><td>12</td><td>11</td></tr><tr><td>&hellip;</td><td>&hellip;</td><td>&hellip;</td><td>&hellip;</td><td>&hellip;</td><td>&hellip;</td><td>&hellip;</td><td>&hellip;</td><td>&hellip;</td><td>&hellip;</td><td>&hellip;</td><td>&hellip;</td><td>&hellip;</td><td>&hellip;</td><td>&hellip;</td><td>&hellip;</td><td>&hellip;</td><td>&hellip;</td><td>&hellip;</td><td>&hellip;</td><td>&hellip;</td></tr><tr><td>&quot;Baylor Scott &amp; White Medical C…</td><td>5</td><td>7</td><td>4</td><td>0</td><td>4</td><td>0</td><td>8</td><td>3</td><td>1</td><td>2</td><td>0</td><td>11</td><td>9</td><td>1</td><td>8</td><td>0</td><td>8</td><td>8</td><td>12</td><td>11</td></tr><tr><td>&quot;Houston Methodist The Woodland…</td><td>5</td><td>7</td><td>7</td><td>4</td><td>3</td><td>0</td><td>8</td><td>8</td><td>4</td><td>4</td><td>0</td><td>11</td><td>11</td><td>0</td><td>11</td><td>0</td><td>8</td><td>8</td><td>12</td><td>10</td></tr><tr><td>&quot;Texas Health Hospital Frisco&quot;</td><td>3</td><td>7</td><td>2</td><td>0</td><td>2</td><td>0</td><td>8</td><td>5</td><td>0</td><td>5</td><td>0</td><td>11</td><td>5</td><td>1</td><td>4</td><td>0</td><td>8</td><td>8</td><td>12</td><td>8</td></tr><tr><td>&quot;Methodist Midlothian Medical C…</td><td>4</td><td>7</td><td>null</td><td>null</td><td>null</td><td>null</td><td>8</td><td>3</td><td>0</td><td>3</td><td>0</td><td>11</td><td>3</td><td>0</td><td>3</td><td>0</td><td>8</td><td>8</td><td>12</td><td>7</td></tr><tr><td>&quot;Texas Health Hospital Mansfiel…</td><td>3</td><td>7</td><td>null</td><td>null</td><td>null</td><td>null</td><td>8</td><td>3</td><td>0</td><td>3</td><td>0</td><td>11</td><td>3</td><td>0</td><td>3</td><td>0</td><td>8</td><td>8</td><td>12</td><td>8</td></tr></tbody></table></div>"
      ],
      "text/plain": [
       "shape: (1_968, 21)\n",
       "┌───────────────────────┬───────────────────────┬───────────────────────┬───────────────────────┬───┬───────────────────────┬──────────────────────┬──────────────────────┬──────────────────────┐\n",
       "│ facility_name         ┆ hospital_overall_rati ┆ mort_group_measure_co ┆ count_of_facility_mor ┆ … ┆ pt_exp_group_measure_ ┆ count_of_facility_pt ┆ te_group_measure_cou ┆ count_of_facility_te │\n",
       "│ ---                   ┆ ng                    ┆ unt                   ┆ t_measure…            ┆   ┆ count                 ┆ _exp_measu…          ┆ nt                   ┆ _measures            │\n",
       "│ str                   ┆ ---                   ┆ ---                   ┆ ---                   ┆   ┆ ---                   ┆ ---                  ┆ ---                  ┆ ---                  │\n",
       "│                       ┆ i64                   ┆ i64                   ┆ i64                   ┆   ┆ i64                   ┆ i64                  ┆ i64                  ┆ i64                  │\n",
       "╞═══════════════════════╪═══════════════════════╪═══════════════════════╪═══════════════════════╪═══╪═══════════════════════╪══════════════════════╪══════════════════════╪══════════════════════╡\n",
       "│ Southeast Health      ┆ 3                     ┆ 7                     ┆ 7                     ┆ … ┆ 8                     ┆ 8                    ┆ 12                   ┆ 10                   │\n",
       "│ Medical Cente…        ┆                       ┆                       ┆                       ┆   ┆                       ┆                      ┆                      ┆                      │\n",
       "│ St. Vincent's East    ┆ 3                     ┆ 7                     ┆ 7                     ┆ … ┆ 8                     ┆ 8                    ┆ 12                   ┆ 8                    │\n",
       "│ Shelby Baptist        ┆ 3                     ┆ 7                     ┆ 7                     ┆ … ┆ 8                     ┆ 8                    ┆ 12                   ┆ 6                    │\n",
       "│ Medical Center        ┆                       ┆                       ┆                       ┆   ┆                       ┆                      ┆                      ┆                      │\n",
       "│ University Of Alabama ┆ 3                     ┆ 7                     ┆ 7                     ┆ … ┆ 8                     ┆ 8                    ┆ 12                   ┆ 10                   │\n",
       "│ Hospital              ┆                       ┆                       ┆                       ┆   ┆                       ┆                      ┆                      ┆                      │\n",
       "│ Cullman Regional      ┆ 3                     ┆ 7                     ┆ 6                     ┆ … ┆ 8                     ┆ 8                    ┆ 12                   ┆ 11                   │\n",
       "│ Medical Cente…        ┆                       ┆                       ┆                       ┆   ┆                       ┆                      ┆                      ┆                      │\n",
       "│ …                     ┆ …                     ┆ …                     ┆ …                     ┆ … ┆ …                     ┆ …                    ┆ …                    ┆ …                    │\n",
       "│ Baylor Scott & White  ┆ 5                     ┆ 7                     ┆ 4                     ┆ … ┆ 8                     ┆ 8                    ┆ 12                   ┆ 11                   │\n",
       "│ Medical C…            ┆                       ┆                       ┆                       ┆   ┆                       ┆                      ┆                      ┆                      │\n",
       "│ Houston Methodist The ┆ 5                     ┆ 7                     ┆ 7                     ┆ … ┆ 8                     ┆ 8                    ┆ 12                   ┆ 10                   │\n",
       "│ Woodland…             ┆                       ┆                       ┆                       ┆   ┆                       ┆                      ┆                      ┆                      │\n",
       "│ Texas Health Hospital ┆ 3                     ┆ 7                     ┆ 2                     ┆ … ┆ 8                     ┆ 8                    ┆ 12                   ┆ 8                    │\n",
       "│ Frisco                ┆                       ┆                       ┆                       ┆   ┆                       ┆                      ┆                      ┆                      │\n",
       "│ Methodist Midlothian  ┆ 4                     ┆ 7                     ┆ null                  ┆ … ┆ 8                     ┆ 8                    ┆ 12                   ┆ 7                    │\n",
       "│ Medical C…            ┆                       ┆                       ┆                       ┆   ┆                       ┆                      ┆                      ┆                      │\n",
       "│ Texas Health Hospital ┆ 3                     ┆ 7                     ┆ null                  ┆ … ┆ 8                     ┆ 8                    ┆ 12                   ┆ 8                    │\n",
       "│ Mansfiel…             ┆                       ┆                       ┆                       ┆   ┆                       ┆                      ┆                      ┆                      │\n",
       "└───────────────────────┴───────────────────────┴───────────────────────┴───────────────────────┴───┴───────────────────────┴──────────────────────┴──────────────────────┴──────────────────────┘"
      ]
     },
     "execution_count": null,
     "metadata": {},
     "output_type": "execute_result"
    }
   ],
   "source": [
    "(\n",
    "    hospital_df\n",
    "    .filter(pl.col('hospital_overall_rating') >= 3, pl.col('mort_group_measure_count') >= 5)\n",
    ")"
   ]
  },
  {
   "cell_type": "code",
   "execution_count": 153,
   "metadata": {},
   "outputs": [
    {
     "data": {
      "text/html": [
       "<div><style>\n",
       ".dataframe > thead > tr,\n",
       ".dataframe > tbody > tr {\n",
       "  text-align: right;\n",
       "  white-space: pre-wrap;\n",
       "}\n",
       "</style>\n",
       "<small>shape: (1_968, 21)</small><table border=\"1\" class=\"dataframe\"><thead><tr><th>facility_name</th><th>hospital_overall_rating</th><th>mort_group_measure_count</th><th>count_of_facility_mort_measures</th><th>count_of_mort_measures_better</th><th>count_of_mort_measures_no_different</th><th>count_of_mort_measures_worse</th><th>safety_group_measure_count</th><th>count_of_facility_safety_measures</th><th>count_of_safety_measures_better</th><th>count_of_safety_measures_no_different</th><th>count_of_safety_measures_worse</th><th>readm_group_measure_count</th><th>count_of_facility_readm_measures</th><th>count_of_readm_measures_better</th><th>count_of_readm_measures_no_different</th><th>count_of_readm_measures_worse</th><th>pt_exp_group_measure_count</th><th>count_of_facility_pt_exp_measures</th><th>te_group_measure_count</th><th>count_of_facility_te_measures</th></tr><tr><td>str</td><td>i64</td><td>i64</td><td>i64</td><td>i64</td><td>i64</td><td>i64</td><td>i64</td><td>i64</td><td>i64</td><td>i64</td><td>i64</td><td>i64</td><td>i64</td><td>i64</td><td>i64</td><td>i64</td><td>i64</td><td>i64</td><td>i64</td><td>i64</td></tr></thead><tbody><tr><td>&quot;Southeast Health Medical Cente…</td><td>3</td><td>7</td><td>7</td><td>1</td><td>6</td><td>0</td><td>8</td><td>7</td><td>2</td><td>5</td><td>0</td><td>11</td><td>11</td><td>1</td><td>8</td><td>2</td><td>8</td><td>8</td><td>12</td><td>10</td></tr><tr><td>&quot;St. Vincent&#x27;s East&quot;</td><td>3</td><td>7</td><td>7</td><td>0</td><td>7</td><td>0</td><td>8</td><td>7</td><td>1</td><td>6</td><td>0</td><td>11</td><td>9</td><td>0</td><td>8</td><td>1</td><td>8</td><td>8</td><td>12</td><td>8</td></tr><tr><td>&quot;Shelby Baptist Medical Center&quot;</td><td>3</td><td>7</td><td>7</td><td>0</td><td>7</td><td>0</td><td>8</td><td>7</td><td>1</td><td>6</td><td>0</td><td>11</td><td>9</td><td>0</td><td>8</td><td>1</td><td>8</td><td>8</td><td>12</td><td>6</td></tr><tr><td>&quot;University Of Alabama Hospital&quot;</td><td>3</td><td>7</td><td>7</td><td>1</td><td>5</td><td>1</td><td>8</td><td>8</td><td>2</td><td>5</td><td>1</td><td>11</td><td>11</td><td>1</td><td>9</td><td>1</td><td>8</td><td>8</td><td>12</td><td>10</td></tr><tr><td>&quot;Cullman Regional Medical Cente…</td><td>3</td><td>7</td><td>6</td><td>0</td><td>5</td><td>1</td><td>8</td><td>7</td><td>1</td><td>6</td><td>0</td><td>11</td><td>8</td><td>0</td><td>8</td><td>0</td><td>8</td><td>8</td><td>12</td><td>11</td></tr><tr><td>&hellip;</td><td>&hellip;</td><td>&hellip;</td><td>&hellip;</td><td>&hellip;</td><td>&hellip;</td><td>&hellip;</td><td>&hellip;</td><td>&hellip;</td><td>&hellip;</td><td>&hellip;</td><td>&hellip;</td><td>&hellip;</td><td>&hellip;</td><td>&hellip;</td><td>&hellip;</td><td>&hellip;</td><td>&hellip;</td><td>&hellip;</td><td>&hellip;</td><td>&hellip;</td></tr><tr><td>&quot;Baylor Scott &amp; White Medical C…</td><td>5</td><td>7</td><td>4</td><td>0</td><td>4</td><td>0</td><td>8</td><td>3</td><td>1</td><td>2</td><td>0</td><td>11</td><td>9</td><td>1</td><td>8</td><td>0</td><td>8</td><td>8</td><td>12</td><td>11</td></tr><tr><td>&quot;Houston Methodist The Woodland…</td><td>5</td><td>7</td><td>7</td><td>4</td><td>3</td><td>0</td><td>8</td><td>8</td><td>4</td><td>4</td><td>0</td><td>11</td><td>11</td><td>0</td><td>11</td><td>0</td><td>8</td><td>8</td><td>12</td><td>10</td></tr><tr><td>&quot;Texas Health Hospital Frisco&quot;</td><td>3</td><td>7</td><td>2</td><td>0</td><td>2</td><td>0</td><td>8</td><td>5</td><td>0</td><td>5</td><td>0</td><td>11</td><td>5</td><td>1</td><td>4</td><td>0</td><td>8</td><td>8</td><td>12</td><td>8</td></tr><tr><td>&quot;Methodist Midlothian Medical C…</td><td>4</td><td>7</td><td>null</td><td>null</td><td>null</td><td>null</td><td>8</td><td>3</td><td>0</td><td>3</td><td>0</td><td>11</td><td>3</td><td>0</td><td>3</td><td>0</td><td>8</td><td>8</td><td>12</td><td>7</td></tr><tr><td>&quot;Texas Health Hospital Mansfiel…</td><td>3</td><td>7</td><td>null</td><td>null</td><td>null</td><td>null</td><td>8</td><td>3</td><td>0</td><td>3</td><td>0</td><td>11</td><td>3</td><td>0</td><td>3</td><td>0</td><td>8</td><td>8</td><td>12</td><td>8</td></tr></tbody></table></div>"
      ],
      "text/plain": [
       "shape: (1_968, 21)\n",
       "┌───────────────────────┬───────────────────────┬───────────────────────┬───────────────────────┬───┬───────────────────────┬──────────────────────┬──────────────────────┬──────────────────────┐\n",
       "│ facility_name         ┆ hospital_overall_rati ┆ mort_group_measure_co ┆ count_of_facility_mor ┆ … ┆ pt_exp_group_measure_ ┆ count_of_facility_pt ┆ te_group_measure_cou ┆ count_of_facility_te │\n",
       "│ ---                   ┆ ng                    ┆ unt                   ┆ t_measure…            ┆   ┆ count                 ┆ _exp_measu…          ┆ nt                   ┆ _measures            │\n",
       "│ str                   ┆ ---                   ┆ ---                   ┆ ---                   ┆   ┆ ---                   ┆ ---                  ┆ ---                  ┆ ---                  │\n",
       "│                       ┆ i64                   ┆ i64                   ┆ i64                   ┆   ┆ i64                   ┆ i64                  ┆ i64                  ┆ i64                  │\n",
       "╞═══════════════════════╪═══════════════════════╪═══════════════════════╪═══════════════════════╪═══╪═══════════════════════╪══════════════════════╪══════════════════════╪══════════════════════╡\n",
       "│ Southeast Health      ┆ 3                     ┆ 7                     ┆ 7                     ┆ … ┆ 8                     ┆ 8                    ┆ 12                   ┆ 10                   │\n",
       "│ Medical Cente…        ┆                       ┆                       ┆                       ┆   ┆                       ┆                      ┆                      ┆                      │\n",
       "│ St. Vincent's East    ┆ 3                     ┆ 7                     ┆ 7                     ┆ … ┆ 8                     ┆ 8                    ┆ 12                   ┆ 8                    │\n",
       "│ Shelby Baptist        ┆ 3                     ┆ 7                     ┆ 7                     ┆ … ┆ 8                     ┆ 8                    ┆ 12                   ┆ 6                    │\n",
       "│ Medical Center        ┆                       ┆                       ┆                       ┆   ┆                       ┆                      ┆                      ┆                      │\n",
       "│ University Of Alabama ┆ 3                     ┆ 7                     ┆ 7                     ┆ … ┆ 8                     ┆ 8                    ┆ 12                   ┆ 10                   │\n",
       "│ Hospital              ┆                       ┆                       ┆                       ┆   ┆                       ┆                      ┆                      ┆                      │\n",
       "│ Cullman Regional      ┆ 3                     ┆ 7                     ┆ 6                     ┆ … ┆ 8                     ┆ 8                    ┆ 12                   ┆ 11                   │\n",
       "│ Medical Cente…        ┆                       ┆                       ┆                       ┆   ┆                       ┆                      ┆                      ┆                      │\n",
       "│ …                     ┆ …                     ┆ …                     ┆ …                     ┆ … ┆ …                     ┆ …                    ┆ …                    ┆ …                    │\n",
       "│ Baylor Scott & White  ┆ 5                     ┆ 7                     ┆ 4                     ┆ … ┆ 8                     ┆ 8                    ┆ 12                   ┆ 11                   │\n",
       "│ Medical C…            ┆                       ┆                       ┆                       ┆   ┆                       ┆                      ┆                      ┆                      │\n",
       "│ Houston Methodist The ┆ 5                     ┆ 7                     ┆ 7                     ┆ … ┆ 8                     ┆ 8                    ┆ 12                   ┆ 10                   │\n",
       "│ Woodland…             ┆                       ┆                       ┆                       ┆   ┆                       ┆                      ┆                      ┆                      │\n",
       "│ Texas Health Hospital ┆ 3                     ┆ 7                     ┆ 2                     ┆ … ┆ 8                     ┆ 8                    ┆ 12                   ┆ 8                    │\n",
       "│ Frisco                ┆                       ┆                       ┆                       ┆   ┆                       ┆                      ┆                      ┆                      │\n",
       "│ Methodist Midlothian  ┆ 4                     ┆ 7                     ┆ null                  ┆ … ┆ 8                     ┆ 8                    ┆ 12                   ┆ 7                    │\n",
       "│ Medical C…            ┆                       ┆                       ┆                       ┆   ┆                       ┆                      ┆                      ┆                      │\n",
       "│ Texas Health Hospital ┆ 3                     ┆ 7                     ┆ null                  ┆ … ┆ 8                     ┆ 8                    ┆ 12                   ┆ 8                    │\n",
       "│ Mansfiel…             ┆                       ┆                       ┆                       ┆   ┆                       ┆                      ┆                      ┆                      │\n",
       "└───────────────────────┴───────────────────────┴───────────────────────┴───────────────────────┴───┴───────────────────────┴──────────────────────┴──────────────────────┴──────────────────────┘"
      ]
     },
     "execution_count": null,
     "metadata": {},
     "output_type": "execute_result"
    }
   ],
   "source": [
    "(\n",
    "    hospital_df\n",
    "    .filter((pl.col('hospital_overall_rating') >= 3) & (pl.col('mort_group_measure_count') >= 5))\n",
    ")"
   ]
  },
  {
   "cell_type": "code",
   "execution_count": 157,
   "metadata": {},
   "outputs": [
    {
     "data": {
      "text/html": [
       "<div><style>\n",
       ".dataframe > thead > tr,\n",
       ".dataframe > tbody > tr {\n",
       "  text-align: right;\n",
       "  white-space: pre-wrap;\n",
       "}\n",
       "</style>\n",
       "<small>shape: (5, 2)</small><table border=\"1\" class=\"dataframe\"><thead><tr><th>hospital_overall_rating</th><th>total</th></tr><tr><td>i64</td><td>u32</td></tr></thead><tbody><tr><td>3</td><td>824</td></tr><tr><td>4</td><td>763</td></tr><tr><td>2</td><td>590</td></tr><tr><td>5</td><td>381</td></tr><tr><td>1</td><td>276</td></tr></tbody></table></div>"
      ],
      "text/plain": [
       "shape: (5, 2)\n",
       "┌─────────────────────────┬───────┐\n",
       "│ hospital_overall_rating ┆ total │\n",
       "│ ---                     ┆ ---   │\n",
       "│ i64                     ┆ u32   │\n",
       "╞═════════════════════════╪═══════╡\n",
       "│ 3                       ┆ 824   │\n",
       "│ 4                       ┆ 763   │\n",
       "│ 2                       ┆ 590   │\n",
       "│ 5                       ┆ 381   │\n",
       "│ 1                       ┆ 276   │\n",
       "└─────────────────────────┴───────┘"
      ]
     },
     "execution_count": null,
     "metadata": {},
     "output_type": "execute_result"
    }
   ],
   "source": [
    "(\n",
    "    stars\n",
    "    # .select('facility_name', 'hospital_overall_rating')\n",
    "    .group_by('hospital_overall_rating')\n",
    "    .agg(total=pl.col('facility_name').count())\n",
    "    .sort('total', descending=True)\n",
    ")"
   ]
  },
  {
   "cell_type": "code",
   "execution_count": 168,
   "metadata": {},
   "outputs": [
    {
     "name": "stdout",
     "output_type": "stream",
     "text": [
      "shape: (5_398, 31)\n",
      "┌─────────────────────────────────┬───────────┬───────┬──────────┬───┬────────────────────────────┬─────────────────────────────────┬────────────────────────┬───────────────────────────────┐\n",
      "│ facility_name                   ┆ city_town ┆ state ┆ zip_code ┆ … ┆ pt_exp_group_measure_count ┆ count_of_facility_pt_exp_measu… ┆ te_group_measure_count ┆ count_of_facility_te_measures │\n",
      "│ ---                             ┆ ---       ┆ ---   ┆ ---      ┆   ┆ ---                        ┆ ---                             ┆ ---                    ┆ ---                           │\n",
      "│ str                             ┆ str       ┆ str   ┆ i64      ┆   ┆ str                        ┆ str                             ┆ str                    ┆ str                           │\n",
      "╞═════════════════════════════════╪═══════════╪═══════╪══════════╪═══╪════════════════════════════╪═════════════════════════════════╪════════════════════════╪═══════════════════════════════╡\n",
      "│ Southeast Health Medical Cente… ┆ Dothan    ┆ Al    ┆ 36301    ┆ … ┆ 8                          ┆ 8                               ┆ 12                     ┆ 10                            │\n",
      "│ Marshall Medical Centers        ┆ Boaz      ┆ Al    ┆ 35957    ┆ … ┆ 8                          ┆ 8                               ┆ 12                     ┆ 12                            │\n",
      "│ North Alabama Medical Center    ┆ Florence  ┆ Al    ┆ 35630    ┆ … ┆ 8                          ┆ 8                               ┆ 12                     ┆ 11                            │\n",
      "│ Mizell Memorial Hospital        ┆ Opp       ┆ Al    ┆ 36467    ┆ … ┆ 8                          ┆ 8                               ┆ 12                     ┆ 7                             │\n",
      "│ Crenshaw Community Hospital     ┆ Luverne   ┆ Al    ┆ 36049    ┆ … ┆ 8                          ┆ Not Available                   ┆ 12                     ┆ 6                             │\n",
      "│ …                               ┆ …         ┆ …     ┆ …        ┆ … ┆ …                          ┆ …                               ┆ …                      ┆ …                             │\n",
      "│ Trinity Regional Hospital Sach… ┆ Sachse    ┆ Tx    ┆ 75048    ┆ … ┆ Not Available              ┆ Not Available                   ┆ Not Available          ┆ Not Available                 │\n",
      "│ East Houston Medical Center     ┆ Houston   ┆ Tx    ┆ 77049    ┆ … ┆ Not Available              ┆ Not Available                   ┆ Not Available          ┆ Not Available                 │\n",
      "│ Advanced Dallas Hospitals And … ┆ Dallas    ┆ Tx    ┆ 75231    ┆ … ┆ Not Available              ┆ Not Available                   ┆ Not Available          ┆ Not Available                 │\n",
      "│ Legent Surgical Hospital Plano  ┆ Plano     ┆ Tx    ┆ 75075    ┆ … ┆ 8                          ┆ Not Available                   ┆ 12                     ┆ Not Available                 │\n",
      "│ Graham Regional Medical Center  ┆ Graham    ┆ Tx    ┆ 76450    ┆ … ┆ Not Available              ┆ Not Available                   ┆ Not Available          ┆ Not Available                 │\n",
      "└─────────────────────────────────┴───────────┴───────┴──────────┴───┴────────────────────────────┴─────────────────────────────────┴────────────────────────┴───────────────────────────────┘\n",
      "shape: (5_398, 31)\n",
      "┌─────────────────────────────────┬───────────┬───────┬──────────┬───┬────────────────────────────┬─────────────────────────────────┬────────────────────────┬───────────────────────────────┐\n",
      "│ facility_name                   ┆ city_town ┆ state ┆ zip_code ┆ … ┆ pt_exp_group_measure_count ┆ count_of_facility_pt_exp_measu… ┆ te_group_measure_count ┆ count_of_facility_te_measures │\n",
      "│ ---                             ┆ ---       ┆ ---   ┆ ---      ┆   ┆ ---                        ┆ ---                             ┆ ---                    ┆ ---                           │\n",
      "│ str                             ┆ str       ┆ str   ┆ i64      ┆   ┆ str                        ┆ str                             ┆ str                    ┆ str                           │\n",
      "╞═════════════════════════════════╪═══════════╪═══════╪══════════╪═══╪════════════════════════════╪═════════════════════════════════╪════════════════════════╪═══════════════════════════════╡\n",
      "│ Southeast Health Medical Cente… ┆ Dothan    ┆ Al    ┆ 36301    ┆ … ┆ 8                          ┆ 8                               ┆ 12                     ┆ 10                            │\n",
      "│ Marshall Medical Centers        ┆ Boaz      ┆ Al    ┆ 35957    ┆ … ┆ 8                          ┆ 8                               ┆ 12                     ┆ 12                            │\n",
      "│ North Alabama Medical Center    ┆ Florence  ┆ Al    ┆ 35630    ┆ … ┆ 8                          ┆ 8                               ┆ 12                     ┆ 11                            │\n",
      "│ Mizell Memorial Hospital        ┆ Opp       ┆ Al    ┆ 36467    ┆ … ┆ 8                          ┆ 8                               ┆ 12                     ┆ 7                             │\n",
      "│ Crenshaw Community Hospital     ┆ Luverne   ┆ Al    ┆ 36049    ┆ … ┆ 8                          ┆ Not Available                   ┆ 12                     ┆ 6                             │\n",
      "│ …                               ┆ …         ┆ …     ┆ …        ┆ … ┆ …                          ┆ …                               ┆ …                      ┆ …                             │\n",
      "│ Trinity Regional Hospital Sach… ┆ Sachse    ┆ Tx    ┆ 75048    ┆ … ┆ Not Available              ┆ Not Available                   ┆ Not Available          ┆ Not Available                 │\n",
      "│ East Houston Medical Center     ┆ Houston   ┆ Tx    ┆ 77049    ┆ … ┆ Not Available              ┆ Not Available                   ┆ Not Available          ┆ Not Available                 │\n",
      "│ Advanced Dallas Hospitals And … ┆ Dallas    ┆ Tx    ┆ 75231    ┆ … ┆ Not Available              ┆ Not Available                   ┆ Not Available          ┆ Not Available                 │\n",
      "│ Legent Surgical Hospital Plano  ┆ Plano     ┆ Tx    ┆ 75075    ┆ … ┆ 8                          ┆ Not Available                   ┆ 12                     ┆ Not Available                 │\n",
      "│ Graham Regional Medical Center  ┆ Graham    ┆ Tx    ┆ 76450    ┆ … ┆ Not Available              ┆ Not Available                   ┆ Not Available          ┆ Not Available                 │\n",
      "└─────────────────────────────────┴───────────┴───────┴──────────┴───┴────────────────────────────┴─────────────────────────────────┴────────────────────────┴───────────────────────────────┘\n"
     ]
    }
   ],
   "source": [
    "hospital_quality_metrics_1 = (\n",
    "    hos_raw\n",
    "    # clean and transform column names\n",
    "    .rename(lambda col: col.lower().replace(' ', '_').replace('/', '_'))\n",
    "    # convert string row values to title case\n",
    "    .with_columns(cs.string().str.to_titlecase())\n",
    "    # working with columns\n",
    "    .select(cs.all() - (cs.ends_with('note') | pl.col('facility_id') | pl.col('address')))\n",
    ")\n",
    "\n",
    "# inspect output\n",
    "print(hospital_quality_metrics_1)"
   ]
  },
  {
   "cell_type": "code",
   "execution_count": 182,
   "metadata": {},
   "outputs": [
    {
     "name": "stdout",
     "output_type": "stream",
     "text": [
      "shape: (5, 26)\n",
      "┌─────────────────────────────────┬───────┬──────────────────────┬────────────────────┬───┬──────────────────────┬──────────────────────────┬──────────────────┬──────────────────────┐\n",
      "│ hospital                        ┆ state ┆ hospital_type        ┆ emergency_services ┆ … ┆ pt_exp_group_measure ┆ facility_pt_exp_measures ┆ te_group_measure ┆ facility_te_measures │\n",
      "│ ---                             ┆ ---   ┆ ---                  ┆ ---                ┆   ┆ ---                  ┆ ---                      ┆ ---              ┆ ---                  │\n",
      "│ str                             ┆ str   ┆ str                  ┆ str                ┆   ┆ i64                  ┆ i64                      ┆ i64              ┆ i64                  │\n",
      "╞═════════════════════════════════╪═══════╪══════════════════════╪════════════════════╪═══╪══════════════════════╪══════════════════════════╪══════════════════╪══════════════════════╡\n",
      "│ Southeast Health Medical Cente… ┆ Al    ┆ Acute Care Hospitals ┆ Yes                ┆ … ┆ 8                    ┆ 8                        ┆ 12               ┆ 10                   │\n",
      "│ Marshall Medical Centers        ┆ Al    ┆ Acute Care Hospitals ┆ Yes                ┆ … ┆ 8                    ┆ 8                        ┆ 12               ┆ 12                   │\n",
      "│ North Alabama Medical Center    ┆ Al    ┆ Acute Care Hospitals ┆ Yes                ┆ … ┆ 8                    ┆ 8                        ┆ 12               ┆ 11                   │\n",
      "│ Mizell Memorial Hospital        ┆ Al    ┆ Acute Care Hospitals ┆ Yes                ┆ … ┆ 8                    ┆ 8                        ┆ 12               ┆ 7                    │\n",
      "│ Crenshaw Community Hospital     ┆ Al    ┆ Acute Care Hospitals ┆ Yes                ┆ … ┆ 8                    ┆ null                     ┆ 12               ┆ 6                    │\n",
      "└─────────────────────────────────┴───────┴──────────────────────┴────────────────────┴───┴──────────────────────┴──────────────────────────┴──────────────────┴──────────────────────┘\n",
      "shape: (5, 26)\n",
      "┌─────────────────────────────────┬───────┬──────────────────────┬────────────────────┬───┬──────────────────────┬──────────────────────────┬──────────────────┬──────────────────────┐\n",
      "│ hospital                        ┆ state ┆ hospital_type        ┆ emergency_services ┆ … ┆ pt_exp_group_measure ┆ facility_pt_exp_measures ┆ te_group_measure ┆ facility_te_measures │\n",
      "│ ---                             ┆ ---   ┆ ---                  ┆ ---                ┆   ┆ ---                  ┆ ---                      ┆ ---              ┆ ---                  │\n",
      "│ str                             ┆ str   ┆ str                  ┆ str                ┆   ┆ i64                  ┆ i64                      ┆ i64              ┆ i64                  │\n",
      "╞═════════════════════════════════╪═══════╪══════════════════════╪════════════════════╪═══╪══════════════════════╪══════════════════════════╪══════════════════╪══════════════════════╡\n",
      "│ Southeast Health Medical Cente… ┆ Al    ┆ Acute Care Hospitals ┆ Yes                ┆ … ┆ 8                    ┆ 8                        ┆ 12               ┆ 10                   │\n",
      "│ Marshall Medical Centers        ┆ Al    ┆ Acute Care Hospitals ┆ Yes                ┆ … ┆ 8                    ┆ 8                        ┆ 12               ┆ 12                   │\n",
      "│ North Alabama Medical Center    ┆ Al    ┆ Acute Care Hospitals ┆ Yes                ┆ … ┆ 8                    ┆ 8                        ┆ 12               ┆ 11                   │\n",
      "│ Mizell Memorial Hospital        ┆ Al    ┆ Acute Care Hospitals ┆ Yes                ┆ … ┆ 8                    ┆ 8                        ┆ 12               ┆ 7                    │\n",
      "│ Crenshaw Community Hospital     ┆ Al    ┆ Acute Care Hospitals ┆ Yes                ┆ … ┆ 8                    ┆ null                     ┆ 12               ┆ 6                    │\n",
      "└─────────────────────────────────┴───────┴──────────────────────┴────────────────────┴───┴──────────────────────┴──────────────────────────┴──────────────────┴──────────────────────┘\n"
     ]
    }
   ],
   "source": [
    "hospital_quality_metrics_2 = (\n",
    "    hos_raw\n",
    "    # clean and transform column names\n",
    "    .rename(lambda col: col.lower().replace(' ', '_').replace('/', '_'))\n",
    "    # convert string row values to title case\n",
    "    .with_columns(cs.string().str.to_titlecase())\n",
    "    # select desired columns\n",
    "    .select(\n",
    "        'facility_name', 'state', 'hospital_type', 'emergency_services',\n",
    "        'meets_criteria_for_promoting_interoperability_of_ehrs',\n",
    "        'meets_criteria_for_birthing_friendly_designation',\n",
    "        'hospital_overall_rating',\n",
    "        # select all column names containing 'count' and remove county_parish; convert to integer\n",
    "        cs.contains('count').exclude('county_parish').cast(pl.Int64, strict=False)\n",
    "    )\n",
    "    # clean and trasform column names further\n",
    "    .rename(lambda col: col.replace('count_of_', '').replace('_count', ''))\n",
    "    .rename(\n",
    "        {\n",
    "        'facility_name': 'hospital',\n",
    "        'meets_criteria_for_promoting_interoperability_of_ehrs': 'promoting_interoperability',\n",
    "        'meets_criteria_for_birthing_friendly_designation': 'birthing_friendly'\n",
    "        }\n",
    "    )\n",
    ")\n",
    "\n",
    "# inspect output\n",
    "print(hospital_quality_metrics_2.head())"
   ]
  },
  {
   "cell_type": "code",
   "execution_count": null,
   "metadata": {},
   "outputs": [],
   "source": []
  }
 ],
 "metadata": {
  "language_info": {
   "name": "python"
  }
 },
 "nbformat": 4,
 "nbformat_minor": 2
}
